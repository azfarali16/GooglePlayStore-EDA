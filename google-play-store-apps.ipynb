{
 "cells": [
  {
   "cell_type": "markdown",
   "id": "bbe0d09a",
   "metadata": {
    "papermill": {
     "duration": 0.010699,
     "end_time": "2024-08-07T13:55:41.086019",
     "exception": false,
     "start_time": "2024-08-07T13:55:41.075320",
     "status": "completed"
    },
    "tags": []
   },
   "source": [
    "# Introduction\n",
    "\n",
    "In today's digital landscape, the Google Play Store serves as a pivotal platform for Android apps, housing millions of applications spanning various categories. For developers and marketers, understanding user preferences, sentiments, and behaviors within this ecosystem is paramount for app success."
   ]
  },
  {
   "cell_type": "markdown",
   "id": "33c8f1c4",
   "metadata": {
    "papermill": {
     "duration": 0.009218,
     "end_time": "2024-08-07T13:55:41.105415",
     "exception": false,
     "start_time": "2024-08-07T13:55:41.096197",
     "status": "completed"
    },
    "tags": []
   },
   "source": [
    "# Objective\n",
    "As a data analyst, I aim to utilize two datasets: one containing Google Play app information and another with user reviews and sentiment analysis to identify the key factors contributing to the success of mobile applications on the Google Play Store. Ultimately, this analysis will provide actionable insights to app developers and marketers, enabling them to optimize app development, refine marketing strategies, and enhance user experiences, thereby increasing the likelihood of app success on the Google Play Store."
   ]
  },
  {
   "cell_type": "code",
   "execution_count": 1,
   "id": "b432e29d",
   "metadata": {
    "_cell_guid": "b1076dfc-b9ad-4769-8c92-a6c4dae69d19",
    "_uuid": "8f2839f25d086af736a60e9eeb907d3b93b6e0e5",
    "execution": {
     "iopub.execute_input": "2024-08-07T13:55:41.125801Z",
     "iopub.status.busy": "2024-08-07T13:55:41.125445Z",
     "iopub.status.idle": "2024-08-07T13:55:43.030257Z",
     "shell.execute_reply": "2024-08-07T13:55:43.029066Z"
    },
    "papermill": {
     "duration": 1.917726,
     "end_time": "2024-08-07T13:55:43.032557",
     "exception": false,
     "start_time": "2024-08-07T13:55:41.114831",
     "status": "completed"
    },
    "tags": []
   },
   "outputs": [
    {
     "name": "stdout",
     "output_type": "stream",
     "text": [
      "/kaggle/input/google-play-store-apps/googleplaystore.csv\n",
      "/kaggle/input/google-play-store-apps/license.txt\n",
      "/kaggle/input/google-play-store-apps/googleplaystore_user_reviews.csv\n"
     ]
    }
   ],
   "source": [
    "import numpy as np # linear algebra|\n",
    "import pandas as pd # data processing, CSV file I/O (e.g. pd.read_csv)\n",
    "from scipy import stats\n",
    "import matplotlib.pyplot as plt\n",
    "import seaborn as sns\n",
    "plt.style.use('ggplot')\n",
    "\n",
    "import warnings\n",
    "warnings.filterwarnings('ignore')\n",
    "\n",
    "import os\n",
    "for dirname, _, filenames in os.walk('/kaggle/input'):\n",
    "    for filename in filenames:\n",
    "        print(os.path.join(dirname, filename))"
   ]
  },
  {
   "cell_type": "code",
   "execution_count": 2,
   "id": "2738443e",
   "metadata": {
    "execution": {
     "iopub.execute_input": "2024-08-07T13:55:43.054199Z",
     "iopub.status.busy": "2024-08-07T13:55:43.053711Z",
     "iopub.status.idle": "2024-08-07T13:55:43.360509Z",
     "shell.execute_reply": "2024-08-07T13:55:43.359682Z"
    },
    "papermill": {
     "duration": 0.319708,
     "end_time": "2024-08-07T13:55:43.362915",
     "exception": false,
     "start_time": "2024-08-07T13:55:43.043207",
     "status": "completed"
    },
    "tags": []
   },
   "outputs": [],
   "source": [
    "playstore = pd.read_csv('/kaggle/input/google-play-store-apps/googleplaystore.csv')\n",
    "user_reviews = pd.read_csv('/kaggle/input/google-play-store-apps/googleplaystore_user_reviews.csv')"
   ]
  },
  {
   "cell_type": "code",
   "execution_count": 3,
   "id": "0401865d",
   "metadata": {
    "execution": {
     "iopub.execute_input": "2024-08-07T13:55:43.383816Z",
     "iopub.status.busy": "2024-08-07T13:55:43.383469Z",
     "iopub.status.idle": "2024-08-07T13:55:43.410585Z",
     "shell.execute_reply": "2024-08-07T13:55:43.409643Z"
    },
    "papermill": {
     "duration": 0.039877,
     "end_time": "2024-08-07T13:55:43.412603",
     "exception": false,
     "start_time": "2024-08-07T13:55:43.372726",
     "status": "completed"
    },
    "tags": []
   },
   "outputs": [
    {
     "data": {
      "text/html": [
       "<div>\n",
       "<style scoped>\n",
       "    .dataframe tbody tr th:only-of-type {\n",
       "        vertical-align: middle;\n",
       "    }\n",
       "\n",
       "    .dataframe tbody tr th {\n",
       "        vertical-align: top;\n",
       "    }\n",
       "\n",
       "    .dataframe thead th {\n",
       "        text-align: right;\n",
       "    }\n",
       "</style>\n",
       "<table border=\"1\" class=\"dataframe\">\n",
       "  <thead>\n",
       "    <tr style=\"text-align: right;\">\n",
       "      <th></th>\n",
       "      <th>App</th>\n",
       "      <th>Category</th>\n",
       "      <th>Rating</th>\n",
       "      <th>Reviews</th>\n",
       "      <th>Size</th>\n",
       "      <th>Installs</th>\n",
       "      <th>Type</th>\n",
       "      <th>Price</th>\n",
       "      <th>Content Rating</th>\n",
       "      <th>Genres</th>\n",
       "      <th>Last Updated</th>\n",
       "      <th>Current Ver</th>\n",
       "      <th>Android Ver</th>\n",
       "    </tr>\n",
       "  </thead>\n",
       "  <tbody>\n",
       "    <tr>\n",
       "      <th>0</th>\n",
       "      <td>Photo Editor &amp; Candy Camera &amp; Grid &amp; ScrapBook</td>\n",
       "      <td>ART_AND_DESIGN</td>\n",
       "      <td>4.1</td>\n",
       "      <td>159</td>\n",
       "      <td>19M</td>\n",
       "      <td>10,000+</td>\n",
       "      <td>Free</td>\n",
       "      <td>0</td>\n",
       "      <td>Everyone</td>\n",
       "      <td>Art &amp; Design</td>\n",
       "      <td>January 7, 2018</td>\n",
       "      <td>1.0.0</td>\n",
       "      <td>4.0.3 and up</td>\n",
       "    </tr>\n",
       "    <tr>\n",
       "      <th>1</th>\n",
       "      <td>Coloring book moana</td>\n",
       "      <td>ART_AND_DESIGN</td>\n",
       "      <td>3.9</td>\n",
       "      <td>967</td>\n",
       "      <td>14M</td>\n",
       "      <td>500,000+</td>\n",
       "      <td>Free</td>\n",
       "      <td>0</td>\n",
       "      <td>Everyone</td>\n",
       "      <td>Art &amp; Design;Pretend Play</td>\n",
       "      <td>January 15, 2018</td>\n",
       "      <td>2.0.0</td>\n",
       "      <td>4.0.3 and up</td>\n",
       "    </tr>\n",
       "    <tr>\n",
       "      <th>2</th>\n",
       "      <td>U Launcher Lite – FREE Live Cool Themes, Hide ...</td>\n",
       "      <td>ART_AND_DESIGN</td>\n",
       "      <td>4.7</td>\n",
       "      <td>87510</td>\n",
       "      <td>8.7M</td>\n",
       "      <td>5,000,000+</td>\n",
       "      <td>Free</td>\n",
       "      <td>0</td>\n",
       "      <td>Everyone</td>\n",
       "      <td>Art &amp; Design</td>\n",
       "      <td>August 1, 2018</td>\n",
       "      <td>1.2.4</td>\n",
       "      <td>4.0.3 and up</td>\n",
       "    </tr>\n",
       "    <tr>\n",
       "      <th>3</th>\n",
       "      <td>Sketch - Draw &amp; Paint</td>\n",
       "      <td>ART_AND_DESIGN</td>\n",
       "      <td>4.5</td>\n",
       "      <td>215644</td>\n",
       "      <td>25M</td>\n",
       "      <td>50,000,000+</td>\n",
       "      <td>Free</td>\n",
       "      <td>0</td>\n",
       "      <td>Teen</td>\n",
       "      <td>Art &amp; Design</td>\n",
       "      <td>June 8, 2018</td>\n",
       "      <td>Varies with device</td>\n",
       "      <td>4.2 and up</td>\n",
       "    </tr>\n",
       "    <tr>\n",
       "      <th>4</th>\n",
       "      <td>Pixel Draw - Number Art Coloring Book</td>\n",
       "      <td>ART_AND_DESIGN</td>\n",
       "      <td>4.3</td>\n",
       "      <td>967</td>\n",
       "      <td>2.8M</td>\n",
       "      <td>100,000+</td>\n",
       "      <td>Free</td>\n",
       "      <td>0</td>\n",
       "      <td>Everyone</td>\n",
       "      <td>Art &amp; Design;Creativity</td>\n",
       "      <td>June 20, 2018</td>\n",
       "      <td>1.1</td>\n",
       "      <td>4.4 and up</td>\n",
       "    </tr>\n",
       "  </tbody>\n",
       "</table>\n",
       "</div>"
      ],
      "text/plain": [
       "                                                 App        Category  Rating  \\\n",
       "0     Photo Editor & Candy Camera & Grid & ScrapBook  ART_AND_DESIGN     4.1   \n",
       "1                                Coloring book moana  ART_AND_DESIGN     3.9   \n",
       "2  U Launcher Lite – FREE Live Cool Themes, Hide ...  ART_AND_DESIGN     4.7   \n",
       "3                              Sketch - Draw & Paint  ART_AND_DESIGN     4.5   \n",
       "4              Pixel Draw - Number Art Coloring Book  ART_AND_DESIGN     4.3   \n",
       "\n",
       "  Reviews  Size     Installs  Type Price Content Rating  \\\n",
       "0     159   19M      10,000+  Free     0       Everyone   \n",
       "1     967   14M     500,000+  Free     0       Everyone   \n",
       "2   87510  8.7M   5,000,000+  Free     0       Everyone   \n",
       "3  215644   25M  50,000,000+  Free     0           Teen   \n",
       "4     967  2.8M     100,000+  Free     0       Everyone   \n",
       "\n",
       "                      Genres      Last Updated         Current Ver  \\\n",
       "0               Art & Design   January 7, 2018               1.0.0   \n",
       "1  Art & Design;Pretend Play  January 15, 2018               2.0.0   \n",
       "2               Art & Design    August 1, 2018               1.2.4   \n",
       "3               Art & Design      June 8, 2018  Varies with device   \n",
       "4    Art & Design;Creativity     June 20, 2018                 1.1   \n",
       "\n",
       "    Android Ver  \n",
       "0  4.0.3 and up  \n",
       "1  4.0.3 and up  \n",
       "2  4.0.3 and up  \n",
       "3    4.2 and up  \n",
       "4    4.4 and up  "
      ]
     },
     "execution_count": 3,
     "metadata": {},
     "output_type": "execute_result"
    }
   ],
   "source": [
    "playstore.head()"
   ]
  },
  {
   "cell_type": "code",
   "execution_count": 4,
   "id": "17c30b14",
   "metadata": {
    "execution": {
     "iopub.execute_input": "2024-08-07T13:55:43.434044Z",
     "iopub.status.busy": "2024-08-07T13:55:43.433392Z",
     "iopub.status.idle": "2024-08-07T13:55:43.438203Z",
     "shell.execute_reply": "2024-08-07T13:55:43.437272Z"
    },
    "papermill": {
     "duration": 0.018064,
     "end_time": "2024-08-07T13:55:43.440622",
     "exception": false,
     "start_time": "2024-08-07T13:55:43.422558",
     "status": "completed"
    },
    "tags": []
   },
   "outputs": [
    {
     "name": "stdout",
     "output_type": "stream",
     "text": [
      "(10841, 13)\n",
      "\n",
      "\n",
      "(64295, 5)\n"
     ]
    }
   ],
   "source": [
    "print(playstore.shape)\n",
    "print('\\n')\n",
    "print(user_reviews.shape)"
   ]
  },
  {
   "cell_type": "code",
   "execution_count": 5,
   "id": "b36bc919",
   "metadata": {
    "execution": {
     "iopub.execute_input": "2024-08-07T13:55:43.462386Z",
     "iopub.status.busy": "2024-08-07T13:55:43.461777Z",
     "iopub.status.idle": "2024-08-07T13:55:43.504785Z",
     "shell.execute_reply": "2024-08-07T13:55:43.503685Z"
    },
    "papermill": {
     "duration": 0.056281,
     "end_time": "2024-08-07T13:55:43.506975",
     "exception": false,
     "start_time": "2024-08-07T13:55:43.450694",
     "status": "completed"
    },
    "tags": []
   },
   "outputs": [
    {
     "name": "stdout",
     "output_type": "stream",
     "text": [
      "<class 'pandas.core.frame.DataFrame'>\n",
      "RangeIndex: 10841 entries, 0 to 10840\n",
      "Data columns (total 13 columns):\n",
      " #   Column          Non-Null Count  Dtype  \n",
      "---  ------          --------------  -----  \n",
      " 0   App             10841 non-null  object \n",
      " 1   Category        10841 non-null  object \n",
      " 2   Rating          9367 non-null   float64\n",
      " 3   Reviews         10841 non-null  object \n",
      " 4   Size            10841 non-null  object \n",
      " 5   Installs        10841 non-null  object \n",
      " 6   Type            10840 non-null  object \n",
      " 7   Price           10841 non-null  object \n",
      " 8   Content Rating  10840 non-null  object \n",
      " 9   Genres          10841 non-null  object \n",
      " 10  Last Updated    10841 non-null  object \n",
      " 11  Current Ver     10833 non-null  object \n",
      " 12  Android Ver     10838 non-null  object \n",
      "dtypes: float64(1), object(12)\n",
      "memory usage: 1.1+ MB\n",
      "None\n",
      "\n",
      "\n",
      "<class 'pandas.core.frame.DataFrame'>\n",
      "RangeIndex: 64295 entries, 0 to 64294\n",
      "Data columns (total 5 columns):\n",
      " #   Column                  Non-Null Count  Dtype  \n",
      "---  ------                  --------------  -----  \n",
      " 0   App                     64295 non-null  object \n",
      " 1   Translated_Review       37427 non-null  object \n",
      " 2   Sentiment               37432 non-null  object \n",
      " 3   Sentiment_Polarity      37432 non-null  float64\n",
      " 4   Sentiment_Subjectivity  37432 non-null  float64\n",
      "dtypes: float64(2), object(3)\n",
      "memory usage: 2.5+ MB\n",
      "None\n"
     ]
    }
   ],
   "source": [
    "print(playstore.info())\n",
    "print('\\n')\n",
    "print(user_reviews.info())"
   ]
  },
  {
   "cell_type": "code",
   "execution_count": 6,
   "id": "8ace3cdb",
   "metadata": {
    "execution": {
     "iopub.execute_input": "2024-08-07T13:55:43.528582Z",
     "iopub.status.busy": "2024-08-07T13:55:43.528250Z",
     "iopub.status.idle": "2024-08-07T13:55:43.551312Z",
     "shell.execute_reply": "2024-08-07T13:55:43.550107Z"
    },
    "papermill": {
     "duration": 0.036125,
     "end_time": "2024-08-07T13:55:43.553331",
     "exception": false,
     "start_time": "2024-08-07T13:55:43.517206",
     "status": "completed"
    },
    "tags": []
   },
   "outputs": [
    {
     "name": "stdout",
     "output_type": "stream",
     "text": [
      "App                  0\n",
      "Category             0\n",
      "Rating            1474\n",
      "Reviews              0\n",
      "Size                 0\n",
      "Installs             0\n",
      "Type                 1\n",
      "Price                0\n",
      "Content Rating       1\n",
      "Genres               0\n",
      "Last Updated         0\n",
      "Current Ver          8\n",
      "Android Ver          3\n",
      "dtype: int64\n",
      "\n",
      "\n",
      "App                           0\n",
      "Translated_Review         26868\n",
      "Sentiment                 26863\n",
      "Sentiment_Polarity        26863\n",
      "Sentiment_Subjectivity    26863\n",
      "dtype: int64\n"
     ]
    }
   ],
   "source": [
    "print(playstore.isnull().sum())\n",
    "print('\\n')\n",
    "print(user_reviews.isnull().sum())"
   ]
  },
  {
   "cell_type": "markdown",
   "id": "5fbc256c",
   "metadata": {
    "papermill": {
     "duration": 0.00996,
     "end_time": "2024-08-07T13:55:43.573491",
     "exception": false,
     "start_time": "2024-08-07T13:55:43.563531",
     "status": "completed"
    },
    "tags": []
   },
   "source": [
    "# Data Preprocessing"
   ]
  },
  {
   "cell_type": "code",
   "execution_count": 7,
   "id": "6ebbbb48",
   "metadata": {
    "execution": {
     "iopub.execute_input": "2024-08-07T13:55:43.595138Z",
     "iopub.status.busy": "2024-08-07T13:55:43.594773Z",
     "iopub.status.idle": "2024-08-07T13:55:43.608314Z",
     "shell.execute_reply": "2024-08-07T13:55:43.607393Z"
    },
    "papermill": {
     "duration": 0.026691,
     "end_time": "2024-08-07T13:55:43.610281",
     "exception": false,
     "start_time": "2024-08-07T13:55:43.583590",
     "status": "completed"
    },
    "tags": []
   },
   "outputs": [
    {
     "data": {
      "text/plain": [
       "App                  0\n",
       "Category             0\n",
       "Rating            1474\n",
       "Reviews              0\n",
       "Size                 0\n",
       "Installs             0\n",
       "Type                 1\n",
       "Price                0\n",
       "Content Rating       1\n",
       "Genres               0\n",
       "Last Updated         0\n",
       "Current Ver          8\n",
       "Android Ver          3\n",
       "dtype: int64"
      ]
     },
     "execution_count": 7,
     "metadata": {},
     "output_type": "execute_result"
    }
   ],
   "source": [
    "#handling missing values\n",
    "playstore.isna().sum()"
   ]
  },
  {
   "cell_type": "code",
   "execution_count": 8,
   "id": "ca162838",
   "metadata": {
    "execution": {
     "iopub.execute_input": "2024-08-07T13:55:43.632710Z",
     "iopub.status.busy": "2024-08-07T13:55:43.631860Z",
     "iopub.status.idle": "2024-08-07T13:55:43.658746Z",
     "shell.execute_reply": "2024-08-07T13:55:43.657938Z"
    },
    "papermill": {
     "duration": 0.040408,
     "end_time": "2024-08-07T13:55:43.660989",
     "exception": false,
     "start_time": "2024-08-07T13:55:43.620581",
     "status": "completed"
    },
    "tags": []
   },
   "outputs": [],
   "source": [
    "threshold = len(playstore) * 0.05\n",
    "cols_to_drop = playstore.columns[playstore.isna().sum() <= threshold]\n",
    "playstore.dropna(subset=cols_to_drop,inplace=True)"
   ]
  },
  {
   "cell_type": "code",
   "execution_count": 9,
   "id": "04e32580",
   "metadata": {
    "execution": {
     "iopub.execute_input": "2024-08-07T13:55:43.683289Z",
     "iopub.status.busy": "2024-08-07T13:55:43.682951Z",
     "iopub.status.idle": "2024-08-07T13:55:43.696844Z",
     "shell.execute_reply": "2024-08-07T13:55:43.695959Z"
    },
    "papermill": {
     "duration": 0.027443,
     "end_time": "2024-08-07T13:55:43.698795",
     "exception": false,
     "start_time": "2024-08-07T13:55:43.671352",
     "status": "completed"
    },
    "tags": []
   },
   "outputs": [
    {
     "data": {
      "text/plain": [
       "App                  0\n",
       "Category             0\n",
       "Rating            1469\n",
       "Reviews              0\n",
       "Size                 0\n",
       "Installs             0\n",
       "Type                 0\n",
       "Price                0\n",
       "Content Rating       0\n",
       "Genres               0\n",
       "Last Updated         0\n",
       "Current Ver          0\n",
       "Android Ver          0\n",
       "dtype: int64"
      ]
     },
     "execution_count": 9,
     "metadata": {},
     "output_type": "execute_result"
    }
   ],
   "source": [
    "playstore.isna().sum()"
   ]
  },
  {
   "cell_type": "code",
   "execution_count": 10,
   "id": "bfba1f5c",
   "metadata": {
    "execution": {
     "iopub.execute_input": "2024-08-07T13:55:43.720737Z",
     "iopub.status.busy": "2024-08-07T13:55:43.720408Z",
     "iopub.status.idle": "2024-08-07T13:55:43.738840Z",
     "shell.execute_reply": "2024-08-07T13:55:43.737912Z"
    },
    "papermill": {
     "duration": 0.031863,
     "end_time": "2024-08-07T13:55:43.741015",
     "exception": false,
     "start_time": "2024-08-07T13:55:43.709152",
     "status": "completed"
    },
    "tags": []
   },
   "outputs": [
    {
     "data": {
      "text/html": [
       "<div>\n",
       "<style scoped>\n",
       "    .dataframe tbody tr th:only-of-type {\n",
       "        vertical-align: middle;\n",
       "    }\n",
       "\n",
       "    .dataframe tbody tr th {\n",
       "        vertical-align: top;\n",
       "    }\n",
       "\n",
       "    .dataframe thead th {\n",
       "        text-align: right;\n",
       "    }\n",
       "</style>\n",
       "<table border=\"1\" class=\"dataframe\">\n",
       "  <thead>\n",
       "    <tr style=\"text-align: right;\">\n",
       "      <th></th>\n",
       "      <th>App</th>\n",
       "      <th>Category</th>\n",
       "      <th>Rating</th>\n",
       "      <th>Reviews</th>\n",
       "      <th>Size</th>\n",
       "      <th>Installs</th>\n",
       "      <th>Type</th>\n",
       "      <th>Price</th>\n",
       "      <th>Content Rating</th>\n",
       "      <th>Genres</th>\n",
       "      <th>Last Updated</th>\n",
       "      <th>Current Ver</th>\n",
       "      <th>Android Ver</th>\n",
       "    </tr>\n",
       "  </thead>\n",
       "  <tbody>\n",
       "    <tr>\n",
       "      <th>23</th>\n",
       "      <td>Mcqueen Coloring pages</td>\n",
       "      <td>ART_AND_DESIGN</td>\n",
       "      <td>NaN</td>\n",
       "      <td>61</td>\n",
       "      <td>7.0M</td>\n",
       "      <td>100,000+</td>\n",
       "      <td>Free</td>\n",
       "      <td>0</td>\n",
       "      <td>Everyone</td>\n",
       "      <td>Art &amp; Design;Action &amp; Adventure</td>\n",
       "      <td>March 7, 2018</td>\n",
       "      <td>1.0.0</td>\n",
       "      <td>4.1 and up</td>\n",
       "    </tr>\n",
       "    <tr>\n",
       "      <th>113</th>\n",
       "      <td>Wrinkles and rejuvenation</td>\n",
       "      <td>BEAUTY</td>\n",
       "      <td>NaN</td>\n",
       "      <td>182</td>\n",
       "      <td>5.7M</td>\n",
       "      <td>100,000+</td>\n",
       "      <td>Free</td>\n",
       "      <td>0</td>\n",
       "      <td>Everyone 10+</td>\n",
       "      <td>Beauty</td>\n",
       "      <td>September 20, 2017</td>\n",
       "      <td>8.0</td>\n",
       "      <td>3.0 and up</td>\n",
       "    </tr>\n",
       "    <tr>\n",
       "      <th>123</th>\n",
       "      <td>Manicure - nail design</td>\n",
       "      <td>BEAUTY</td>\n",
       "      <td>NaN</td>\n",
       "      <td>119</td>\n",
       "      <td>3.7M</td>\n",
       "      <td>50,000+</td>\n",
       "      <td>Free</td>\n",
       "      <td>0</td>\n",
       "      <td>Everyone</td>\n",
       "      <td>Beauty</td>\n",
       "      <td>July 23, 2018</td>\n",
       "      <td>1.3</td>\n",
       "      <td>4.1 and up</td>\n",
       "    </tr>\n",
       "    <tr>\n",
       "      <th>126</th>\n",
       "      <td>Skin Care and Natural Beauty</td>\n",
       "      <td>BEAUTY</td>\n",
       "      <td>NaN</td>\n",
       "      <td>654</td>\n",
       "      <td>7.4M</td>\n",
       "      <td>100,000+</td>\n",
       "      <td>Free</td>\n",
       "      <td>0</td>\n",
       "      <td>Teen</td>\n",
       "      <td>Beauty</td>\n",
       "      <td>July 17, 2018</td>\n",
       "      <td>1.15</td>\n",
       "      <td>4.1 and up</td>\n",
       "    </tr>\n",
       "    <tr>\n",
       "      <th>129</th>\n",
       "      <td>Secrets of beauty, youth and health</td>\n",
       "      <td>BEAUTY</td>\n",
       "      <td>NaN</td>\n",
       "      <td>77</td>\n",
       "      <td>2.9M</td>\n",
       "      <td>10,000+</td>\n",
       "      <td>Free</td>\n",
       "      <td>0</td>\n",
       "      <td>Mature 17+</td>\n",
       "      <td>Beauty</td>\n",
       "      <td>August 8, 2017</td>\n",
       "      <td>2.0</td>\n",
       "      <td>2.3 and up</td>\n",
       "    </tr>\n",
       "    <tr>\n",
       "      <th>...</th>\n",
       "      <td>...</td>\n",
       "      <td>...</td>\n",
       "      <td>...</td>\n",
       "      <td>...</td>\n",
       "      <td>...</td>\n",
       "      <td>...</td>\n",
       "      <td>...</td>\n",
       "      <td>...</td>\n",
       "      <td>...</td>\n",
       "      <td>...</td>\n",
       "      <td>...</td>\n",
       "      <td>...</td>\n",
       "      <td>...</td>\n",
       "    </tr>\n",
       "    <tr>\n",
       "      <th>10824</th>\n",
       "      <td>Cardio-FR</td>\n",
       "      <td>MEDICAL</td>\n",
       "      <td>NaN</td>\n",
       "      <td>67</td>\n",
       "      <td>82M</td>\n",
       "      <td>10,000+</td>\n",
       "      <td>Free</td>\n",
       "      <td>0</td>\n",
       "      <td>Everyone</td>\n",
       "      <td>Medical</td>\n",
       "      <td>July 31, 2018</td>\n",
       "      <td>2.2.2</td>\n",
       "      <td>4.4 and up</td>\n",
       "    </tr>\n",
       "    <tr>\n",
       "      <th>10825</th>\n",
       "      <td>Naruto &amp; Boruto FR</td>\n",
       "      <td>SOCIAL</td>\n",
       "      <td>NaN</td>\n",
       "      <td>7</td>\n",
       "      <td>7.7M</td>\n",
       "      <td>100+</td>\n",
       "      <td>Free</td>\n",
       "      <td>0</td>\n",
       "      <td>Teen</td>\n",
       "      <td>Social</td>\n",
       "      <td>February 2, 2018</td>\n",
       "      <td>1.0</td>\n",
       "      <td>4.0 and up</td>\n",
       "    </tr>\n",
       "    <tr>\n",
       "      <th>10831</th>\n",
       "      <td>payermonstationnement.fr</td>\n",
       "      <td>MAPS_AND_NAVIGATION</td>\n",
       "      <td>NaN</td>\n",
       "      <td>38</td>\n",
       "      <td>9.8M</td>\n",
       "      <td>5,000+</td>\n",
       "      <td>Free</td>\n",
       "      <td>0</td>\n",
       "      <td>Everyone</td>\n",
       "      <td>Maps &amp; Navigation</td>\n",
       "      <td>June 13, 2018</td>\n",
       "      <td>2.0.148.0</td>\n",
       "      <td>4.0 and up</td>\n",
       "    </tr>\n",
       "    <tr>\n",
       "      <th>10835</th>\n",
       "      <td>FR Forms</td>\n",
       "      <td>BUSINESS</td>\n",
       "      <td>NaN</td>\n",
       "      <td>0</td>\n",
       "      <td>9.6M</td>\n",
       "      <td>10+</td>\n",
       "      <td>Free</td>\n",
       "      <td>0</td>\n",
       "      <td>Everyone</td>\n",
       "      <td>Business</td>\n",
       "      <td>September 29, 2016</td>\n",
       "      <td>1.1.5</td>\n",
       "      <td>4.0 and up</td>\n",
       "    </tr>\n",
       "    <tr>\n",
       "      <th>10838</th>\n",
       "      <td>Parkinson Exercices FR</td>\n",
       "      <td>MEDICAL</td>\n",
       "      <td>NaN</td>\n",
       "      <td>3</td>\n",
       "      <td>9.5M</td>\n",
       "      <td>1,000+</td>\n",
       "      <td>Free</td>\n",
       "      <td>0</td>\n",
       "      <td>Everyone</td>\n",
       "      <td>Medical</td>\n",
       "      <td>January 20, 2017</td>\n",
       "      <td>1.0</td>\n",
       "      <td>2.2 and up</td>\n",
       "    </tr>\n",
       "  </tbody>\n",
       "</table>\n",
       "<p>1469 rows × 13 columns</p>\n",
       "</div>"
      ],
      "text/plain": [
       "                                       App             Category  Rating  \\\n",
       "23                  Mcqueen Coloring pages       ART_AND_DESIGN     NaN   \n",
       "113              Wrinkles and rejuvenation               BEAUTY     NaN   \n",
       "123                 Manicure - nail design               BEAUTY     NaN   \n",
       "126           Skin Care and Natural Beauty               BEAUTY     NaN   \n",
       "129    Secrets of beauty, youth and health               BEAUTY     NaN   \n",
       "...                                    ...                  ...     ...   \n",
       "10824                            Cardio-FR              MEDICAL     NaN   \n",
       "10825                   Naruto & Boruto FR               SOCIAL     NaN   \n",
       "10831             payermonstationnement.fr  MAPS_AND_NAVIGATION     NaN   \n",
       "10835                             FR Forms             BUSINESS     NaN   \n",
       "10838               Parkinson Exercices FR              MEDICAL     NaN   \n",
       "\n",
       "      Reviews  Size  Installs  Type Price Content Rating  \\\n",
       "23         61  7.0M  100,000+  Free     0       Everyone   \n",
       "113       182  5.7M  100,000+  Free     0   Everyone 10+   \n",
       "123       119  3.7M   50,000+  Free     0       Everyone   \n",
       "126       654  7.4M  100,000+  Free     0           Teen   \n",
       "129        77  2.9M   10,000+  Free     0     Mature 17+   \n",
       "...       ...   ...       ...   ...   ...            ...   \n",
       "10824      67   82M   10,000+  Free     0       Everyone   \n",
       "10825       7  7.7M      100+  Free     0           Teen   \n",
       "10831      38  9.8M    5,000+  Free     0       Everyone   \n",
       "10835       0  9.6M       10+  Free     0       Everyone   \n",
       "10838       3  9.5M    1,000+  Free     0       Everyone   \n",
       "\n",
       "                                Genres        Last Updated Current Ver  \\\n",
       "23     Art & Design;Action & Adventure       March 7, 2018       1.0.0   \n",
       "113                             Beauty  September 20, 2017         8.0   \n",
       "123                             Beauty       July 23, 2018         1.3   \n",
       "126                             Beauty       July 17, 2018        1.15   \n",
       "129                             Beauty      August 8, 2017         2.0   \n",
       "...                                ...                 ...         ...   \n",
       "10824                          Medical       July 31, 2018       2.2.2   \n",
       "10825                           Social    February 2, 2018         1.0   \n",
       "10831                Maps & Navigation       June 13, 2018   2.0.148.0   \n",
       "10835                         Business  September 29, 2016       1.1.5   \n",
       "10838                          Medical    January 20, 2017         1.0   \n",
       "\n",
       "      Android Ver  \n",
       "23     4.1 and up  \n",
       "113    3.0 and up  \n",
       "123    4.1 and up  \n",
       "126    4.1 and up  \n",
       "129    2.3 and up  \n",
       "...           ...  \n",
       "10824  4.4 and up  \n",
       "10825  4.0 and up  \n",
       "10831  4.0 and up  \n",
       "10835  4.0 and up  \n",
       "10838  2.2 and up  \n",
       "\n",
       "[1469 rows x 13 columns]"
      ]
     },
     "execution_count": 10,
     "metadata": {},
     "output_type": "execute_result"
    }
   ],
   "source": [
    "playstore[playstore['Rating'].isna()]"
   ]
  },
  {
   "cell_type": "markdown",
   "id": "b14f488b",
   "metadata": {
    "papermill": {
     "duration": 0.010522,
     "end_time": "2024-08-07T13:55:43.762325",
     "exception": false,
     "start_time": "2024-08-07T13:55:43.751803",
     "status": "completed"
    },
    "tags": []
   },
   "source": [
    "Since there is no way to deal with right now We will not drop na values in review"
   ]
  },
  {
   "cell_type": "code",
   "execution_count": 11,
   "id": "43a3d66a",
   "metadata": {
    "execution": {
     "iopub.execute_input": "2024-08-07T13:55:43.786052Z",
     "iopub.status.busy": "2024-08-07T13:55:43.785190Z",
     "iopub.status.idle": "2024-08-07T13:55:43.792387Z",
     "shell.execute_reply": "2024-08-07T13:55:43.791503Z"
    },
    "papermill": {
     "duration": 0.021139,
     "end_time": "2024-08-07T13:55:43.794422",
     "exception": false,
     "start_time": "2024-08-07T13:55:43.773283",
     "status": "completed"
    },
    "tags": []
   },
   "outputs": [
    {
     "data": {
      "text/plain": [
       "App                object\n",
       "Category           object\n",
       "Rating            float64\n",
       "Reviews            object\n",
       "Size               object\n",
       "Installs           object\n",
       "Type               object\n",
       "Price              object\n",
       "Content Rating     object\n",
       "Genres             object\n",
       "Last Updated       object\n",
       "Current Ver        object\n",
       "Android Ver        object\n",
       "dtype: object"
      ]
     },
     "execution_count": 11,
     "metadata": {},
     "output_type": "execute_result"
    }
   ],
   "source": [
    "#Chaning types\n",
    "playstore.dtypes"
   ]
  },
  {
   "cell_type": "code",
   "execution_count": 12,
   "id": "2e5e1fbb",
   "metadata": {
    "execution": {
     "iopub.execute_input": "2024-08-07T13:55:43.817271Z",
     "iopub.status.busy": "2024-08-07T13:55:43.816745Z",
     "iopub.status.idle": "2024-08-07T13:55:43.830346Z",
     "shell.execute_reply": "2024-08-07T13:55:43.829339Z"
    },
    "papermill": {
     "duration": 0.027097,
     "end_time": "2024-08-07T13:55:43.832248",
     "exception": false,
     "start_time": "2024-08-07T13:55:43.805151",
     "status": "completed"
    },
    "tags": []
   },
   "outputs": [
    {
     "data": {
      "text/html": [
       "<div>\n",
       "<style scoped>\n",
       "    .dataframe tbody tr th:only-of-type {\n",
       "        vertical-align: middle;\n",
       "    }\n",
       "\n",
       "    .dataframe tbody tr th {\n",
       "        vertical-align: top;\n",
       "    }\n",
       "\n",
       "    .dataframe thead th {\n",
       "        text-align: right;\n",
       "    }\n",
       "</style>\n",
       "<table border=\"1\" class=\"dataframe\">\n",
       "  <thead>\n",
       "    <tr style=\"text-align: right;\">\n",
       "      <th></th>\n",
       "      <th>App</th>\n",
       "      <th>Category</th>\n",
       "      <th>Rating</th>\n",
       "      <th>Reviews</th>\n",
       "      <th>Size</th>\n",
       "      <th>Installs</th>\n",
       "      <th>Type</th>\n",
       "      <th>Price</th>\n",
       "      <th>Content Rating</th>\n",
       "      <th>Genres</th>\n",
       "      <th>Last Updated</th>\n",
       "      <th>Current Ver</th>\n",
       "      <th>Android Ver</th>\n",
       "    </tr>\n",
       "  </thead>\n",
       "  <tbody>\n",
       "    <tr>\n",
       "      <th>0</th>\n",
       "      <td>Photo Editor &amp; Candy Camera &amp; Grid &amp; ScrapBook</td>\n",
       "      <td>ART_AND_DESIGN</td>\n",
       "      <td>4.1</td>\n",
       "      <td>159</td>\n",
       "      <td>19M</td>\n",
       "      <td>10,000+</td>\n",
       "      <td>Free</td>\n",
       "      <td>0</td>\n",
       "      <td>Everyone</td>\n",
       "      <td>Art &amp; Design</td>\n",
       "      <td>January 7, 2018</td>\n",
       "      <td>1.0.0</td>\n",
       "      <td>4.0.3 and up</td>\n",
       "    </tr>\n",
       "  </tbody>\n",
       "</table>\n",
       "</div>"
      ],
      "text/plain": [
       "                                              App        Category  Rating  \\\n",
       "0  Photo Editor & Candy Camera & Grid & ScrapBook  ART_AND_DESIGN     4.1   \n",
       "\n",
       "  Reviews Size Installs  Type Price Content Rating        Genres  \\\n",
       "0     159  19M  10,000+  Free     0       Everyone  Art & Design   \n",
       "\n",
       "      Last Updated Current Ver   Android Ver  \n",
       "0  January 7, 2018       1.0.0  4.0.3 and up  "
      ]
     },
     "execution_count": 12,
     "metadata": {},
     "output_type": "execute_result"
    }
   ],
   "source": [
    "playstore.head(1)"
   ]
  },
  {
   "cell_type": "code",
   "execution_count": 13,
   "id": "f2699e8e",
   "metadata": {
    "execution": {
     "iopub.execute_input": "2024-08-07T13:55:43.855944Z",
     "iopub.status.busy": "2024-08-07T13:55:43.855291Z",
     "iopub.status.idle": "2024-08-07T13:55:43.897223Z",
     "shell.execute_reply": "2024-08-07T13:55:43.896407Z"
    },
    "papermill": {
     "duration": 0.056092,
     "end_time": "2024-08-07T13:55:43.899377",
     "exception": false,
     "start_time": "2024-08-07T13:55:43.843285",
     "status": "completed"
    },
    "tags": []
   },
   "outputs": [],
   "source": [
    "#changing datatype\n",
    "playstore['Last Updated'] = pd.to_datetime(playstore['Last Updated'])\n",
    "\n",
    "playstore['Installs'] = playstore['Installs'].str.replace(r'[,+]', '', regex=True)\n",
    "playstore['Installs'] = playstore['Installs'].astype('int')\n",
    "\n",
    "playstore['Reviews'] = playstore['Reviews'].astype('int')\n",
    "\n",
    "\n",
    "def clean_price(price):\n",
    "    # Check if the price starts with '$' and handle conversion\n",
    "    if price[0] == '$':\n",
    "        # Remove '$' and convert to float\n",
    "        return float(price[1:]) if price[1:] != '0' else 0.0\n",
    "    return float(price)\n",
    "    \n",
    "playstore['Price'] = playstore['Price'].astype(str)\n",
    "\n",
    "playstore['Price'] = playstore['Price'].apply(clean_price)\n"
   ]
  },
  {
   "cell_type": "code",
   "execution_count": 14,
   "id": "ddbce783",
   "metadata": {
    "execution": {
     "iopub.execute_input": "2024-08-07T13:55:43.923490Z",
     "iopub.status.busy": "2024-08-07T13:55:43.922830Z",
     "iopub.status.idle": "2024-08-07T13:55:43.930077Z",
     "shell.execute_reply": "2024-08-07T13:55:43.929175Z"
    },
    "papermill": {
     "duration": 0.021381,
     "end_time": "2024-08-07T13:55:43.932109",
     "exception": false,
     "start_time": "2024-08-07T13:55:43.910728",
     "status": "completed"
    },
    "tags": []
   },
   "outputs": [
    {
     "data": {
      "text/plain": [
       "App                       object\n",
       "Category                  object\n",
       "Rating                   float64\n",
       "Reviews                    int64\n",
       "Size                      object\n",
       "Installs                   int64\n",
       "Type                      object\n",
       "Price                    float64\n",
       "Content Rating            object\n",
       "Genres                    object\n",
       "Last Updated      datetime64[ns]\n",
       "Current Ver               object\n",
       "Android Ver               object\n",
       "dtype: object"
      ]
     },
     "execution_count": 14,
     "metadata": {},
     "output_type": "execute_result"
    }
   ],
   "source": [
    "playstore.dtypes"
   ]
  },
  {
   "cell_type": "code",
   "execution_count": 15,
   "id": "22c1e36d",
   "metadata": {
    "execution": {
     "iopub.execute_input": "2024-08-07T13:55:43.955750Z",
     "iopub.status.busy": "2024-08-07T13:55:43.955432Z",
     "iopub.status.idle": "2024-08-07T13:55:43.971921Z",
     "shell.execute_reply": "2024-08-07T13:55:43.971024Z"
    },
    "papermill": {
     "duration": 0.030581,
     "end_time": "2024-08-07T13:55:43.973821",
     "exception": false,
     "start_time": "2024-08-07T13:55:43.943240",
     "status": "completed"
    },
    "tags": []
   },
   "outputs": [
    {
     "data": {
      "text/plain": [
       "App                           0\n",
       "Translated_Review         26868\n",
       "Sentiment                 26863\n",
       "Sentiment_Polarity        26863\n",
       "Sentiment_Subjectivity    26863\n",
       "dtype: int64"
      ]
     },
     "execution_count": 15,
     "metadata": {},
     "output_type": "execute_result"
    }
   ],
   "source": [
    "user_reviews.isna().sum()"
   ]
  },
  {
   "cell_type": "code",
   "execution_count": 16,
   "id": "6b1dc779",
   "metadata": {
    "execution": {
     "iopub.execute_input": "2024-08-07T13:55:43.998543Z",
     "iopub.status.busy": "2024-08-07T13:55:43.997676Z",
     "iopub.status.idle": "2024-08-07T13:55:44.011429Z",
     "shell.execute_reply": "2024-08-07T13:55:44.010454Z"
    },
    "papermill": {
     "duration": 0.02853,
     "end_time": "2024-08-07T13:55:44.013629",
     "exception": false,
     "start_time": "2024-08-07T13:55:43.985099",
     "status": "completed"
    },
    "tags": []
   },
   "outputs": [],
   "source": [
    "# droppping NA values\n",
    "# since we need Sentinment to perform any Sentimental Analysis\n",
    "# we can drop those with NA values in Sentiment\n",
    "\n",
    "user_reviews.dropna(subset=['Sentiment'],inplace = True)"
   ]
  },
  {
   "cell_type": "code",
   "execution_count": 17,
   "id": "bf2fe73b",
   "metadata": {
    "execution": {
     "iopub.execute_input": "2024-08-07T13:55:44.038231Z",
     "iopub.status.busy": "2024-08-07T13:55:44.037597Z",
     "iopub.status.idle": "2024-08-07T13:55:44.051873Z",
     "shell.execute_reply": "2024-08-07T13:55:44.050945Z"
    },
    "papermill": {
     "duration": 0.028868,
     "end_time": "2024-08-07T13:55:44.053964",
     "exception": false,
     "start_time": "2024-08-07T13:55:44.025096",
     "status": "completed"
    },
    "tags": []
   },
   "outputs": [
    {
     "data": {
      "text/plain": [
       "App                       0\n",
       "Translated_Review         5\n",
       "Sentiment                 0\n",
       "Sentiment_Polarity        0\n",
       "Sentiment_Subjectivity    0\n",
       "dtype: int64"
      ]
     },
     "execution_count": 17,
     "metadata": {},
     "output_type": "execute_result"
    }
   ],
   "source": [
    "user_reviews.isna().sum()"
   ]
  },
  {
   "cell_type": "code",
   "execution_count": 18,
   "id": "f1bac5b8",
   "metadata": {
    "execution": {
     "iopub.execute_input": "2024-08-07T13:55:44.130618Z",
     "iopub.status.busy": "2024-08-07T13:55:44.130007Z",
     "iopub.status.idle": "2024-08-07T13:55:44.153083Z",
     "shell.execute_reply": "2024-08-07T13:55:44.152137Z"
    },
    "papermill": {
     "duration": 0.089458,
     "end_time": "2024-08-07T13:55:44.155216",
     "exception": false,
     "start_time": "2024-08-07T13:55:44.065758",
     "status": "completed"
    },
    "tags": []
   },
   "outputs": [
    {
     "data": {
      "text/plain": [
       "App                       0\n",
       "Translated_Review         0\n",
       "Sentiment                 0\n",
       "Sentiment_Polarity        0\n",
       "Sentiment_Subjectivity    0\n",
       "dtype: int64"
      ]
     },
     "execution_count": 18,
     "metadata": {},
     "output_type": "execute_result"
    }
   ],
   "source": [
    "user_reviews.dropna(inplace= True)\n",
    "user_reviews.isna().sum()"
   ]
  },
  {
   "cell_type": "code",
   "execution_count": 19,
   "id": "1391146e",
   "metadata": {
    "execution": {
     "iopub.execute_input": "2024-08-07T13:55:44.180416Z",
     "iopub.status.busy": "2024-08-07T13:55:44.179797Z",
     "iopub.status.idle": "2024-08-07T13:55:44.187091Z",
     "shell.execute_reply": "2024-08-07T13:55:44.186136Z"
    },
    "papermill": {
     "duration": 0.022043,
     "end_time": "2024-08-07T13:55:44.189021",
     "exception": false,
     "start_time": "2024-08-07T13:55:44.166978",
     "status": "completed"
    },
    "tags": []
   },
   "outputs": [
    {
     "data": {
      "text/plain": [
       "App                        object\n",
       "Translated_Review          object\n",
       "Sentiment                  object\n",
       "Sentiment_Polarity        float64\n",
       "Sentiment_Subjectivity    float64\n",
       "dtype: object"
      ]
     },
     "execution_count": 19,
     "metadata": {},
     "output_type": "execute_result"
    }
   ],
   "source": [
    "user_reviews.dtypes"
   ]
  },
  {
   "cell_type": "code",
   "execution_count": 20,
   "id": "c31ca1ec",
   "metadata": {
    "execution": {
     "iopub.execute_input": "2024-08-07T13:55:44.214739Z",
     "iopub.status.busy": "2024-08-07T13:55:44.213869Z",
     "iopub.status.idle": "2024-08-07T13:55:44.244739Z",
     "shell.execute_reply": "2024-08-07T13:55:44.243805Z"
    },
    "papermill": {
     "duration": 0.045864,
     "end_time": "2024-08-07T13:55:44.246856",
     "exception": false,
     "start_time": "2024-08-07T13:55:44.200992",
     "status": "completed"
    },
    "tags": []
   },
   "outputs": [
    {
     "data": {
      "text/html": [
       "<div>\n",
       "<style scoped>\n",
       "    .dataframe tbody tr th:only-of-type {\n",
       "        vertical-align: middle;\n",
       "    }\n",
       "\n",
       "    .dataframe tbody tr th {\n",
       "        vertical-align: top;\n",
       "    }\n",
       "\n",
       "    .dataframe thead th {\n",
       "        text-align: right;\n",
       "    }\n",
       "</style>\n",
       "<table border=\"1\" class=\"dataframe\">\n",
       "  <thead>\n",
       "    <tr style=\"text-align: right;\">\n",
       "      <th></th>\n",
       "      <th>App</th>\n",
       "      <th>Category</th>\n",
       "      <th>Rating</th>\n",
       "      <th>Reviews</th>\n",
       "      <th>Size</th>\n",
       "      <th>Installs</th>\n",
       "      <th>Type</th>\n",
       "      <th>Price</th>\n",
       "      <th>Content Rating</th>\n",
       "      <th>Genres</th>\n",
       "      <th>Last Updated</th>\n",
       "      <th>Current Ver</th>\n",
       "      <th>Android Ver</th>\n",
       "    </tr>\n",
       "  </thead>\n",
       "  <tbody>\n",
       "    <tr>\n",
       "      <th>229</th>\n",
       "      <td>Quick PDF Scanner + OCR FREE</td>\n",
       "      <td>BUSINESS</td>\n",
       "      <td>4.2</td>\n",
       "      <td>80805</td>\n",
       "      <td>Varies with device</td>\n",
       "      <td>5000000</td>\n",
       "      <td>Free</td>\n",
       "      <td>0.0</td>\n",
       "      <td>Everyone</td>\n",
       "      <td>Business</td>\n",
       "      <td>2018-02-26</td>\n",
       "      <td>Varies with device</td>\n",
       "      <td>4.0.3 and up</td>\n",
       "    </tr>\n",
       "    <tr>\n",
       "      <th>236</th>\n",
       "      <td>Box</td>\n",
       "      <td>BUSINESS</td>\n",
       "      <td>4.2</td>\n",
       "      <td>159872</td>\n",
       "      <td>Varies with device</td>\n",
       "      <td>10000000</td>\n",
       "      <td>Free</td>\n",
       "      <td>0.0</td>\n",
       "      <td>Everyone</td>\n",
       "      <td>Business</td>\n",
       "      <td>2018-07-31</td>\n",
       "      <td>Varies with device</td>\n",
       "      <td>Varies with device</td>\n",
       "    </tr>\n",
       "    <tr>\n",
       "      <th>239</th>\n",
       "      <td>Google My Business</td>\n",
       "      <td>BUSINESS</td>\n",
       "      <td>4.4</td>\n",
       "      <td>70991</td>\n",
       "      <td>Varies with device</td>\n",
       "      <td>5000000</td>\n",
       "      <td>Free</td>\n",
       "      <td>0.0</td>\n",
       "      <td>Everyone</td>\n",
       "      <td>Business</td>\n",
       "      <td>2018-07-24</td>\n",
       "      <td>2.19.0.204537701</td>\n",
       "      <td>4.4 and up</td>\n",
       "    </tr>\n",
       "    <tr>\n",
       "      <th>256</th>\n",
       "      <td>ZOOM Cloud Meetings</td>\n",
       "      <td>BUSINESS</td>\n",
       "      <td>4.4</td>\n",
       "      <td>31614</td>\n",
       "      <td>37M</td>\n",
       "      <td>10000000</td>\n",
       "      <td>Free</td>\n",
       "      <td>0.0</td>\n",
       "      <td>Everyone</td>\n",
       "      <td>Business</td>\n",
       "      <td>2018-07-20</td>\n",
       "      <td>4.1.28165.0716</td>\n",
       "      <td>4.0 and up</td>\n",
       "    </tr>\n",
       "    <tr>\n",
       "      <th>261</th>\n",
       "      <td>join.me - Simple Meetings</td>\n",
       "      <td>BUSINESS</td>\n",
       "      <td>4.0</td>\n",
       "      <td>6989</td>\n",
       "      <td>Varies with device</td>\n",
       "      <td>1000000</td>\n",
       "      <td>Free</td>\n",
       "      <td>0.0</td>\n",
       "      <td>Everyone</td>\n",
       "      <td>Business</td>\n",
       "      <td>2018-07-16</td>\n",
       "      <td>4.3.0.508</td>\n",
       "      <td>4.4 and up</td>\n",
       "    </tr>\n",
       "    <tr>\n",
       "      <th>...</th>\n",
       "      <td>...</td>\n",
       "      <td>...</td>\n",
       "      <td>...</td>\n",
       "      <td>...</td>\n",
       "      <td>...</td>\n",
       "      <td>...</td>\n",
       "      <td>...</td>\n",
       "      <td>...</td>\n",
       "      <td>...</td>\n",
       "      <td>...</td>\n",
       "      <td>...</td>\n",
       "      <td>...</td>\n",
       "      <td>...</td>\n",
       "    </tr>\n",
       "    <tr>\n",
       "      <th>8643</th>\n",
       "      <td>Wunderlist: To-Do List &amp; Tasks</td>\n",
       "      <td>PRODUCTIVITY</td>\n",
       "      <td>4.6</td>\n",
       "      <td>404610</td>\n",
       "      <td>Varies with device</td>\n",
       "      <td>10000000</td>\n",
       "      <td>Free</td>\n",
       "      <td>0.0</td>\n",
       "      <td>Everyone</td>\n",
       "      <td>Productivity</td>\n",
       "      <td>2018-04-06</td>\n",
       "      <td>Varies with device</td>\n",
       "      <td>Varies with device</td>\n",
       "    </tr>\n",
       "    <tr>\n",
       "      <th>8654</th>\n",
       "      <td>TickTick: To Do List with Reminder, Day Planner</td>\n",
       "      <td>PRODUCTIVITY</td>\n",
       "      <td>4.6</td>\n",
       "      <td>25370</td>\n",
       "      <td>Varies with device</td>\n",
       "      <td>1000000</td>\n",
       "      <td>Free</td>\n",
       "      <td>0.0</td>\n",
       "      <td>Everyone</td>\n",
       "      <td>Productivity</td>\n",
       "      <td>2018-08-06</td>\n",
       "      <td>Varies with device</td>\n",
       "      <td>Varies with device</td>\n",
       "    </tr>\n",
       "    <tr>\n",
       "      <th>8658</th>\n",
       "      <td>ColorNote Notepad Notes</td>\n",
       "      <td>PRODUCTIVITY</td>\n",
       "      <td>4.6</td>\n",
       "      <td>2401017</td>\n",
       "      <td>Varies with device</td>\n",
       "      <td>100000000</td>\n",
       "      <td>Free</td>\n",
       "      <td>0.0</td>\n",
       "      <td>Everyone</td>\n",
       "      <td>Productivity</td>\n",
       "      <td>2018-06-27</td>\n",
       "      <td>Varies with device</td>\n",
       "      <td>Varies with device</td>\n",
       "    </tr>\n",
       "    <tr>\n",
       "      <th>10049</th>\n",
       "      <td>Airway Ex - Intubate. Anesthetize. Train.</td>\n",
       "      <td>MEDICAL</td>\n",
       "      <td>4.3</td>\n",
       "      <td>123</td>\n",
       "      <td>86M</td>\n",
       "      <td>10000</td>\n",
       "      <td>Free</td>\n",
       "      <td>0.0</td>\n",
       "      <td>Everyone</td>\n",
       "      <td>Medical</td>\n",
       "      <td>2018-06-01</td>\n",
       "      <td>0.6.88</td>\n",
       "      <td>5.0 and up</td>\n",
       "    </tr>\n",
       "    <tr>\n",
       "      <th>10768</th>\n",
       "      <td>AAFP</td>\n",
       "      <td>MEDICAL</td>\n",
       "      <td>3.8</td>\n",
       "      <td>63</td>\n",
       "      <td>24M</td>\n",
       "      <td>10000</td>\n",
       "      <td>Free</td>\n",
       "      <td>0.0</td>\n",
       "      <td>Everyone</td>\n",
       "      <td>Medical</td>\n",
       "      <td>2018-06-22</td>\n",
       "      <td>2.3.1</td>\n",
       "      <td>5.0 and up</td>\n",
       "    </tr>\n",
       "  </tbody>\n",
       "</table>\n",
       "<p>483 rows × 13 columns</p>\n",
       "</div>"
      ],
      "text/plain": [
       "                                                   App      Category  Rating  \\\n",
       "229                       Quick PDF Scanner + OCR FREE      BUSINESS     4.2   \n",
       "236                                                Box      BUSINESS     4.2   \n",
       "239                                 Google My Business      BUSINESS     4.4   \n",
       "256                                ZOOM Cloud Meetings      BUSINESS     4.4   \n",
       "261                          join.me - Simple Meetings      BUSINESS     4.0   \n",
       "...                                                ...           ...     ...   \n",
       "8643                    Wunderlist: To-Do List & Tasks  PRODUCTIVITY     4.6   \n",
       "8654   TickTick: To Do List with Reminder, Day Planner  PRODUCTIVITY     4.6   \n",
       "8658                           ColorNote Notepad Notes  PRODUCTIVITY     4.6   \n",
       "10049        Airway Ex - Intubate. Anesthetize. Train.       MEDICAL     4.3   \n",
       "10768                                             AAFP       MEDICAL     3.8   \n",
       "\n",
       "       Reviews                Size   Installs  Type  Price Content Rating  \\\n",
       "229      80805  Varies with device    5000000  Free    0.0       Everyone   \n",
       "236     159872  Varies with device   10000000  Free    0.0       Everyone   \n",
       "239      70991  Varies with device    5000000  Free    0.0       Everyone   \n",
       "256      31614                 37M   10000000  Free    0.0       Everyone   \n",
       "261       6989  Varies with device    1000000  Free    0.0       Everyone   \n",
       "...        ...                 ...        ...   ...    ...            ...   \n",
       "8643    404610  Varies with device   10000000  Free    0.0       Everyone   \n",
       "8654     25370  Varies with device    1000000  Free    0.0       Everyone   \n",
       "8658   2401017  Varies with device  100000000  Free    0.0       Everyone   \n",
       "10049      123                 86M      10000  Free    0.0       Everyone   \n",
       "10768       63                 24M      10000  Free    0.0       Everyone   \n",
       "\n",
       "             Genres Last Updated         Current Ver         Android Ver  \n",
       "229        Business   2018-02-26  Varies with device        4.0.3 and up  \n",
       "236        Business   2018-07-31  Varies with device  Varies with device  \n",
       "239        Business   2018-07-24    2.19.0.204537701          4.4 and up  \n",
       "256        Business   2018-07-20      4.1.28165.0716          4.0 and up  \n",
       "261        Business   2018-07-16           4.3.0.508          4.4 and up  \n",
       "...             ...          ...                 ...                 ...  \n",
       "8643   Productivity   2018-04-06  Varies with device  Varies with device  \n",
       "8654   Productivity   2018-08-06  Varies with device  Varies with device  \n",
       "8658   Productivity   2018-06-27  Varies with device  Varies with device  \n",
       "10049       Medical   2018-06-01              0.6.88          5.0 and up  \n",
       "10768       Medical   2018-06-22               2.3.1          5.0 and up  \n",
       "\n",
       "[483 rows x 13 columns]"
      ]
     },
     "execution_count": 20,
     "metadata": {},
     "output_type": "execute_result"
    }
   ],
   "source": [
    "playstore[playstore.duplicated]"
   ]
  },
  {
   "cell_type": "code",
   "execution_count": 21,
   "id": "49c46371",
   "metadata": {
    "execution": {
     "iopub.execute_input": "2024-08-07T13:55:44.273377Z",
     "iopub.status.busy": "2024-08-07T13:55:44.272542Z",
     "iopub.status.idle": "2024-08-07T13:55:44.284597Z",
     "shell.execute_reply": "2024-08-07T13:55:44.283612Z"
    },
    "papermill": {
     "duration": 0.027547,
     "end_time": "2024-08-07T13:55:44.286779",
     "exception": false,
     "start_time": "2024-08-07T13:55:44.259232",
     "status": "completed"
    },
    "tags": []
   },
   "outputs": [],
   "source": [
    "# Removing Duplicates\n",
    "col = ['App','Size','Type','Genres']\n",
    "playstore.drop_duplicates(subset=col , keep='first',inplace = True)"
   ]
  },
  {
   "cell_type": "code",
   "execution_count": 22,
   "id": "aaa2d1fb",
   "metadata": {
    "execution": {
     "iopub.execute_input": "2024-08-07T13:55:44.313256Z",
     "iopub.status.busy": "2024-08-07T13:55:44.312444Z",
     "iopub.status.idle": "2024-08-07T13:55:44.316706Z",
     "shell.execute_reply": "2024-08-07T13:55:44.315783Z"
    },
    "papermill": {
     "duration": 0.019682,
     "end_time": "2024-08-07T13:55:44.318799",
     "exception": false,
     "start_time": "2024-08-07T13:55:44.299117",
     "status": "completed"
    },
    "tags": []
   },
   "outputs": [],
   "source": [
    "# playstore[playstore.duplicated(['App','Size','Type','Genres','Last Updated'])]"
   ]
  },
  {
   "cell_type": "markdown",
   "id": "bc2b698f",
   "metadata": {
    "papermill": {
     "duration": 0.01194,
     "end_time": "2024-08-07T13:55:44.343017",
     "exception": false,
     "start_time": "2024-08-07T13:55:44.331077",
     "status": "completed"
    },
    "tags": []
   },
   "source": [
    "# Analysis"
   ]
  },
  {
   "cell_type": "code",
   "execution_count": 23,
   "id": "df26f853",
   "metadata": {
    "execution": {
     "iopub.execute_input": "2024-08-07T13:55:44.369351Z",
     "iopub.status.busy": "2024-08-07T13:55:44.368493Z",
     "iopub.status.idle": "2024-08-07T13:55:44.386167Z",
     "shell.execute_reply": "2024-08-07T13:55:44.385207Z"
    },
    "papermill": {
     "duration": 0.033245,
     "end_time": "2024-08-07T13:55:44.388372",
     "exception": false,
     "start_time": "2024-08-07T13:55:44.355127",
     "status": "completed"
    },
    "tags": []
   },
   "outputs": [
    {
     "data": {
      "text/html": [
       "<div>\n",
       "<style scoped>\n",
       "    .dataframe tbody tr th:only-of-type {\n",
       "        vertical-align: middle;\n",
       "    }\n",
       "\n",
       "    .dataframe tbody tr th {\n",
       "        vertical-align: top;\n",
       "    }\n",
       "\n",
       "    .dataframe thead th {\n",
       "        text-align: right;\n",
       "    }\n",
       "</style>\n",
       "<table border=\"1\" class=\"dataframe\">\n",
       "  <thead>\n",
       "    <tr style=\"text-align: right;\">\n",
       "      <th></th>\n",
       "      <th>App</th>\n",
       "      <th>Category</th>\n",
       "      <th>Rating</th>\n",
       "      <th>Reviews</th>\n",
       "      <th>Size</th>\n",
       "      <th>Installs</th>\n",
       "      <th>Type</th>\n",
       "      <th>Price</th>\n",
       "      <th>Content Rating</th>\n",
       "      <th>Genres</th>\n",
       "      <th>Last Updated</th>\n",
       "      <th>Current Ver</th>\n",
       "      <th>Android Ver</th>\n",
       "    </tr>\n",
       "  </thead>\n",
       "  <tbody>\n",
       "    <tr>\n",
       "      <th>6561</th>\n",
       "      <td>Hambo</td>\n",
       "      <td>GAME</td>\n",
       "      <td>4.4</td>\n",
       "      <td>125578</td>\n",
       "      <td>17M</td>\n",
       "      <td>5000000</td>\n",
       "      <td>Free</td>\n",
       "      <td>0.0</td>\n",
       "      <td>Everyone</td>\n",
       "      <td>Action</td>\n",
       "      <td>2015-07-06</td>\n",
       "      <td>1.1.8</td>\n",
       "      <td>2.1 and up</td>\n",
       "    </tr>\n",
       "    <tr>\n",
       "      <th>6686</th>\n",
       "      <td>Br Browser</td>\n",
       "      <td>SOCIAL</td>\n",
       "      <td>4.9</td>\n",
       "      <td>29</td>\n",
       "      <td>2.5M</td>\n",
       "      <td>500</td>\n",
       "      <td>Free</td>\n",
       "      <td>0.0</td>\n",
       "      <td>Everyone</td>\n",
       "      <td>Social</td>\n",
       "      <td>2018-03-20</td>\n",
       "      <td>5.0</td>\n",
       "      <td>5.0 and up</td>\n",
       "    </tr>\n",
       "    <tr>\n",
       "      <th>8958</th>\n",
       "      <td>U.S.A DV Lottery Process</td>\n",
       "      <td>FAMILY</td>\n",
       "      <td>4.5</td>\n",
       "      <td>8</td>\n",
       "      <td>1.7M</td>\n",
       "      <td>1000</td>\n",
       "      <td>Free</td>\n",
       "      <td>0.0</td>\n",
       "      <td>Everyone</td>\n",
       "      <td>Education</td>\n",
       "      <td>2017-03-12</td>\n",
       "      <td>1.0</td>\n",
       "      <td>4.1 and up</td>\n",
       "    </tr>\n",
       "    <tr>\n",
       "      <th>8132</th>\n",
       "      <td>Security Camera CZ</td>\n",
       "      <td>HOUSE_AND_HOME</td>\n",
       "      <td>4.4</td>\n",
       "      <td>137</td>\n",
       "      <td>19M</td>\n",
       "      <td>10000</td>\n",
       "      <td>Free</td>\n",
       "      <td>0.0</td>\n",
       "      <td>Everyone</td>\n",
       "      <td>House &amp; Home</td>\n",
       "      <td>2018-07-17</td>\n",
       "      <td>1.1.10</td>\n",
       "      <td>4.1 and up</td>\n",
       "    </tr>\n",
       "    <tr>\n",
       "      <th>5254</th>\n",
       "      <td>AJ Styles HD Wallpapers</td>\n",
       "      <td>ART_AND_DESIGN</td>\n",
       "      <td>4.8</td>\n",
       "      <td>48</td>\n",
       "      <td>25M</td>\n",
       "      <td>5000</td>\n",
       "      <td>Free</td>\n",
       "      <td>0.0</td>\n",
       "      <td>Everyone</td>\n",
       "      <td>Art &amp; Design</td>\n",
       "      <td>2018-08-04</td>\n",
       "      <td>1.1.1</td>\n",
       "      <td>4.1 and up</td>\n",
       "    </tr>\n",
       "  </tbody>\n",
       "</table>\n",
       "</div>"
      ],
      "text/plain": [
       "                           App        Category  Rating  Reviews  Size  \\\n",
       "6561                     Hambo            GAME     4.4   125578   17M   \n",
       "6686                Br Browser          SOCIAL     4.9       29  2.5M   \n",
       "8958  U.S.A DV Lottery Process          FAMILY     4.5        8  1.7M   \n",
       "8132        Security Camera CZ  HOUSE_AND_HOME     4.4      137   19M   \n",
       "5254   AJ Styles HD Wallpapers  ART_AND_DESIGN     4.8       48   25M   \n",
       "\n",
       "      Installs  Type  Price Content Rating        Genres Last Updated  \\\n",
       "6561   5000000  Free    0.0       Everyone        Action   2015-07-06   \n",
       "6686       500  Free    0.0       Everyone        Social   2018-03-20   \n",
       "8958      1000  Free    0.0       Everyone     Education   2017-03-12   \n",
       "8132     10000  Free    0.0       Everyone  House & Home   2018-07-17   \n",
       "5254      5000  Free    0.0       Everyone  Art & Design   2018-08-04   \n",
       "\n",
       "     Current Ver Android Ver  \n",
       "6561       1.1.8  2.1 and up  \n",
       "6686         5.0  5.0 and up  \n",
       "8958         1.0  4.1 and up  \n",
       "8132      1.1.10  4.1 and up  \n",
       "5254       1.1.1  4.1 and up  "
      ]
     },
     "execution_count": 23,
     "metadata": {},
     "output_type": "execute_result"
    }
   ],
   "source": [
    "playstore.sample(5)"
   ]
  },
  {
   "cell_type": "code",
   "execution_count": 24,
   "id": "f148d566",
   "metadata": {
    "execution": {
     "iopub.execute_input": "2024-08-07T13:55:44.415537Z",
     "iopub.status.busy": "2024-08-07T13:55:44.414690Z",
     "iopub.status.idle": "2024-08-07T13:55:44.427840Z",
     "shell.execute_reply": "2024-08-07T13:55:44.426935Z"
    },
    "papermill": {
     "duration": 0.028781,
     "end_time": "2024-08-07T13:55:44.429803",
     "exception": false,
     "start_time": "2024-08-07T13:55:44.401022",
     "status": "completed"
    },
    "tags": []
   },
   "outputs": [
    {
     "data": {
      "text/html": [
       "<div>\n",
       "<style scoped>\n",
       "    .dataframe tbody tr th:only-of-type {\n",
       "        vertical-align: middle;\n",
       "    }\n",
       "\n",
       "    .dataframe tbody tr th {\n",
       "        vertical-align: top;\n",
       "    }\n",
       "\n",
       "    .dataframe thead th {\n",
       "        text-align: right;\n",
       "    }\n",
       "</style>\n",
       "<table border=\"1\" class=\"dataframe\">\n",
       "  <thead>\n",
       "    <tr style=\"text-align: right;\">\n",
       "      <th></th>\n",
       "      <th>App</th>\n",
       "      <th>Translated_Review</th>\n",
       "      <th>Sentiment</th>\n",
       "      <th>Sentiment_Polarity</th>\n",
       "      <th>Sentiment_Subjectivity</th>\n",
       "    </tr>\n",
       "  </thead>\n",
       "  <tbody>\n",
       "    <tr>\n",
       "      <th>31451</th>\n",
       "      <td>Cymera Camera- Photo Editor, Filter,Collage,La...</td>\n",
       "      <td>Great makeup &amp; big eyes</td>\n",
       "      <td>Positive</td>\n",
       "      <td>0.400000</td>\n",
       "      <td>0.425000</td>\n",
       "    </tr>\n",
       "    <tr>\n",
       "      <th>38932</th>\n",
       "      <td>Easy Recipes</td>\n",
       "      <td>Very good cooking recipes I love thank</td>\n",
       "      <td>Positive</td>\n",
       "      <td>0.705000</td>\n",
       "      <td>0.690000</td>\n",
       "    </tr>\n",
       "    <tr>\n",
       "      <th>11718</th>\n",
       "      <td>Baca- Berita Terbaru, Informasi, Gosip dan Pol...</td>\n",
       "      <td>affair</td>\n",
       "      <td>Neutral</td>\n",
       "      <td>0.000000</td>\n",
       "      <td>0.000000</td>\n",
       "    </tr>\n",
       "    <tr>\n",
       "      <th>25091</th>\n",
       "      <td>Chase Mobile</td>\n",
       "      <td>Could better. Functionality intuitive, getting...</td>\n",
       "      <td>Positive</td>\n",
       "      <td>0.107823</td>\n",
       "      <td>0.488435</td>\n",
       "    </tr>\n",
       "    <tr>\n",
       "      <th>94</th>\n",
       "      <td>10 Best Foods for You</td>\n",
       "      <td>Awesome resources I begin new journey. I can't...</td>\n",
       "      <td>Positive</td>\n",
       "      <td>0.712121</td>\n",
       "      <td>0.734848</td>\n",
       "    </tr>\n",
       "  </tbody>\n",
       "</table>\n",
       "</div>"
      ],
      "text/plain": [
       "                                                     App  \\\n",
       "31451  Cymera Camera- Photo Editor, Filter,Collage,La...   \n",
       "38932                                       Easy Recipes   \n",
       "11718  Baca- Berita Terbaru, Informasi, Gosip dan Pol...   \n",
       "25091                                       Chase Mobile   \n",
       "94                                 10 Best Foods for You   \n",
       "\n",
       "                                       Translated_Review Sentiment  \\\n",
       "31451                            Great makeup & big eyes  Positive   \n",
       "38932             Very good cooking recipes I love thank  Positive   \n",
       "11718                                             affair   Neutral   \n",
       "25091  Could better. Functionality intuitive, getting...  Positive   \n",
       "94     Awesome resources I begin new journey. I can't...  Positive   \n",
       "\n",
       "       Sentiment_Polarity  Sentiment_Subjectivity  \n",
       "31451            0.400000                0.425000  \n",
       "38932            0.705000                0.690000  \n",
       "11718            0.000000                0.000000  \n",
       "25091            0.107823                0.488435  \n",
       "94               0.712121                0.734848  "
      ]
     },
     "execution_count": 24,
     "metadata": {},
     "output_type": "execute_result"
    }
   ],
   "source": [
    "user_reviews.sample(5)"
   ]
  },
  {
   "cell_type": "code",
   "execution_count": 25,
   "id": "50e828cd",
   "metadata": {
    "execution": {
     "iopub.execute_input": "2024-08-07T13:55:44.456748Z",
     "iopub.status.busy": "2024-08-07T13:55:44.455978Z",
     "iopub.status.idle": "2024-08-07T13:55:44.462003Z",
     "shell.execute_reply": "2024-08-07T13:55:44.461121Z"
    },
    "papermill": {
     "duration": 0.021675,
     "end_time": "2024-08-07T13:55:44.464061",
     "exception": false,
     "start_time": "2024-08-07T13:55:44.442386",
     "status": "completed"
    },
    "tags": []
   },
   "outputs": [
    {
     "data": {
      "text/plain": [
       "Index(['App', 'Translated_Review', 'Sentiment', 'Sentiment_Polarity',\n",
       "       'Sentiment_Subjectivity'],\n",
       "      dtype='object')"
      ]
     },
     "execution_count": 25,
     "metadata": {},
     "output_type": "execute_result"
    }
   ],
   "source": [
    "user_reviews.columns"
   ]
  },
  {
   "cell_type": "markdown",
   "id": "9e857929",
   "metadata": {
    "papermill": {
     "duration": 0.013644,
     "end_time": "2024-08-07T13:55:44.490265",
     "exception": false,
     "start_time": "2024-08-07T13:55:44.476621",
     "status": "completed"
    },
    "tags": []
   },
   "source": [
    "## Top App Categories by Highest Average Ratings and User Reviews"
   ]
  },
  {
   "cell_type": "code",
   "execution_count": 26,
   "id": "1b72bf86",
   "metadata": {
    "execution": {
     "iopub.execute_input": "2024-08-07T13:55:44.517698Z",
     "iopub.status.busy": "2024-08-07T13:55:44.517344Z",
     "iopub.status.idle": "2024-08-07T13:55:44.524340Z",
     "shell.execute_reply": "2024-08-07T13:55:44.523405Z"
    },
    "papermill": {
     "duration": 0.022762,
     "end_time": "2024-08-07T13:55:44.526457",
     "exception": false,
     "start_time": "2024-08-07T13:55:44.503695",
     "status": "completed"
    },
    "tags": []
   },
   "outputs": [
    {
     "data": {
      "text/plain": [
       "array(['ART_AND_DESIGN', 'AUTO_AND_VEHICLES', 'BEAUTY',\n",
       "       'BOOKS_AND_REFERENCE', 'BUSINESS', 'COMICS', 'COMMUNICATION',\n",
       "       'DATING', 'EDUCATION', 'ENTERTAINMENT', 'EVENTS', 'FINANCE',\n",
       "       'FOOD_AND_DRINK', 'HEALTH_AND_FITNESS', 'HOUSE_AND_HOME',\n",
       "       'LIBRARIES_AND_DEMO', 'LIFESTYLE', 'GAME', 'FAMILY', 'MEDICAL',\n",
       "       'SOCIAL', 'SHOPPING', 'PHOTOGRAPHY', 'SPORTS', 'TRAVEL_AND_LOCAL',\n",
       "       'TOOLS', 'PERSONALIZATION', 'PRODUCTIVITY', 'PARENTING', 'WEATHER',\n",
       "       'VIDEO_PLAYERS', 'NEWS_AND_MAGAZINES', 'MAPS_AND_NAVIGATION'],\n",
       "      dtype=object)"
      ]
     },
     "execution_count": 26,
     "metadata": {},
     "output_type": "execute_result"
    }
   ],
   "source": [
    "playstore['Category'].unique()"
   ]
  },
  {
   "cell_type": "code",
   "execution_count": 27,
   "id": "46436d5c",
   "metadata": {
    "execution": {
     "iopub.execute_input": "2024-08-07T13:55:44.553549Z",
     "iopub.status.busy": "2024-08-07T13:55:44.552999Z",
     "iopub.status.idle": "2024-08-07T13:55:44.880494Z",
     "shell.execute_reply": "2024-08-07T13:55:44.879557Z"
    },
    "papermill": {
     "duration": 0.343477,
     "end_time": "2024-08-07T13:55:44.882734",
     "exception": false,
     "start_time": "2024-08-07T13:55:44.539257",
     "status": "completed"
    },
    "tags": []
   },
   "outputs": [
    {
     "data": {
      "image/png": "[encoded data removed]",
      "text/plain": [
       "<Figure size 1000x600 with 1 Axes>"
      ]
     },
     "metadata": {},
     "output_type": "display_data"
    }
   ],
   "source": [
    "df = playstore.groupby('Category',as_index=False)['Rating'].mean().\\\n",
    "     sort_values(by=['Rating'],ascending = False).head(10)\n",
    "\n",
    "# sns.barplot(data=df, y='Category',x='Rating')\n",
    "# plt.title(\"Top 10 App Categories with Highest Average \")\n",
    "# plt.show()\n",
    "\n",
    "categories = df['Category'][::-1]\n",
    "ratings = df['Rating'][::-1]\n",
    "\n",
    "plt.figure(figsize=(10, 6))\n",
    "plt.barh(categories, ratings, color='skyblue')\n",
    "\n",
    "plt.xlabel('Average Ratings')\n",
    "plt.ylabel('App Categories')\n",
    "plt.title('Top 10 App Categories with Highest Average Ratings')\n",
    "\n",
    "# Show plot\n",
    "plt.show()"
   ]
  },
  {
   "cell_type": "code",
   "execution_count": 28,
   "id": "2a2bf209",
   "metadata": {
    "execution": {
     "iopub.execute_input": "2024-08-07T13:55:44.912057Z",
     "iopub.status.busy": "2024-08-07T13:55:44.911217Z",
     "iopub.status.idle": "2024-08-07T13:55:45.149424Z",
     "shell.execute_reply": "2024-08-07T13:55:45.148449Z"
    },
    "papermill": {
     "duration": 0.255238,
     "end_time": "2024-08-07T13:55:45.151617",
     "exception": false,
     "start_time": "2024-08-07T13:55:44.896379",
     "status": "completed"
    },
    "tags": []
   },
   "outputs": [
    {
     "data": {
      "image/png": "[encoded data removed]",
      "text/plain": [
       "<Figure size 1000x600 with 1 Axes>"
      ]
     },
     "metadata": {},
     "output_type": "display_data"
    }
   ],
   "source": [
    "df = playstore.groupby('Category',as_index=False)['Reviews'].mean().\\\n",
    "     sort_values(by='Reviews',ascending = False).head(10)\n",
    "\n",
    "# sns.barplot(data=df, y='Category',x='Reviews')\n",
    "# plt.title(\"Top 10 App Categories with Highest Average Reviews\")\n",
    "# plt.show()\n",
    "\n",
    "categories = df['Category'][::-1]\n",
    "reviews = df['Reviews'][::-1]\n",
    "\n",
    "plt.figure(figsize=(10, 6))\n",
    "plt.barh(categories, reviews, color='salmon')\n",
    "\n",
    "# Add labels and title\n",
    "plt.xlabel('Average Reviews')\n",
    "plt.ylabel('App Categories')\n",
    "plt.title('Top 10 App Categories with Highest Average Reviews')\n",
    "\n",
    "# Show plot\n",
    "plt.show()"
   ]
  },
  {
   "cell_type": "code",
   "execution_count": 29,
   "id": "dd978337",
   "metadata": {
    "execution": {
     "iopub.execute_input": "2024-08-07T13:55:45.182841Z",
     "iopub.status.busy": "2024-08-07T13:55:45.181974Z",
     "iopub.status.idle": "2024-08-07T13:55:45.763849Z",
     "shell.execute_reply": "2024-08-07T13:55:45.762843Z"
    },
    "papermill": {
     "duration": 0.600116,
     "end_time": "2024-08-07T13:55:45.766363",
     "exception": false,
     "start_time": "2024-08-07T13:55:45.166247",
     "status": "completed"
    },
    "tags": []
   },
   "outputs": [
    {
     "data": {
      "image/png": "[encoded data removed]",
      "text/plain": [
       "<Figure size 1000x1000 with 1 Axes>"
      ]
     },
     "metadata": {},
     "output_type": "display_data"
    }
   ],
   "source": [
    "df = playstore.groupby('Category',as_index=False)[['Rating','Reviews']].mean().\\\n",
    "sort_values(by=['Reviews','Rating'],ascending = False)\n",
    "\n",
    "categories = df['Category'][::-1]\n",
    "ratings = df['Rating'][::-1]\n",
    "reviews = df['Reviews'][::-1]\n",
    "\n",
    "# Normalize the data\n",
    "ratings_norm = ratings / np.max(ratings)\n",
    "reviews_norm = reviews / np.max(reviews)\n",
    "\n",
    "# Create horizontal bar plot\n",
    "plt.figure(figsize=(10, 10))\n",
    "bar_width = 0.4\n",
    "index = np.arange(len(categories))\n",
    "\n",
    "\n",
    "plt.barh(index, ratings_norm, bar_width, color='skyblue', label='Average Ratings')\n",
    "plt.barh(index, reviews_norm, bar_width, color='salmon', label='Average Reviews', left=ratings_norm)\n",
    "\n",
    "# Add labels and title\n",
    "plt.xlabel('Normalized Average Ratings and Reviews')\n",
    "plt.ylabel('App Categories')\n",
    "plt.title('Top 10 App Categories with Highest Average Ratings and Reviews')\n",
    "plt.yticks(index, categories)\n",
    "plt.legend()\n",
    "\n",
    "# Show plot\n",
    "plt.show()"
   ]
  },
  {
   "cell_type": "markdown",
   "id": "37706ece",
   "metadata": {
    "papermill": {
     "duration": 0.015809,
     "end_time": "2024-08-07T13:55:45.798236",
     "exception": false,
     "start_time": "2024-08-07T13:55:45.782427",
     "status": "completed"
    },
    "tags": []
   },
   "source": [
    "While App with categories such as Events , Art & Designs and Education have the highest rating on average. It should also be mention that apps from categories like Social, Communication and Games have the highest Average Reviews accross all the categories.\n",
    "\n",
    "So the top categories are with alot of reviews and still have a relatively highest "
   ]
  },
  {
   "cell_type": "markdown",
   "id": "03880ce1",
   "metadata": {
    "papermill": {
     "duration": 0.015675,
     "end_time": "2024-08-07T13:55:45.830394",
     "exception": false,
     "start_time": "2024-08-07T13:55:45.814719",
     "status": "completed"
    },
    "tags": []
   },
   "source": [
    "## Proportion of Paid Games Versus Free Games in the Dataset\n"
   ]
  },
  {
   "cell_type": "code",
   "execution_count": 30,
   "id": "e1503b4c",
   "metadata": {
    "execution": {
     "iopub.execute_input": "2024-08-07T13:55:45.864066Z",
     "iopub.status.busy": "2024-08-07T13:55:45.863433Z",
     "iopub.status.idle": "2024-08-07T13:55:46.003540Z",
     "shell.execute_reply": "2024-08-07T13:55:46.001940Z"
    },
    "papermill": {
     "duration": 0.160518,
     "end_time": "2024-08-07T13:55:46.006768",
     "exception": false,
     "start_time": "2024-08-07T13:55:45.846250",
     "status": "completed"
    },
    "tags": []
   },
   "outputs": [
    {
     "data": {
      "image/png": "[encoded data removed]",
      "text/plain": [
       "<Figure size 640x480 with 1 Axes>"
      ]
     },
     "metadata": {},
     "output_type": "display_data"
    }
   ],
   "source": [
    "result = playstore.groupby('Type')['App'].count()\n",
    "label = result.index\n",
    "plt.pie(result, labels=label , autopct='%1.1f%%')\n",
    "plt.title('Distribution of Apps by Type on the Google Play Store')\n",
    "plt.show()"
   ]
  },
  {
   "cell_type": "code",
   "execution_count": 31,
   "id": "b5db6501",
   "metadata": {
    "execution": {
     "iopub.execute_input": "2024-08-07T13:55:46.066121Z",
     "iopub.status.busy": "2024-08-07T13:55:46.064678Z",
     "iopub.status.idle": "2024-08-07T13:55:46.745230Z",
     "shell.execute_reply": "2024-08-07T13:55:46.744273Z"
    },
    "papermill": {
     "duration": 0.712451,
     "end_time": "2024-08-07T13:55:46.747287",
     "exception": false,
     "start_time": "2024-08-07T13:55:46.034836",
     "status": "completed"
    },
    "tags": []
   },
   "outputs": [
    {
     "data": {
      "image/png": "[encoded data removed]",
      "text/plain": [
       "<Figure size 640x480 with 1 Axes>"
      ]
     },
     "metadata": {},
     "output_type": "display_data"
    },
    {
     "data": {
      "image/png": "[encoded data removed]",
      "text/plain": [
       "<Figure size 640x480 with 1 Axes>"
      ]
     },
     "metadata": {},
     "output_type": "display_data"
    },
    {
     "data": {
      "image/png": "[encoded data removed]",
      "text/plain": [
       "<Figure size 640x480 with 1 Axes>"
      ]
     },
     "metadata": {},
     "output_type": "display_data"
    }
   ],
   "source": [
    "result = playstore.groupby('Type')['Reviews'].mean()\n",
    "result.plot.bar(color=['skyblue', 'salmon'])\n",
    "plt.title('Average Number of Reviews per App Type')\n",
    "plt.xlabel('App Type')\n",
    "plt.ylabel('Average Number of Reviews')\n",
    "plt.xticks(rotation=0)  # Rotate x-axis labels for better readability\n",
    "plt.show()\n",
    "\n",
    "# Calculate and plot average rating per app type\n",
    "result = playstore.groupby('Type')['Rating'].mean()\n",
    "result.plot.bar(color=['skyblue', 'salmon'])\n",
    "plt.title('Average Rating per App Type')\n",
    "plt.xlabel('App Type')\n",
    "plt.ylabel('Average Rating')\n",
    "plt.xticks(rotation=0)  # Rotate x-axis labels for better readability\n",
    "plt.show()\n",
    "\n",
    "# Calculate and plot average number of installs per app type\n",
    "result = playstore.groupby('Type')['Installs'].mean()\n",
    "result.plot.bar(color=['skyblue', 'salmon'])\n",
    "plt.title('Average Number of Installs per App Type')\n",
    "plt.xlabel('App Type')\n",
    "plt.ylabel('Average Number of Installs')\n",
    "plt.xticks(rotation=0)  # Rotate x-axis labels for better readability\n",
    "plt.show()"
   ]
  },
  {
   "cell_type": "code",
   "execution_count": 32,
   "id": "6bfe2428",
   "metadata": {
    "execution": {
     "iopub.execute_input": "2024-08-07T13:55:46.785625Z",
     "iopub.status.busy": "2024-08-07T13:55:46.785292Z",
     "iopub.status.idle": "2024-08-07T13:55:47.115530Z",
     "shell.execute_reply": "2024-08-07T13:55:47.114574Z"
    },
    "papermill": {
     "duration": 0.352215,
     "end_time": "2024-08-07T13:55:47.117941",
     "exception": false,
     "start_time": "2024-08-07T13:55:46.765726",
     "status": "completed"
    },
    "tags": []
   },
   "outputs": [
    {
     "data": {
      "image/png": "[encoded data removed]",
      "text/plain": [
       "<Figure size 640x480 with 1 Axes>"
      ]
     },
     "metadata": {},
     "output_type": "display_data"
    }
   ],
   "source": [
    "df = playstore[playstore['Type'] == 'Paid']\n",
    "\n",
    "bins = [-float('inf'), 5, 10, 15, float('inf')]\n",
    "labels = ['Under $5', '$5-$10', '$10-$15', '$15+']\n",
    "\n",
    "df['Price Category'] =  pd.cut(df['Price'], bins=bins, labels=labels)\n",
    "\n",
    "result = df['Price Category'].value_counts() \n",
    "\n",
    "sns.barplot(x=result.index, y=result.values, palette='viridis')\n",
    "\n",
    "plt.ylabel('App Count')\n",
    "plt.title('App count according to Price Categories')\n",
    "plt.show()"
   ]
  },
  {
   "cell_type": "code",
   "execution_count": 33,
   "id": "8fee5316",
   "metadata": {
    "execution": {
     "iopub.execute_input": "2024-08-07T13:55:47.157352Z",
     "iopub.status.busy": "2024-08-07T13:55:47.156494Z",
     "iopub.status.idle": "2024-08-07T13:55:47.388047Z",
     "shell.execute_reply": "2024-08-07T13:55:47.387090Z"
    },
    "papermill": {
     "duration": 0.2537,
     "end_time": "2024-08-07T13:55:47.390304",
     "exception": false,
     "start_time": "2024-08-07T13:55:47.136604",
     "status": "completed"
    },
    "tags": []
   },
   "outputs": [
    {
     "data": {
      "image/png": "[encoded data removed]",
      "text/plain": [
       "<Figure size 640x480 with 1 Axes>"
      ]
     },
     "metadata": {},
     "output_type": "display_data"
    }
   ],
   "source": [
    "result = df.groupby('Price Category')['Installs'].mean()\n",
    "result = result/result.max()\n",
    "sns.barplot(x=result.index, y=result.values, palette='viridis')\n",
    "plt.title('Normalized Distribution of Installs by Price Category')\n",
    "plt.show()"
   ]
  },
  {
   "cell_type": "markdown",
   "id": "ddd8e268",
   "metadata": {
    "papermill": {
     "duration": 0.018558,
     "end_time": "2024-08-07T13:55:47.427732",
     "exception": false,
     "start_time": "2024-08-07T13:55:47.409174",
     "status": "completed"
    },
    "tags": []
   },
   "source": [
    "The dataset reveals that approximately **92%** of the games available are free, with only **8%** being paid. This significant disparity indicates a clear preference among users for free apps, as evidenced by higher download rates for these applications. Despite their smaller market share, paid apps receive commendable reviews, averaging a **4.5 rating** across all categories. Notably, apps priced between **USD 5 and USD 10** have garnered more installs than those in other price ranges, suggesting that this price point is particularly effective at attracting users.\n",
    "\n",
    "Therefore, developers are advised to consider offering their apps for free to maximize downloads and explore monetization strategies such as ads and in-app purchases. However, if opting to charge for the app, pricing it between **USD 5 and USD 10** appears to be the most advantageous strategy for balancing user acquisition and revenue.\n"
   ]
  },
  {
   "cell_type": "markdown",
   "id": "a6f7d303",
   "metadata": {
    "papermill": {
     "duration": 0.018239,
     "end_time": "2024-08-07T13:55:47.464627",
     "exception": false,
     "start_time": "2024-08-07T13:55:47.446388",
     "status": "completed"
    },
    "tags": []
   },
   "source": [
    "## Trend of Apps Throughout the Year 2014 - 2018 "
   ]
  },
  {
   "cell_type": "code",
   "execution_count": 34,
   "id": "a15d9a19",
   "metadata": {
    "execution": {
     "iopub.execute_input": "2024-08-07T13:55:47.504547Z",
     "iopub.status.busy": "2024-08-07T13:55:47.504133Z",
     "iopub.status.idle": "2024-08-07T13:55:47.872569Z",
     "shell.execute_reply": "2024-08-07T13:55:47.871591Z"
    },
    "papermill": {
     "duration": 0.391746,
     "end_time": "2024-08-07T13:55:47.874988",
     "exception": false,
     "start_time": "2024-08-07T13:55:47.483242",
     "status": "completed"
    },
    "tags": []
   },
   "outputs": [
    {
     "data": {
      "image/png": "[encoded data removed]",
      "text/plain": [
       "<Figure size 1500x500 with 1 Axes>"
      ]
     },
     "metadata": {},
     "output_type": "display_data"
    }
   ],
   "source": [
    "df = playstore.copy()\n",
    "df = df[['Category', 'Last Updated', 'Genres']]\n",
    "\n",
    "# Extract year from 'Last Updated'\n",
    "df['Year'] = df['Last Updated'].dt.year\n",
    "\n",
    "# Group by 'Category' and 'Year' and count the occurrences\n",
    "result = df[df['Year'] >= 2014].groupby(['Category', 'Year'], as_index=False)['Genres'].count()\n",
    "\n",
    "# Calculate total counts for each category\n",
    "category_totals = result.groupby('Category')['Genres'].sum()\n",
    "\n",
    "# Find the top 3 categories with the highest total counts\n",
    "top_categories = category_totals.nlargest(3).index\n",
    "\n",
    "# Filter the result DataFrame to include only the top 3 categories\n",
    "filtered_result = result[result['Category'].isin(top_categories)]\n",
    "\n",
    "# Plot the data\n",
    "plt.figure(figsize=(15, 5))\n",
    "sns.lineplot(data=filtered_result, x='Year', y='Genres', hue='Category')\n",
    "plt.title('Trends of Top 5 App Categories Over Time')\n",
    "plt.xlabel('Year')\n",
    "plt.ylabel('Number of Apps')\n",
    "plt.legend(title='Category')\n",
    "plt.show()"
   ]
  },
  {
   "cell_type": "code",
   "execution_count": 35,
   "id": "2569202c",
   "metadata": {
    "execution": {
     "iopub.execute_input": "2024-08-07T13:55:47.916010Z",
     "iopub.status.busy": "2024-08-07T13:55:47.915153Z",
     "iopub.status.idle": "2024-08-07T13:55:47.926004Z",
     "shell.execute_reply": "2024-08-07T13:55:47.925057Z"
    },
    "papermill": {
     "duration": 0.033374,
     "end_time": "2024-08-07T13:55:47.928071",
     "exception": false,
     "start_time": "2024-08-07T13:55:47.894697",
     "status": "completed"
    },
    "tags": []
   },
   "outputs": [
    {
     "data": {
      "text/plain": [
       "Genres\n",
       "Action                           299\n",
       "Arcade                           185\n",
       "Racing                            91\n",
       "Adventure                         73\n",
       "Card                              48\n",
       "Board                             42\n",
       "Casino                            39\n",
       "Trivia                            38\n",
       "Puzzle                            24\n",
       "Word                              24\n",
       "Casual                            23\n",
       "Music                             19\n",
       "Strategy                          17\n",
       "Role Playing                      15\n",
       "Simulation                        10\n",
       "Sports                             6\n",
       "Action;Action & Adventure          3\n",
       "Casual;Brain Games                 1\n",
       "Simulation;Action & Adventure      1\n",
       "Adventure;Action & Adventure       1\n",
       "Simulation;Education               1\n",
       "Casual;Action & Adventure          1\n",
       "Casual;Pretend Play                1\n",
       "Casual;Creativity                  1\n",
       "Name: count, dtype: int64"
      ]
     },
     "execution_count": 35,
     "metadata": {},
     "output_type": "execute_result"
    }
   ],
   "source": [
    "playstore[playstore['Category'] == 'GAME']['Genres'].value_counts()"
   ]
  },
  {
   "cell_type": "code",
   "execution_count": 36,
   "id": "2d98dba9",
   "metadata": {
    "execution": {
     "iopub.execute_input": "2024-08-07T13:55:47.969107Z",
     "iopub.status.busy": "2024-08-07T13:55:47.968256Z",
     "iopub.status.idle": "2024-08-07T13:55:47.992314Z",
     "shell.execute_reply": "2024-08-07T13:55:47.991355Z"
    },
    "papermill": {
     "duration": 0.046752,
     "end_time": "2024-08-07T13:55:47.994458",
     "exception": false,
     "start_time": "2024-08-07T13:55:47.947706",
     "status": "completed"
    },
    "tags": []
   },
   "outputs": [
    {
     "data": {
      "text/html": [
       "<div>\n",
       "<style scoped>\n",
       "    .dataframe tbody tr th:only-of-type {\n",
       "        vertical-align: middle;\n",
       "    }\n",
       "\n",
       "    .dataframe tbody tr th {\n",
       "        vertical-align: top;\n",
       "    }\n",
       "\n",
       "    .dataframe thead th {\n",
       "        text-align: right;\n",
       "    }\n",
       "</style>\n",
       "<table border=\"1\" class=\"dataframe\">\n",
       "  <thead>\n",
       "    <tr style=\"text-align: right;\">\n",
       "      <th></th>\n",
       "      <th>App</th>\n",
       "      <th>Category</th>\n",
       "      <th>Rating</th>\n",
       "      <th>Reviews</th>\n",
       "      <th>Size</th>\n",
       "      <th>Installs</th>\n",
       "      <th>Type</th>\n",
       "      <th>Price</th>\n",
       "      <th>Content Rating</th>\n",
       "      <th>Genres</th>\n",
       "      <th>Last Updated</th>\n",
       "      <th>Current Ver</th>\n",
       "      <th>Android Ver</th>\n",
       "    </tr>\n",
       "  </thead>\n",
       "  <tbody>\n",
       "    <tr>\n",
       "      <th>0</th>\n",
       "      <td>Photo Editor &amp; Candy Camera &amp; Grid &amp; ScrapBook</td>\n",
       "      <td>ART_AND_DESIGN</td>\n",
       "      <td>4.1</td>\n",
       "      <td>159</td>\n",
       "      <td>19M</td>\n",
       "      <td>10000</td>\n",
       "      <td>Free</td>\n",
       "      <td>0.0</td>\n",
       "      <td>Everyone</td>\n",
       "      <td>Art &amp; Design</td>\n",
       "      <td>2018-01-07</td>\n",
       "      <td>1.0.0</td>\n",
       "      <td>4.0.3 and up</td>\n",
       "    </tr>\n",
       "    <tr>\n",
       "      <th>1655</th>\n",
       "      <td>Candy Crush Saga</td>\n",
       "      <td>GAME</td>\n",
       "      <td>4.4</td>\n",
       "      <td>22426677</td>\n",
       "      <td>74M</td>\n",
       "      <td>500000000</td>\n",
       "      <td>Free</td>\n",
       "      <td>0.0</td>\n",
       "      <td>Everyone</td>\n",
       "      <td>Casual</td>\n",
       "      <td>2018-07-05</td>\n",
       "      <td>1.129.0.2</td>\n",
       "      <td>4.1 and up</td>\n",
       "    </tr>\n",
       "    <tr>\n",
       "      <th>1668</th>\n",
       "      <td>Candy Crush Soda Saga</td>\n",
       "      <td>GAME</td>\n",
       "      <td>4.4</td>\n",
       "      <td>6198563</td>\n",
       "      <td>67M</td>\n",
       "      <td>100000000</td>\n",
       "      <td>Free</td>\n",
       "      <td>0.0</td>\n",
       "      <td>Everyone</td>\n",
       "      <td>Casual</td>\n",
       "      <td>2018-07-10</td>\n",
       "      <td>1.118.4</td>\n",
       "      <td>4.1 and up</td>\n",
       "    </tr>\n",
       "    <tr>\n",
       "      <th>1688</th>\n",
       "      <td>Candy Crush Jelly Saga</td>\n",
       "      <td>GAME</td>\n",
       "      <td>4.3</td>\n",
       "      <td>1300490</td>\n",
       "      <td>78M</td>\n",
       "      <td>50000000</td>\n",
       "      <td>Free</td>\n",
       "      <td>0.0</td>\n",
       "      <td>Everyone</td>\n",
       "      <td>Puzzle</td>\n",
       "      <td>2018-07-20</td>\n",
       "      <td>2.1.10</td>\n",
       "      <td>4.0 and up</td>\n",
       "    </tr>\n",
       "    <tr>\n",
       "      <th>1903</th>\n",
       "      <td>Sweet Fruit Candy</td>\n",
       "      <td>GAME</td>\n",
       "      <td>4.5</td>\n",
       "      <td>197540</td>\n",
       "      <td>29M</td>\n",
       "      <td>10000000</td>\n",
       "      <td>Free</td>\n",
       "      <td>0.0</td>\n",
       "      <td>Everyone</td>\n",
       "      <td>Puzzle</td>\n",
       "      <td>2018-07-16</td>\n",
       "      <td>79.0</td>\n",
       "      <td>4.1 and up</td>\n",
       "    </tr>\n",
       "    <tr>\n",
       "      <th>1980</th>\n",
       "      <td>Candy Bomb</td>\n",
       "      <td>GAME</td>\n",
       "      <td>4.4</td>\n",
       "      <td>42145</td>\n",
       "      <td>20M</td>\n",
       "      <td>10000000</td>\n",
       "      <td>Free</td>\n",
       "      <td>0.0</td>\n",
       "      <td>Everyone</td>\n",
       "      <td>Casual;Brain Games</td>\n",
       "      <td>2018-07-04</td>\n",
       "      <td>2.9.3181</td>\n",
       "      <td>4.0.3 and up</td>\n",
       "    </tr>\n",
       "    <tr>\n",
       "      <th>2023</th>\n",
       "      <td>Candy Pop Story</td>\n",
       "      <td>FAMILY</td>\n",
       "      <td>4.7</td>\n",
       "      <td>12948</td>\n",
       "      <td>23M</td>\n",
       "      <td>1000000</td>\n",
       "      <td>Free</td>\n",
       "      <td>0.0</td>\n",
       "      <td>Everyone</td>\n",
       "      <td>Casual;Brain Games</td>\n",
       "      <td>2018-05-24</td>\n",
       "      <td>2.0.3165</td>\n",
       "      <td>2.3 and up</td>\n",
       "    </tr>\n",
       "    <tr>\n",
       "      <th>2027</th>\n",
       "      <td>Candy Smash</td>\n",
       "      <td>FAMILY</td>\n",
       "      <td>4.5</td>\n",
       "      <td>11436</td>\n",
       "      <td>15M</td>\n",
       "      <td>1000000</td>\n",
       "      <td>Free</td>\n",
       "      <td>0.0</td>\n",
       "      <td>Everyone</td>\n",
       "      <td>Casual;Brain Games</td>\n",
       "      <td>2018-04-17</td>\n",
       "      <td>2.2.3169</td>\n",
       "      <td>4.0.3 and up</td>\n",
       "    </tr>\n",
       "    <tr>\n",
       "      <th>2046</th>\n",
       "      <td>Candy Day</td>\n",
       "      <td>FAMILY</td>\n",
       "      <td>4.5</td>\n",
       "      <td>11716</td>\n",
       "      <td>48M</td>\n",
       "      <td>1000000</td>\n",
       "      <td>Free</td>\n",
       "      <td>0.0</td>\n",
       "      <td>Everyone</td>\n",
       "      <td>Casual;Brain Games</td>\n",
       "      <td>2018-08-03</td>\n",
       "      <td>8.4.3180</td>\n",
       "      <td>4.0 and up</td>\n",
       "    </tr>\n",
       "    <tr>\n",
       "      <th>2848</th>\n",
       "      <td>Candy selfie - photo editor, live filter camera</td>\n",
       "      <td>PHOTOGRAPHY</td>\n",
       "      <td>4.4</td>\n",
       "      <td>53421</td>\n",
       "      <td>26M</td>\n",
       "      <td>10000000</td>\n",
       "      <td>Free</td>\n",
       "      <td>0.0</td>\n",
       "      <td>Everyone</td>\n",
       "      <td>Photography</td>\n",
       "      <td>2018-08-06</td>\n",
       "      <td>2.74.685</td>\n",
       "      <td>4.0.3 and up</td>\n",
       "    </tr>\n",
       "    <tr>\n",
       "      <th>2872</th>\n",
       "      <td>Candy Camera - selfie, beauty camera, photo ed...</td>\n",
       "      <td>PHOTOGRAPHY</td>\n",
       "      <td>4.4</td>\n",
       "      <td>3368649</td>\n",
       "      <td>Varies with device</td>\n",
       "      <td>100000000</td>\n",
       "      <td>Free</td>\n",
       "      <td>0.0</td>\n",
       "      <td>Everyone</td>\n",
       "      <td>Photography</td>\n",
       "      <td>2018-07-16</td>\n",
       "      <td>4.47</td>\n",
       "      <td>4.0.3 and up</td>\n",
       "    </tr>\n",
       "    <tr>\n",
       "      <th>10458</th>\n",
       "      <td>Candy simply-Fi</td>\n",
       "      <td>LIFESTYLE</td>\n",
       "      <td>2.1</td>\n",
       "      <td>2390</td>\n",
       "      <td>35M</td>\n",
       "      <td>100000</td>\n",
       "      <td>Free</td>\n",
       "      <td>0.0</td>\n",
       "      <td>Everyone</td>\n",
       "      <td>Lifestyle</td>\n",
       "      <td>2018-07-17</td>\n",
       "      <td>1.8.4.7</td>\n",
       "      <td>4.4 and up</td>\n",
       "    </tr>\n",
       "  </tbody>\n",
       "</table>\n",
       "</div>"
      ],
      "text/plain": [
       "                                                     App        Category  \\\n",
       "0         Photo Editor & Candy Camera & Grid & ScrapBook  ART_AND_DESIGN   \n",
       "1655                                    Candy Crush Saga            GAME   \n",
       "1668                               Candy Crush Soda Saga            GAME   \n",
       "1688                              Candy Crush Jelly Saga            GAME   \n",
       "1903                                   Sweet Fruit Candy            GAME   \n",
       "1980                                          Candy Bomb            GAME   \n",
       "2023                                     Candy Pop Story          FAMILY   \n",
       "2027                                         Candy Smash          FAMILY   \n",
       "2046                                           Candy Day          FAMILY   \n",
       "2848     Candy selfie - photo editor, live filter camera     PHOTOGRAPHY   \n",
       "2872   Candy Camera - selfie, beauty camera, photo ed...     PHOTOGRAPHY   \n",
       "10458                                    Candy simply-Fi       LIFESTYLE   \n",
       "\n",
       "       Rating   Reviews                Size   Installs  Type  Price  \\\n",
       "0         4.1       159                 19M      10000  Free    0.0   \n",
       "1655      4.4  22426677                 74M  500000000  Free    0.0   \n",
       "1668      4.4   6198563                 67M  100000000  Free    0.0   \n",
       "1688      4.3   1300490                 78M   50000000  Free    0.0   \n",
       "1903      4.5    197540                 29M   10000000  Free    0.0   \n",
       "1980      4.4     42145                 20M   10000000  Free    0.0   \n",
       "2023      4.7     12948                 23M    1000000  Free    0.0   \n",
       "2027      4.5     11436                 15M    1000000  Free    0.0   \n",
       "2046      4.5     11716                 48M    1000000  Free    0.0   \n",
       "2848      4.4     53421                 26M   10000000  Free    0.0   \n",
       "2872      4.4   3368649  Varies with device  100000000  Free    0.0   \n",
       "10458     2.1      2390                 35M     100000  Free    0.0   \n",
       "\n",
       "      Content Rating              Genres Last Updated Current Ver  \\\n",
       "0           Everyone        Art & Design   2018-01-07       1.0.0   \n",
       "1655        Everyone              Casual   2018-07-05   1.129.0.2   \n",
       "1668        Everyone              Casual   2018-07-10     1.118.4   \n",
       "1688        Everyone              Puzzle   2018-07-20      2.1.10   \n",
       "1903        Everyone              Puzzle   2018-07-16        79.0   \n",
       "1980        Everyone  Casual;Brain Games   2018-07-04    2.9.3181   \n",
       "2023        Everyone  Casual;Brain Games   2018-05-24    2.0.3165   \n",
       "2027        Everyone  Casual;Brain Games   2018-04-17    2.2.3169   \n",
       "2046        Everyone  Casual;Brain Games   2018-08-03    8.4.3180   \n",
       "2848        Everyone         Photography   2018-08-06    2.74.685   \n",
       "2872        Everyone         Photography   2018-07-16        4.47   \n",
       "10458       Everyone           Lifestyle   2018-07-17     1.8.4.7   \n",
       "\n",
       "        Android Ver  \n",
       "0      4.0.3 and up  \n",
       "1655     4.1 and up  \n",
       "1668     4.1 and up  \n",
       "1688     4.0 and up  \n",
       "1903     4.1 and up  \n",
       "1980   4.0.3 and up  \n",
       "2023     2.3 and up  \n",
       "2027   4.0.3 and up  \n",
       "2046     4.0 and up  \n",
       "2848   4.0.3 and up  \n",
       "2872   4.0.3 and up  \n",
       "10458    4.4 and up  "
      ]
     },
     "execution_count": 36,
     "metadata": {},
     "output_type": "execute_result"
    }
   ],
   "source": [
    "playstore[playstore['App'].str.contains(\"Candy\")]"
   ]
  },
  {
   "cell_type": "code",
   "execution_count": 37,
   "id": "ac3bf8cb",
   "metadata": {
    "execution": {
     "iopub.execute_input": "2024-08-07T13:55:48.036335Z",
     "iopub.status.busy": "2024-08-07T13:55:48.035693Z",
     "iopub.status.idle": "2024-08-07T13:55:48.057266Z",
     "shell.execute_reply": "2024-08-07T13:55:48.056309Z"
    },
    "papermill": {
     "duration": 0.044755,
     "end_time": "2024-08-07T13:55:48.059412",
     "exception": false,
     "start_time": "2024-08-07T13:55:48.014657",
     "status": "completed"
    },
    "tags": []
   },
   "outputs": [
    {
     "data": {
      "text/html": [
       "<div>\n",
       "<style scoped>\n",
       "    .dataframe tbody tr th:only-of-type {\n",
       "        vertical-align: middle;\n",
       "    }\n",
       "\n",
       "    .dataframe tbody tr th {\n",
       "        vertical-align: top;\n",
       "    }\n",
       "\n",
       "    .dataframe thead th {\n",
       "        text-align: right;\n",
       "    }\n",
       "</style>\n",
       "<table border=\"1\" class=\"dataframe\">\n",
       "  <thead>\n",
       "    <tr style=\"text-align: right;\">\n",
       "      <th></th>\n",
       "      <th>App</th>\n",
       "      <th>Category</th>\n",
       "      <th>Rating</th>\n",
       "      <th>Reviews</th>\n",
       "      <th>Size</th>\n",
       "      <th>Installs</th>\n",
       "      <th>Type</th>\n",
       "      <th>Price</th>\n",
       "      <th>Content Rating</th>\n",
       "      <th>Genres</th>\n",
       "      <th>Last Updated</th>\n",
       "      <th>Current Ver</th>\n",
       "      <th>Android Ver</th>\n",
       "    </tr>\n",
       "  </thead>\n",
       "  <tbody>\n",
       "    <tr>\n",
       "      <th>2017</th>\n",
       "      <td>Jewels Crush- Match 3 Puzzle</td>\n",
       "      <td>FAMILY</td>\n",
       "      <td>4.4</td>\n",
       "      <td>14774</td>\n",
       "      <td>19M</td>\n",
       "      <td>1000000</td>\n",
       "      <td>Free</td>\n",
       "      <td>0.0</td>\n",
       "      <td>Everyone</td>\n",
       "      <td>Casual;Brain Games</td>\n",
       "      <td>2018-07-23</td>\n",
       "      <td>1.9.3901</td>\n",
       "      <td>4.0.3 and up</td>\n",
       "    </tr>\n",
       "    <tr>\n",
       "      <th>2018</th>\n",
       "      <td>Coloring &amp; Learn</td>\n",
       "      <td>FAMILY</td>\n",
       "      <td>4.4</td>\n",
       "      <td>12753</td>\n",
       "      <td>51M</td>\n",
       "      <td>5000000</td>\n",
       "      <td>Free</td>\n",
       "      <td>0.0</td>\n",
       "      <td>Everyone</td>\n",
       "      <td>Educational;Creativity</td>\n",
       "      <td>2018-07-17</td>\n",
       "      <td>1.49</td>\n",
       "      <td>4.0.3 and up</td>\n",
       "    </tr>\n",
       "    <tr>\n",
       "      <th>2019</th>\n",
       "      <td>Mahjong</td>\n",
       "      <td>FAMILY</td>\n",
       "      <td>4.5</td>\n",
       "      <td>33983</td>\n",
       "      <td>22M</td>\n",
       "      <td>5000000</td>\n",
       "      <td>Free</td>\n",
       "      <td>0.0</td>\n",
       "      <td>Everyone</td>\n",
       "      <td>Puzzle;Brain Games</td>\n",
       "      <td>2018-08-02</td>\n",
       "      <td>1.24.3181</td>\n",
       "      <td>4.0.3 and up</td>\n",
       "    </tr>\n",
       "    <tr>\n",
       "      <th>2020</th>\n",
       "      <td>Super ABC! Learning games for kids! Preschool ...</td>\n",
       "      <td>FAMILY</td>\n",
       "      <td>4.6</td>\n",
       "      <td>20267</td>\n",
       "      <td>46M</td>\n",
       "      <td>1000000</td>\n",
       "      <td>Free</td>\n",
       "      <td>0.0</td>\n",
       "      <td>Everyone</td>\n",
       "      <td>Educational;Education</td>\n",
       "      <td>2018-07-16</td>\n",
       "      <td>1.1.6.7</td>\n",
       "      <td>4.1 and up</td>\n",
       "    </tr>\n",
       "    <tr>\n",
       "      <th>2021</th>\n",
       "      <td>Toy Pop Cubes</td>\n",
       "      <td>FAMILY</td>\n",
       "      <td>4.5</td>\n",
       "      <td>5761</td>\n",
       "      <td>21M</td>\n",
       "      <td>1000000</td>\n",
       "      <td>Free</td>\n",
       "      <td>0.0</td>\n",
       "      <td>Everyone</td>\n",
       "      <td>Casual;Brain Games</td>\n",
       "      <td>2018-07-04</td>\n",
       "      <td>1.8.3181</td>\n",
       "      <td>4.0.3 and up</td>\n",
       "    </tr>\n",
       "    <tr>\n",
       "      <th>...</th>\n",
       "      <td>...</td>\n",
       "      <td>...</td>\n",
       "      <td>...</td>\n",
       "      <td>...</td>\n",
       "      <td>...</td>\n",
       "      <td>...</td>\n",
       "      <td>...</td>\n",
       "      <td>...</td>\n",
       "      <td>...</td>\n",
       "      <td>...</td>\n",
       "      <td>...</td>\n",
       "      <td>...</td>\n",
       "      <td>...</td>\n",
       "    </tr>\n",
       "    <tr>\n",
       "      <th>10821</th>\n",
       "      <td>Poop FR</td>\n",
       "      <td>FAMILY</td>\n",
       "      <td>NaN</td>\n",
       "      <td>6</td>\n",
       "      <td>2.5M</td>\n",
       "      <td>50</td>\n",
       "      <td>Free</td>\n",
       "      <td>0.0</td>\n",
       "      <td>Everyone</td>\n",
       "      <td>Entertainment</td>\n",
       "      <td>2018-05-29</td>\n",
       "      <td>1.0</td>\n",
       "      <td>4.0.3 and up</td>\n",
       "    </tr>\n",
       "    <tr>\n",
       "      <th>10827</th>\n",
       "      <td>Fr Agnel Ambarnath</td>\n",
       "      <td>FAMILY</td>\n",
       "      <td>4.2</td>\n",
       "      <td>117</td>\n",
       "      <td>13M</td>\n",
       "      <td>5000</td>\n",
       "      <td>Free</td>\n",
       "      <td>0.0</td>\n",
       "      <td>Everyone</td>\n",
       "      <td>Education</td>\n",
       "      <td>2018-06-13</td>\n",
       "      <td>2.0.20</td>\n",
       "      <td>4.0.3 and up</td>\n",
       "    </tr>\n",
       "    <tr>\n",
       "      <th>10834</th>\n",
       "      <td>FR Calculator</td>\n",
       "      <td>FAMILY</td>\n",
       "      <td>4.0</td>\n",
       "      <td>7</td>\n",
       "      <td>2.6M</td>\n",
       "      <td>500</td>\n",
       "      <td>Free</td>\n",
       "      <td>0.0</td>\n",
       "      <td>Everyone</td>\n",
       "      <td>Education</td>\n",
       "      <td>2017-06-18</td>\n",
       "      <td>1.0.0</td>\n",
       "      <td>4.1 and up</td>\n",
       "    </tr>\n",
       "    <tr>\n",
       "      <th>10836</th>\n",
       "      <td>Sya9a Maroc - FR</td>\n",
       "      <td>FAMILY</td>\n",
       "      <td>4.5</td>\n",
       "      <td>38</td>\n",
       "      <td>53M</td>\n",
       "      <td>5000</td>\n",
       "      <td>Free</td>\n",
       "      <td>0.0</td>\n",
       "      <td>Everyone</td>\n",
       "      <td>Education</td>\n",
       "      <td>2017-07-25</td>\n",
       "      <td>1.48</td>\n",
       "      <td>4.1 and up</td>\n",
       "    </tr>\n",
       "    <tr>\n",
       "      <th>10837</th>\n",
       "      <td>Fr. Mike Schmitz Audio Teachings</td>\n",
       "      <td>FAMILY</td>\n",
       "      <td>5.0</td>\n",
       "      <td>4</td>\n",
       "      <td>3.6M</td>\n",
       "      <td>100</td>\n",
       "      <td>Free</td>\n",
       "      <td>0.0</td>\n",
       "      <td>Everyone</td>\n",
       "      <td>Education</td>\n",
       "      <td>2018-07-06</td>\n",
       "      <td>1.0</td>\n",
       "      <td>4.1 and up</td>\n",
       "    </tr>\n",
       "  </tbody>\n",
       "</table>\n",
       "<p>1832 rows × 13 columns</p>\n",
       "</div>"
      ],
      "text/plain": [
       "                                                     App Category  Rating  \\\n",
       "2017                        Jewels Crush- Match 3 Puzzle   FAMILY     4.4   \n",
       "2018                                    Coloring & Learn   FAMILY     4.4   \n",
       "2019                                             Mahjong   FAMILY     4.5   \n",
       "2020   Super ABC! Learning games for kids! Preschool ...   FAMILY     4.6   \n",
       "2021                                       Toy Pop Cubes   FAMILY     4.5   \n",
       "...                                                  ...      ...     ...   \n",
       "10821                                            Poop FR   FAMILY     NaN   \n",
       "10827                                 Fr Agnel Ambarnath   FAMILY     4.2   \n",
       "10834                                      FR Calculator   FAMILY     4.0   \n",
       "10836                                   Sya9a Maroc - FR   FAMILY     4.5   \n",
       "10837                   Fr. Mike Schmitz Audio Teachings   FAMILY     5.0   \n",
       "\n",
       "       Reviews  Size  Installs  Type  Price Content Rating  \\\n",
       "2017     14774   19M   1000000  Free    0.0       Everyone   \n",
       "2018     12753   51M   5000000  Free    0.0       Everyone   \n",
       "2019     33983   22M   5000000  Free    0.0       Everyone   \n",
       "2020     20267   46M   1000000  Free    0.0       Everyone   \n",
       "2021      5761   21M   1000000  Free    0.0       Everyone   \n",
       "...        ...   ...       ...   ...    ...            ...   \n",
       "10821        6  2.5M        50  Free    0.0       Everyone   \n",
       "10827      117   13M      5000  Free    0.0       Everyone   \n",
       "10834        7  2.6M       500  Free    0.0       Everyone   \n",
       "10836       38   53M      5000  Free    0.0       Everyone   \n",
       "10837        4  3.6M       100  Free    0.0       Everyone   \n",
       "\n",
       "                       Genres Last Updated Current Ver   Android Ver  \n",
       "2017       Casual;Brain Games   2018-07-23    1.9.3901  4.0.3 and up  \n",
       "2018   Educational;Creativity   2018-07-17        1.49  4.0.3 and up  \n",
       "2019       Puzzle;Brain Games   2018-08-02   1.24.3181  4.0.3 and up  \n",
       "2020    Educational;Education   2018-07-16     1.1.6.7    4.1 and up  \n",
       "2021       Casual;Brain Games   2018-07-04    1.8.3181  4.0.3 and up  \n",
       "...                       ...          ...         ...           ...  \n",
       "10821           Entertainment   2018-05-29         1.0  4.0.3 and up  \n",
       "10827               Education   2018-06-13      2.0.20  4.0.3 and up  \n",
       "10834               Education   2017-06-18       1.0.0    4.1 and up  \n",
       "10836               Education   2017-07-25        1.48    4.1 and up  \n",
       "10837               Education   2018-07-06         1.0    4.1 and up  \n",
       "\n",
       "[1832 rows x 13 columns]"
      ]
     },
     "execution_count": 37,
     "metadata": {},
     "output_type": "execute_result"
    }
   ],
   "source": [
    "playstore[playstore['Category']=='FAMILY']"
   ]
  },
  {
   "cell_type": "markdown",
   "id": "966d690f",
   "metadata": {
    "papermill": {
     "duration": 0.019989,
     "end_time": "2024-08-07T13:55:48.100013",
     "exception": false,
     "start_time": "2024-08-07T13:55:48.080024",
     "status": "completed"
    },
    "tags": []
   },
   "source": [
    "# END"
   ]
  }
 ],
 "metadata": {
  "kaggle": {
   "accelerator": "none",
   "dataSources": [
    {
     "datasetId": 49864,
     "sourceId": 274957,
     "sourceType": "datasetVersion"
    }
   ],
   "dockerImageVersionId": 30698,
   "isGpuEnabled": false,
   "isInternetEnabled": true,
   "language": "python",
   "sourceType": "notebook"
  },
  "kernelspec": {
   "display_name": "Python 3",
   "language": "python",
   "name": "python3"
  },
  "language_info": {
   "codemirror_mode": {
    "name": "ipython",
    "version": 3
   },
   "file_extension": ".py",
   "mimetype": "text/x-python",
   "name": "python",
   "nbconvert_exporter": "python",
   "pygments_lexer": "ipython3",
   "version": "3.10.13"
  },
  "papermill": {
   "default_parameters": {},
   "duration": 10.120294,
   "end_time": "2024-08-07T13:55:48.639653",
   "environment_variables": {},
   "exception": null,
   "input_path": "__notebook__.ipynb",
   "output_path": "__notebook__.ipynb",
   "parameters": {},
   "start_time": "2024-08-07T13:55:38.519359",
   "version": "2.5.0"
  }
 },
 "nbformat": 4,
 "nbformat_minor": 5
}
