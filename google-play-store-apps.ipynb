{
 "cells": [
  {
   "cell_type": "markdown",
   "id": "01783972",
   "metadata": {
    "papermill": {
     "duration": 0.013343,
     "end_time": "2024-08-06T18:00:52.431661",
     "exception": false,
     "start_time": "2024-08-06T18:00:52.418318",
     "status": "completed"
    },
    "tags": []
   },
   "source": [
    "# Introduction\n",
    "\n",
    "In today's digital landscape, the Google Play Store serves as a pivotal platform for Android apps, housing millions of applications spanning various categories. For developers and marketers, understanding user preferences, sentiments, and behaviors within this ecosystem is paramount for app success."
   ]
  },
  {
   "cell_type": "markdown",
   "id": "e5875c5b",
   "metadata": {
    "papermill": {
     "duration": 0.012586,
     "end_time": "2024-08-06T18:00:52.457093",
     "exception": false,
     "start_time": "2024-08-06T18:00:52.444507",
     "status": "completed"
    },
    "tags": []
   },
   "source": [
    "# Objective\n",
    "As a data analyst, I aim to utilize two datasets: one containing Google Play app information and another with user reviews and sentiment analysis to identify the key factors contributing to the success of mobile applications on the Google Play Store. Ultimately, this analysis will provide actionable insights to app developers and marketers, enabling them to optimize app development, refine marketing strategies, and enhance user experiences, thereby increasing the likelihood of app success on the Google Play Store."
   ]
  },
  {
   "cell_type": "code",
   "execution_count": 1,
   "id": "02017949",
   "metadata": {
    "_cell_guid": "b1076dfc-b9ad-4769-8c92-a6c4dae69d19",
    "_uuid": "8f2839f25d086af736a60e9eeb907d3b93b6e0e5",
    "execution": {
     "iopub.execute_input": "2024-08-06T18:00:52.485312Z",
     "iopub.status.busy": "2024-08-06T18:00:52.484847Z",
     "iopub.status.idle": "2024-08-06T18:00:55.015150Z",
     "shell.execute_reply": "2024-08-06T18:00:55.013117Z"
    },
    "papermill": {
     "duration": 2.548236,
     "end_time": "2024-08-06T18:00:55.018096",
     "exception": false,
     "start_time": "2024-08-06T18:00:52.469860",
     "status": "completed"
    },
    "tags": []
   },
   "outputs": [
    {
     "name": "stdout",
     "output_type": "stream",
     "text": [
      "/kaggle/input/google-play-store-apps/googleplaystore.csv\n",
      "/kaggle/input/google-play-store-apps/license.txt\n",
      "/kaggle/input/google-play-store-apps/googleplaystore_user_reviews.csv\n"
     ]
    }
   ],
   "source": [
    "import numpy as np # linear algebra|\n",
    "import pandas as pd # data processing, CSV file I/O (e.g. pd.read_csv)\n",
    "from scipy import stats\n",
    "import matplotlib.pyplot as plt\n",
    "import seaborn as sns\n",
    "plt.style.use('ggplot')\n",
    "\n",
    "\n",
    "import os\n",
    "for dirname, _, filenames in os.walk('/kaggle/input'):\n",
    "    for filename in filenames:\n",
    "        print(os.path.join(dirname, filename))"
   ]
  },
  {
   "cell_type": "code",
   "execution_count": 2,
   "id": "d73a4fb4",
   "metadata": {
    "execution": {
     "iopub.execute_input": "2024-08-06T18:00:55.048198Z",
     "iopub.status.busy": "2024-08-06T18:00:55.047595Z",
     "iopub.status.idle": "2024-08-06T18:00:55.408317Z",
     "shell.execute_reply": "2024-08-06T18:00:55.407150Z"
    },
    "papermill": {
     "duration": 0.380009,
     "end_time": "2024-08-06T18:00:55.411749",
     "exception": false,
     "start_time": "2024-08-06T18:00:55.031740",
     "status": "completed"
    },
    "tags": []
   },
   "outputs": [],
   "source": [
    "playstore = pd.read_csv('/kaggle/input/google-play-store-apps/googleplaystore.csv')\n",
    "user_reviews = pd.read_csv('/kaggle/input/google-play-store-apps/googleplaystore_user_reviews.csv')"
   ]
  },
  {
   "cell_type": "code",
   "execution_count": 3,
   "id": "adb3b05c",
   "metadata": {
    "execution": {
     "iopub.execute_input": "2024-08-06T18:00:55.440222Z",
     "iopub.status.busy": "2024-08-06T18:00:55.439784Z",
     "iopub.status.idle": "2024-08-06T18:00:55.474524Z",
     "shell.execute_reply": "2024-08-06T18:00:55.473172Z"
    },
    "papermill": {
     "duration": 0.052695,
     "end_time": "2024-08-06T18:00:55.477762",
     "exception": false,
     "start_time": "2024-08-06T18:00:55.425067",
     "status": "completed"
    },
    "tags": []
   },
   "outputs": [
    {
     "data": {
      "text/html": [
       "<div>\n",
       "<style scoped>\n",
       "    .dataframe tbody tr th:only-of-type {\n",
       "        vertical-align: middle;\n",
       "    }\n",
       "\n",
       "    .dataframe tbody tr th {\n",
       "        vertical-align: top;\n",
       "    }\n",
       "\n",
       "    .dataframe thead th {\n",
       "        text-align: right;\n",
       "    }\n",
       "</style>\n",
       "<table border=\"1\" class=\"dataframe\">\n",
       "  <thead>\n",
       "    <tr style=\"text-align: right;\">\n",
       "      <th></th>\n",
       "      <th>App</th>\n",
       "      <th>Category</th>\n",
       "      <th>Rating</th>\n",
       "      <th>Reviews</th>\n",
       "      <th>Size</th>\n",
       "      <th>Installs</th>\n",
       "      <th>Type</th>\n",
       "      <th>Price</th>\n",
       "      <th>Content Rating</th>\n",
       "      <th>Genres</th>\n",
       "      <th>Last Updated</th>\n",
       "      <th>Current Ver</th>\n",
       "      <th>Android Ver</th>\n",
       "    </tr>\n",
       "  </thead>\n",
       "  <tbody>\n",
       "    <tr>\n",
       "      <th>0</th>\n",
       "      <td>Photo Editor &amp; Candy Camera &amp; Grid &amp; ScrapBook</td>\n",
       "      <td>ART_AND_DESIGN</td>\n",
       "      <td>4.1</td>\n",
       "      <td>159</td>\n",
       "      <td>19M</td>\n",
       "      <td>10,000+</td>\n",
       "      <td>Free</td>\n",
       "      <td>0</td>\n",
       "      <td>Everyone</td>\n",
       "      <td>Art &amp; Design</td>\n",
       "      <td>January 7, 2018</td>\n",
       "      <td>1.0.0</td>\n",
       "      <td>4.0.3 and up</td>\n",
       "    </tr>\n",
       "    <tr>\n",
       "      <th>1</th>\n",
       "      <td>Coloring book moana</td>\n",
       "      <td>ART_AND_DESIGN</td>\n",
       "      <td>3.9</td>\n",
       "      <td>967</td>\n",
       "      <td>14M</td>\n",
       "      <td>500,000+</td>\n",
       "      <td>Free</td>\n",
       "      <td>0</td>\n",
       "      <td>Everyone</td>\n",
       "      <td>Art &amp; Design;Pretend Play</td>\n",
       "      <td>January 15, 2018</td>\n",
       "      <td>2.0.0</td>\n",
       "      <td>4.0.3 and up</td>\n",
       "    </tr>\n",
       "    <tr>\n",
       "      <th>2</th>\n",
       "      <td>U Launcher Lite – FREE Live Cool Themes, Hide ...</td>\n",
       "      <td>ART_AND_DESIGN</td>\n",
       "      <td>4.7</td>\n",
       "      <td>87510</td>\n",
       "      <td>8.7M</td>\n",
       "      <td>5,000,000+</td>\n",
       "      <td>Free</td>\n",
       "      <td>0</td>\n",
       "      <td>Everyone</td>\n",
       "      <td>Art &amp; Design</td>\n",
       "      <td>August 1, 2018</td>\n",
       "      <td>1.2.4</td>\n",
       "      <td>4.0.3 and up</td>\n",
       "    </tr>\n",
       "    <tr>\n",
       "      <th>3</th>\n",
       "      <td>Sketch - Draw &amp; Paint</td>\n",
       "      <td>ART_AND_DESIGN</td>\n",
       "      <td>4.5</td>\n",
       "      <td>215644</td>\n",
       "      <td>25M</td>\n",
       "      <td>50,000,000+</td>\n",
       "      <td>Free</td>\n",
       "      <td>0</td>\n",
       "      <td>Teen</td>\n",
       "      <td>Art &amp; Design</td>\n",
       "      <td>June 8, 2018</td>\n",
       "      <td>Varies with device</td>\n",
       "      <td>4.2 and up</td>\n",
       "    </tr>\n",
       "    <tr>\n",
       "      <th>4</th>\n",
       "      <td>Pixel Draw - Number Art Coloring Book</td>\n",
       "      <td>ART_AND_DESIGN</td>\n",
       "      <td>4.3</td>\n",
       "      <td>967</td>\n",
       "      <td>2.8M</td>\n",
       "      <td>100,000+</td>\n",
       "      <td>Free</td>\n",
       "      <td>0</td>\n",
       "      <td>Everyone</td>\n",
       "      <td>Art &amp; Design;Creativity</td>\n",
       "      <td>June 20, 2018</td>\n",
       "      <td>1.1</td>\n",
       "      <td>4.4 and up</td>\n",
       "    </tr>\n",
       "  </tbody>\n",
       "</table>\n",
       "</div>"
      ],
      "text/plain": [
       "                                                 App        Category  Rating  \\\n",
       "0     Photo Editor & Candy Camera & Grid & ScrapBook  ART_AND_DESIGN     4.1   \n",
       "1                                Coloring book moana  ART_AND_DESIGN     3.9   \n",
       "2  U Launcher Lite – FREE Live Cool Themes, Hide ...  ART_AND_DESIGN     4.7   \n",
       "3                              Sketch - Draw & Paint  ART_AND_DESIGN     4.5   \n",
       "4              Pixel Draw - Number Art Coloring Book  ART_AND_DESIGN     4.3   \n",
       "\n",
       "  Reviews  Size     Installs  Type Price Content Rating  \\\n",
       "0     159   19M      10,000+  Free     0       Everyone   \n",
       "1     967   14M     500,000+  Free     0       Everyone   \n",
       "2   87510  8.7M   5,000,000+  Free     0       Everyone   \n",
       "3  215644   25M  50,000,000+  Free     0           Teen   \n",
       "4     967  2.8M     100,000+  Free     0       Everyone   \n",
       "\n",
       "                      Genres      Last Updated         Current Ver  \\\n",
       "0               Art & Design   January 7, 2018               1.0.0   \n",
       "1  Art & Design;Pretend Play  January 15, 2018               2.0.0   \n",
       "2               Art & Design    August 1, 2018               1.2.4   \n",
       "3               Art & Design      June 8, 2018  Varies with device   \n",
       "4    Art & Design;Creativity     June 20, 2018                 1.1   \n",
       "\n",
       "    Android Ver  \n",
       "0  4.0.3 and up  \n",
       "1  4.0.3 and up  \n",
       "2  4.0.3 and up  \n",
       "3    4.2 and up  \n",
       "4    4.4 and up  "
      ]
     },
     "execution_count": 3,
     "metadata": {},
     "output_type": "execute_result"
    }
   ],
   "source": [
    "playstore.head()"
   ]
  },
  {
   "cell_type": "code",
   "execution_count": 4,
   "id": "3937b0d2",
   "metadata": {
    "execution": {
     "iopub.execute_input": "2024-08-06T18:00:55.507469Z",
     "iopub.status.busy": "2024-08-06T18:00:55.507039Z",
     "iopub.status.idle": "2024-08-06T18:00:55.513626Z",
     "shell.execute_reply": "2024-08-06T18:00:55.512344Z"
    },
    "papermill": {
     "duration": 0.025314,
     "end_time": "2024-08-06T18:00:55.516911",
     "exception": false,
     "start_time": "2024-08-06T18:00:55.491597",
     "status": "completed"
    },
    "tags": []
   },
   "outputs": [
    {
     "name": "stdout",
     "output_type": "stream",
     "text": [
      "(10841, 13)\n",
      "\n",
      "\n",
      "(64295, 5)\n"
     ]
    }
   ],
   "source": [
    "print(playstore.shape)\n",
    "print('\\n')\n",
    "print(user_reviews.shape)"
   ]
  },
  {
   "cell_type": "code",
   "execution_count": 5,
   "id": "fe1abfe9",
   "metadata": {
    "execution": {
     "iopub.execute_input": "2024-08-06T18:00:55.546609Z",
     "iopub.status.busy": "2024-08-06T18:00:55.546168Z",
     "iopub.status.idle": "2024-08-06T18:00:55.610750Z",
     "shell.execute_reply": "2024-08-06T18:00:55.609363Z"
    },
    "papermill": {
     "duration": 0.082823,
     "end_time": "2024-08-06T18:00:55.613504",
     "exception": false,
     "start_time": "2024-08-06T18:00:55.530681",
     "status": "completed"
    },
    "tags": []
   },
   "outputs": [
    {
     "name": "stdout",
     "output_type": "stream",
     "text": [
      "<class 'pandas.core.frame.DataFrame'>\n",
      "RangeIndex: 10841 entries, 0 to 10840\n",
      "Data columns (total 13 columns):\n",
      " #   Column          Non-Null Count  Dtype  \n",
      "---  ------          --------------  -----  \n",
      " 0   App             10841 non-null  object \n",
      " 1   Category        10841 non-null  object \n",
      " 2   Rating          9367 non-null   float64\n",
      " 3   Reviews         10841 non-null  object \n",
      " 4   Size            10841 non-null  object \n",
      " 5   Installs        10841 non-null  object \n",
      " 6   Type            10840 non-null  object \n",
      " 7   Price           10841 non-null  object \n",
      " 8   Content Rating  10840 non-null  object \n",
      " 9   Genres          10841 non-null  object \n",
      " 10  Last Updated    10841 non-null  object \n",
      " 11  Current Ver     10833 non-null  object \n",
      " 12  Android Ver     10838 non-null  object \n",
      "dtypes: float64(1), object(12)\n",
      "memory usage: 1.1+ MB\n",
      "None\n",
      "\n",
      "\n",
      "<class 'pandas.core.frame.DataFrame'>\n",
      "RangeIndex: 64295 entries, 0 to 64294\n",
      "Data columns (total 5 columns):\n",
      " #   Column                  Non-Null Count  Dtype  \n",
      "---  ------                  --------------  -----  \n",
      " 0   App                     64295 non-null  object \n",
      " 1   Translated_Review       37427 non-null  object \n",
      " 2   Sentiment               37432 non-null  object \n",
      " 3   Sentiment_Polarity      37432 non-null  float64\n",
      " 4   Sentiment_Subjectivity  37432 non-null  float64\n",
      "dtypes: float64(2), object(3)\n",
      "memory usage: 2.5+ MB\n",
      "None\n"
     ]
    }
   ],
   "source": [
    "print(playstore.info())\n",
    "print('\\n')\n",
    "print(user_reviews.info())"
   ]
  },
  {
   "cell_type": "code",
   "execution_count": 6,
   "id": "7bf39197",
   "metadata": {
    "execution": {
     "iopub.execute_input": "2024-08-06T18:00:55.642978Z",
     "iopub.status.busy": "2024-08-06T18:00:55.642546Z",
     "iopub.status.idle": "2024-08-06T18:00:55.685386Z",
     "shell.execute_reply": "2024-08-06T18:00:55.683914Z"
    },
    "papermill": {
     "duration": 0.061228,
     "end_time": "2024-08-06T18:00:55.688489",
     "exception": false,
     "start_time": "2024-08-06T18:00:55.627261",
     "status": "completed"
    },
    "tags": []
   },
   "outputs": [
    {
     "name": "stdout",
     "output_type": "stream",
     "text": [
      "App                  0\n",
      "Category             0\n",
      "Rating            1474\n",
      "Reviews              0\n",
      "Size                 0\n",
      "Installs             0\n",
      "Type                 1\n",
      "Price                0\n",
      "Content Rating       1\n",
      "Genres               0\n",
      "Last Updated         0\n",
      "Current Ver          8\n",
      "Android Ver          3\n",
      "dtype: int64\n",
      "\n",
      "\n",
      "App                           0\n",
      "Translated_Review         26868\n",
      "Sentiment                 26863\n",
      "Sentiment_Polarity        26863\n",
      "Sentiment_Subjectivity    26863\n",
      "dtype: int64\n"
     ]
    }
   ],
   "source": [
    "print(playstore.isnull().sum())\n",
    "print('\\n')\n",
    "print(user_reviews.isnull().sum())"
   ]
  },
  {
   "cell_type": "markdown",
   "id": "4dc6c32d",
   "metadata": {
    "papermill": {
     "duration": 0.013925,
     "end_time": "2024-08-06T18:00:55.716569",
     "exception": false,
     "start_time": "2024-08-06T18:00:55.702644",
     "status": "completed"
    },
    "tags": []
   },
   "source": [
    "# Data Preprocessing"
   ]
  },
  {
   "cell_type": "code",
   "execution_count": 7,
   "id": "5ddeb8d6",
   "metadata": {
    "execution": {
     "iopub.execute_input": "2024-08-06T18:00:55.746410Z",
     "iopub.status.busy": "2024-08-06T18:00:55.746020Z",
     "iopub.status.idle": "2024-08-06T18:00:55.769858Z",
     "shell.execute_reply": "2024-08-06T18:00:55.768706Z"
    },
    "papermill": {
     "duration": 0.041611,
     "end_time": "2024-08-06T18:00:55.772255",
     "exception": false,
     "start_time": "2024-08-06T18:00:55.730644",
     "status": "completed"
    },
    "tags": []
   },
   "outputs": [
    {
     "data": {
      "text/plain": [
       "App                  0\n",
       "Category             0\n",
       "Rating            1474\n",
       "Reviews              0\n",
       "Size                 0\n",
       "Installs             0\n",
       "Type                 1\n",
       "Price                0\n",
       "Content Rating       1\n",
       "Genres               0\n",
       "Last Updated         0\n",
       "Current Ver          8\n",
       "Android Ver          3\n",
       "dtype: int64"
      ]
     },
     "execution_count": 7,
     "metadata": {},
     "output_type": "execute_result"
    }
   ],
   "source": [
    "#handling missing values\n",
    "playstore.isna().sum()"
   ]
  },
  {
   "cell_type": "code",
   "execution_count": 8,
   "id": "2a3fccce",
   "metadata": {
    "execution": {
     "iopub.execute_input": "2024-08-06T18:00:55.802398Z",
     "iopub.status.busy": "2024-08-06T18:00:55.802021Z",
     "iopub.status.idle": "2024-08-06T18:00:55.848299Z",
     "shell.execute_reply": "2024-08-06T18:00:55.847162Z"
    },
    "papermill": {
     "duration": 0.064961,
     "end_time": "2024-08-06T18:00:55.851430",
     "exception": false,
     "start_time": "2024-08-06T18:00:55.786469",
     "status": "completed"
    },
    "tags": []
   },
   "outputs": [],
   "source": [
    "threshold = len(playstore) * 0.05\n",
    "cols_to_drop = playstore.columns[playstore.isna().sum() <= threshold]\n",
    "playstore.dropna(subset=cols_to_drop,inplace=True)"
   ]
  },
  {
   "cell_type": "code",
   "execution_count": 9,
   "id": "66f6575b",
   "metadata": {
    "execution": {
     "iopub.execute_input": "2024-08-06T18:00:55.882713Z",
     "iopub.status.busy": "2024-08-06T18:00:55.882271Z",
     "iopub.status.idle": "2024-08-06T18:00:55.907017Z",
     "shell.execute_reply": "2024-08-06T18:00:55.905693Z"
    },
    "papermill": {
     "duration": 0.043947,
     "end_time": "2024-08-06T18:00:55.909790",
     "exception": false,
     "start_time": "2024-08-06T18:00:55.865843",
     "status": "completed"
    },
    "tags": []
   },
   "outputs": [
    {
     "data": {
      "text/plain": [
       "App                  0\n",
       "Category             0\n",
       "Rating            1469\n",
       "Reviews              0\n",
       "Size                 0\n",
       "Installs             0\n",
       "Type                 0\n",
       "Price                0\n",
       "Content Rating       0\n",
       "Genres               0\n",
       "Last Updated         0\n",
       "Current Ver          0\n",
       "Android Ver          0\n",
       "dtype: int64"
      ]
     },
     "execution_count": 9,
     "metadata": {},
     "output_type": "execute_result"
    }
   ],
   "source": [
    "playstore.isna().sum()"
   ]
  },
  {
   "cell_type": "code",
   "execution_count": 10,
   "id": "0f86d79f",
   "metadata": {
    "execution": {
     "iopub.execute_input": "2024-08-06T18:00:55.941239Z",
     "iopub.status.busy": "2024-08-06T18:00:55.940202Z",
     "iopub.status.idle": "2024-08-06T18:00:55.965196Z",
     "shell.execute_reply": "2024-08-06T18:00:55.964050Z"
    },
    "papermill": {
     "duration": 0.043966,
     "end_time": "2024-08-06T18:00:55.968255",
     "exception": false,
     "start_time": "2024-08-06T18:00:55.924289",
     "status": "completed"
    },
    "tags": []
   },
   "outputs": [
    {
     "data": {
      "text/html": [
       "<div>\n",
       "<style scoped>\n",
       "    .dataframe tbody tr th:only-of-type {\n",
       "        vertical-align: middle;\n",
       "    }\n",
       "\n",
       "    .dataframe tbody tr th {\n",
       "        vertical-align: top;\n",
       "    }\n",
       "\n",
       "    .dataframe thead th {\n",
       "        text-align: right;\n",
       "    }\n",
       "</style>\n",
       "<table border=\"1\" class=\"dataframe\">\n",
       "  <thead>\n",
       "    <tr style=\"text-align: right;\">\n",
       "      <th></th>\n",
       "      <th>App</th>\n",
       "      <th>Category</th>\n",
       "      <th>Rating</th>\n",
       "      <th>Reviews</th>\n",
       "      <th>Size</th>\n",
       "      <th>Installs</th>\n",
       "      <th>Type</th>\n",
       "      <th>Price</th>\n",
       "      <th>Content Rating</th>\n",
       "      <th>Genres</th>\n",
       "      <th>Last Updated</th>\n",
       "      <th>Current Ver</th>\n",
       "      <th>Android Ver</th>\n",
       "    </tr>\n",
       "  </thead>\n",
       "  <tbody>\n",
       "    <tr>\n",
       "      <th>23</th>\n",
       "      <td>Mcqueen Coloring pages</td>\n",
       "      <td>ART_AND_DESIGN</td>\n",
       "      <td>NaN</td>\n",
       "      <td>61</td>\n",
       "      <td>7.0M</td>\n",
       "      <td>100,000+</td>\n",
       "      <td>Free</td>\n",
       "      <td>0</td>\n",
       "      <td>Everyone</td>\n",
       "      <td>Art &amp; Design;Action &amp; Adventure</td>\n",
       "      <td>March 7, 2018</td>\n",
       "      <td>1.0.0</td>\n",
       "      <td>4.1 and up</td>\n",
       "    </tr>\n",
       "    <tr>\n",
       "      <th>113</th>\n",
       "      <td>Wrinkles and rejuvenation</td>\n",
       "      <td>BEAUTY</td>\n",
       "      <td>NaN</td>\n",
       "      <td>182</td>\n",
       "      <td>5.7M</td>\n",
       "      <td>100,000+</td>\n",
       "      <td>Free</td>\n",
       "      <td>0</td>\n",
       "      <td>Everyone 10+</td>\n",
       "      <td>Beauty</td>\n",
       "      <td>September 20, 2017</td>\n",
       "      <td>8.0</td>\n",
       "      <td>3.0 and up</td>\n",
       "    </tr>\n",
       "    <tr>\n",
       "      <th>123</th>\n",
       "      <td>Manicure - nail design</td>\n",
       "      <td>BEAUTY</td>\n",
       "      <td>NaN</td>\n",
       "      <td>119</td>\n",
       "      <td>3.7M</td>\n",
       "      <td>50,000+</td>\n",
       "      <td>Free</td>\n",
       "      <td>0</td>\n",
       "      <td>Everyone</td>\n",
       "      <td>Beauty</td>\n",
       "      <td>July 23, 2018</td>\n",
       "      <td>1.3</td>\n",
       "      <td>4.1 and up</td>\n",
       "    </tr>\n",
       "    <tr>\n",
       "      <th>126</th>\n",
       "      <td>Skin Care and Natural Beauty</td>\n",
       "      <td>BEAUTY</td>\n",
       "      <td>NaN</td>\n",
       "      <td>654</td>\n",
       "      <td>7.4M</td>\n",
       "      <td>100,000+</td>\n",
       "      <td>Free</td>\n",
       "      <td>0</td>\n",
       "      <td>Teen</td>\n",
       "      <td>Beauty</td>\n",
       "      <td>July 17, 2018</td>\n",
       "      <td>1.15</td>\n",
       "      <td>4.1 and up</td>\n",
       "    </tr>\n",
       "    <tr>\n",
       "      <th>129</th>\n",
       "      <td>Secrets of beauty, youth and health</td>\n",
       "      <td>BEAUTY</td>\n",
       "      <td>NaN</td>\n",
       "      <td>77</td>\n",
       "      <td>2.9M</td>\n",
       "      <td>10,000+</td>\n",
       "      <td>Free</td>\n",
       "      <td>0</td>\n",
       "      <td>Mature 17+</td>\n",
       "      <td>Beauty</td>\n",
       "      <td>August 8, 2017</td>\n",
       "      <td>2.0</td>\n",
       "      <td>2.3 and up</td>\n",
       "    </tr>\n",
       "    <tr>\n",
       "      <th>...</th>\n",
       "      <td>...</td>\n",
       "      <td>...</td>\n",
       "      <td>...</td>\n",
       "      <td>...</td>\n",
       "      <td>...</td>\n",
       "      <td>...</td>\n",
       "      <td>...</td>\n",
       "      <td>...</td>\n",
       "      <td>...</td>\n",
       "      <td>...</td>\n",
       "      <td>...</td>\n",
       "      <td>...</td>\n",
       "      <td>...</td>\n",
       "    </tr>\n",
       "    <tr>\n",
       "      <th>10824</th>\n",
       "      <td>Cardio-FR</td>\n",
       "      <td>MEDICAL</td>\n",
       "      <td>NaN</td>\n",
       "      <td>67</td>\n",
       "      <td>82M</td>\n",
       "      <td>10,000+</td>\n",
       "      <td>Free</td>\n",
       "      <td>0</td>\n",
       "      <td>Everyone</td>\n",
       "      <td>Medical</td>\n",
       "      <td>July 31, 2018</td>\n",
       "      <td>2.2.2</td>\n",
       "      <td>4.4 and up</td>\n",
       "    </tr>\n",
       "    <tr>\n",
       "      <th>10825</th>\n",
       "      <td>Naruto &amp; Boruto FR</td>\n",
       "      <td>SOCIAL</td>\n",
       "      <td>NaN</td>\n",
       "      <td>7</td>\n",
       "      <td>7.7M</td>\n",
       "      <td>100+</td>\n",
       "      <td>Free</td>\n",
       "      <td>0</td>\n",
       "      <td>Teen</td>\n",
       "      <td>Social</td>\n",
       "      <td>February 2, 2018</td>\n",
       "      <td>1.0</td>\n",
       "      <td>4.0 and up</td>\n",
       "    </tr>\n",
       "    <tr>\n",
       "      <th>10831</th>\n",
       "      <td>payermonstationnement.fr</td>\n",
       "      <td>MAPS_AND_NAVIGATION</td>\n",
       "      <td>NaN</td>\n",
       "      <td>38</td>\n",
       "      <td>9.8M</td>\n",
       "      <td>5,000+</td>\n",
       "      <td>Free</td>\n",
       "      <td>0</td>\n",
       "      <td>Everyone</td>\n",
       "      <td>Maps &amp; Navigation</td>\n",
       "      <td>June 13, 2018</td>\n",
       "      <td>2.0.148.0</td>\n",
       "      <td>4.0 and up</td>\n",
       "    </tr>\n",
       "    <tr>\n",
       "      <th>10835</th>\n",
       "      <td>FR Forms</td>\n",
       "      <td>BUSINESS</td>\n",
       "      <td>NaN</td>\n",
       "      <td>0</td>\n",
       "      <td>9.6M</td>\n",
       "      <td>10+</td>\n",
       "      <td>Free</td>\n",
       "      <td>0</td>\n",
       "      <td>Everyone</td>\n",
       "      <td>Business</td>\n",
       "      <td>September 29, 2016</td>\n",
       "      <td>1.1.5</td>\n",
       "      <td>4.0 and up</td>\n",
       "    </tr>\n",
       "    <tr>\n",
       "      <th>10838</th>\n",
       "      <td>Parkinson Exercices FR</td>\n",
       "      <td>MEDICAL</td>\n",
       "      <td>NaN</td>\n",
       "      <td>3</td>\n",
       "      <td>9.5M</td>\n",
       "      <td>1,000+</td>\n",
       "      <td>Free</td>\n",
       "      <td>0</td>\n",
       "      <td>Everyone</td>\n",
       "      <td>Medical</td>\n",
       "      <td>January 20, 2017</td>\n",
       "      <td>1.0</td>\n",
       "      <td>2.2 and up</td>\n",
       "    </tr>\n",
       "  </tbody>\n",
       "</table>\n",
       "<p>1469 rows × 13 columns</p>\n",
       "</div>"
      ],
      "text/plain": [
       "                                       App             Category  Rating  \\\n",
       "23                  Mcqueen Coloring pages       ART_AND_DESIGN     NaN   \n",
       "113              Wrinkles and rejuvenation               BEAUTY     NaN   \n",
       "123                 Manicure - nail design               BEAUTY     NaN   \n",
       "126           Skin Care and Natural Beauty               BEAUTY     NaN   \n",
       "129    Secrets of beauty, youth and health               BEAUTY     NaN   \n",
       "...                                    ...                  ...     ...   \n",
       "10824                            Cardio-FR              MEDICAL     NaN   \n",
       "10825                   Naruto & Boruto FR               SOCIAL     NaN   \n",
       "10831             payermonstationnement.fr  MAPS_AND_NAVIGATION     NaN   \n",
       "10835                             FR Forms             BUSINESS     NaN   \n",
       "10838               Parkinson Exercices FR              MEDICAL     NaN   \n",
       "\n",
       "      Reviews  Size  Installs  Type Price Content Rating  \\\n",
       "23         61  7.0M  100,000+  Free     0       Everyone   \n",
       "113       182  5.7M  100,000+  Free     0   Everyone 10+   \n",
       "123       119  3.7M   50,000+  Free     0       Everyone   \n",
       "126       654  7.4M  100,000+  Free     0           Teen   \n",
       "129        77  2.9M   10,000+  Free     0     Mature 17+   \n",
       "...       ...   ...       ...   ...   ...            ...   \n",
       "10824      67   82M   10,000+  Free     0       Everyone   \n",
       "10825       7  7.7M      100+  Free     0           Teen   \n",
       "10831      38  9.8M    5,000+  Free     0       Everyone   \n",
       "10835       0  9.6M       10+  Free     0       Everyone   \n",
       "10838       3  9.5M    1,000+  Free     0       Everyone   \n",
       "\n",
       "                                Genres        Last Updated Current Ver  \\\n",
       "23     Art & Design;Action & Adventure       March 7, 2018       1.0.0   \n",
       "113                             Beauty  September 20, 2017         8.0   \n",
       "123                             Beauty       July 23, 2018         1.3   \n",
       "126                             Beauty       July 17, 2018        1.15   \n",
       "129                             Beauty      August 8, 2017         2.0   \n",
       "...                                ...                 ...         ...   \n",
       "10824                          Medical       July 31, 2018       2.2.2   \n",
       "10825                           Social    February 2, 2018         1.0   \n",
       "10831                Maps & Navigation       June 13, 2018   2.0.148.0   \n",
       "10835                         Business  September 29, 2016       1.1.5   \n",
       "10838                          Medical    January 20, 2017         1.0   \n",
       "\n",
       "      Android Ver  \n",
       "23     4.1 and up  \n",
       "113    3.0 and up  \n",
       "123    4.1 and up  \n",
       "126    4.1 and up  \n",
       "129    2.3 and up  \n",
       "...           ...  \n",
       "10824  4.4 and up  \n",
       "10825  4.0 and up  \n",
       "10831  4.0 and up  \n",
       "10835  4.0 and up  \n",
       "10838  2.2 and up  \n",
       "\n",
       "[1469 rows x 13 columns]"
      ]
     },
     "execution_count": 10,
     "metadata": {},
     "output_type": "execute_result"
    }
   ],
   "source": [
    "playstore[playstore['Rating'].isna()]"
   ]
  },
  {
   "cell_type": "markdown",
   "id": "93896264",
   "metadata": {
    "papermill": {
     "duration": 0.014246,
     "end_time": "2024-08-06T18:00:55.997490",
     "exception": false,
     "start_time": "2024-08-06T18:00:55.983244",
     "status": "completed"
    },
    "tags": []
   },
   "source": [
    "Since there is no way to deal with right now We will not drop na values in review"
   ]
  },
  {
   "cell_type": "code",
   "execution_count": 11,
   "id": "06a3592b",
   "metadata": {
    "execution": {
     "iopub.execute_input": "2024-08-06T18:00:56.032690Z",
     "iopub.status.busy": "2024-08-06T18:00:56.032223Z",
     "iopub.status.idle": "2024-08-06T18:00:56.044929Z",
     "shell.execute_reply": "2024-08-06T18:00:56.043408Z"
    },
    "papermill": {
     "duration": 0.033384,
     "end_time": "2024-08-06T18:00:56.047600",
     "exception": false,
     "start_time": "2024-08-06T18:00:56.014216",
     "status": "completed"
    },
    "tags": []
   },
   "outputs": [
    {
     "data": {
      "text/plain": [
       "App                object\n",
       "Category           object\n",
       "Rating            float64\n",
       "Reviews            object\n",
       "Size               object\n",
       "Installs           object\n",
       "Type               object\n",
       "Price              object\n",
       "Content Rating     object\n",
       "Genres             object\n",
       "Last Updated       object\n",
       "Current Ver        object\n",
       "Android Ver        object\n",
       "dtype: object"
      ]
     },
     "execution_count": 11,
     "metadata": {},
     "output_type": "execute_result"
    }
   ],
   "source": [
    "#Chaning types\n",
    "playstore.dtypes"
   ]
  },
  {
   "cell_type": "code",
   "execution_count": 12,
   "id": "e6e6e46e",
   "metadata": {
    "execution": {
     "iopub.execute_input": "2024-08-06T18:00:56.079474Z",
     "iopub.status.busy": "2024-08-06T18:00:56.079011Z",
     "iopub.status.idle": "2024-08-06T18:00:56.098875Z",
     "shell.execute_reply": "2024-08-06T18:00:56.097155Z"
    },
    "papermill": {
     "duration": 0.0396,
     "end_time": "2024-08-06T18:00:56.101892",
     "exception": false,
     "start_time": "2024-08-06T18:00:56.062292",
     "status": "completed"
    },
    "tags": []
   },
   "outputs": [
    {
     "data": {
      "text/html": [
       "<div>\n",
       "<style scoped>\n",
       "    .dataframe tbody tr th:only-of-type {\n",
       "        vertical-align: middle;\n",
       "    }\n",
       "\n",
       "    .dataframe tbody tr th {\n",
       "        vertical-align: top;\n",
       "    }\n",
       "\n",
       "    .dataframe thead th {\n",
       "        text-align: right;\n",
       "    }\n",
       "</style>\n",
       "<table border=\"1\" class=\"dataframe\">\n",
       "  <thead>\n",
       "    <tr style=\"text-align: right;\">\n",
       "      <th></th>\n",
       "      <th>App</th>\n",
       "      <th>Category</th>\n",
       "      <th>Rating</th>\n",
       "      <th>Reviews</th>\n",
       "      <th>Size</th>\n",
       "      <th>Installs</th>\n",
       "      <th>Type</th>\n",
       "      <th>Price</th>\n",
       "      <th>Content Rating</th>\n",
       "      <th>Genres</th>\n",
       "      <th>Last Updated</th>\n",
       "      <th>Current Ver</th>\n",
       "      <th>Android Ver</th>\n",
       "    </tr>\n",
       "  </thead>\n",
       "  <tbody>\n",
       "    <tr>\n",
       "      <th>0</th>\n",
       "      <td>Photo Editor &amp; Candy Camera &amp; Grid &amp; ScrapBook</td>\n",
       "      <td>ART_AND_DESIGN</td>\n",
       "      <td>4.1</td>\n",
       "      <td>159</td>\n",
       "      <td>19M</td>\n",
       "      <td>10,000+</td>\n",
       "      <td>Free</td>\n",
       "      <td>0</td>\n",
       "      <td>Everyone</td>\n",
       "      <td>Art &amp; Design</td>\n",
       "      <td>January 7, 2018</td>\n",
       "      <td>1.0.0</td>\n",
       "      <td>4.0.3 and up</td>\n",
       "    </tr>\n",
       "  </tbody>\n",
       "</table>\n",
       "</div>"
      ],
      "text/plain": [
       "                                              App        Category  Rating  \\\n",
       "0  Photo Editor & Candy Camera & Grid & ScrapBook  ART_AND_DESIGN     4.1   \n",
       "\n",
       "  Reviews Size Installs  Type Price Content Rating        Genres  \\\n",
       "0     159  19M  10,000+  Free     0       Everyone  Art & Design   \n",
       "\n",
       "      Last Updated Current Ver   Android Ver  \n",
       "0  January 7, 2018       1.0.0  4.0.3 and up  "
      ]
     },
     "execution_count": 12,
     "metadata": {},
     "output_type": "execute_result"
    }
   ],
   "source": [
    "playstore.head(1)"
   ]
  },
  {
   "cell_type": "code",
   "execution_count": 13,
   "id": "39f5ee74",
   "metadata": {
    "execution": {
     "iopub.execute_input": "2024-08-06T18:00:56.134042Z",
     "iopub.status.busy": "2024-08-06T18:00:56.133619Z",
     "iopub.status.idle": "2024-08-06T18:00:56.181959Z",
     "shell.execute_reply": "2024-08-06T18:00:56.180709Z"
    },
    "papermill": {
     "duration": 0.068195,
     "end_time": "2024-08-06T18:00:56.185144",
     "exception": false,
     "start_time": "2024-08-06T18:00:56.116949",
     "status": "completed"
    },
    "tags": []
   },
   "outputs": [],
   "source": [
    "#changing date\n",
    "playstore['Last Updated'] = pd.to_datetime(playstore['Last Updated'])\n",
    "\n",
    "playstore['Installs'] = playstore['Installs'].str.replace(r'[,+]', '', regex=True)\n",
    "playstore['Installs'] = playstore['Installs'].astype('int')\n",
    "\n",
    "playstore['Reviews'] = playstore['Reviews'].astype('int')\n"
   ]
  },
  {
   "cell_type": "code",
   "execution_count": 14,
   "id": "008f8b6f",
   "metadata": {
    "execution": {
     "iopub.execute_input": "2024-08-06T18:00:56.222289Z",
     "iopub.status.busy": "2024-08-06T18:00:56.221877Z",
     "iopub.status.idle": "2024-08-06T18:00:56.232433Z",
     "shell.execute_reply": "2024-08-06T18:00:56.231150Z"
    },
    "papermill": {
     "duration": 0.036292,
     "end_time": "2024-08-06T18:00:56.236834",
     "exception": false,
     "start_time": "2024-08-06T18:00:56.200542",
     "status": "completed"
    },
    "tags": []
   },
   "outputs": [
    {
     "data": {
      "text/plain": [
       "App                       object\n",
       "Category                  object\n",
       "Rating                   float64\n",
       "Reviews                    int64\n",
       "Size                      object\n",
       "Installs                   int64\n",
       "Type                      object\n",
       "Price                     object\n",
       "Content Rating            object\n",
       "Genres                    object\n",
       "Last Updated      datetime64[ns]\n",
       "Current Ver               object\n",
       "Android Ver               object\n",
       "dtype: object"
      ]
     },
     "execution_count": 14,
     "metadata": {},
     "output_type": "execute_result"
    }
   ],
   "source": [
    "playstore.dtypes"
   ]
  },
  {
   "cell_type": "code",
   "execution_count": 15,
   "id": "41bad26d",
   "metadata": {
    "execution": {
     "iopub.execute_input": "2024-08-06T18:00:56.281597Z",
     "iopub.status.busy": "2024-08-06T18:00:56.281204Z",
     "iopub.status.idle": "2024-08-06T18:00:56.309491Z",
     "shell.execute_reply": "2024-08-06T18:00:56.308088Z"
    },
    "papermill": {
     "duration": 0.052363,
     "end_time": "2024-08-06T18:00:56.312222",
     "exception": false,
     "start_time": "2024-08-06T18:00:56.259859",
     "status": "completed"
    },
    "tags": []
   },
   "outputs": [
    {
     "data": {
      "text/plain": [
       "App                           0\n",
       "Translated_Review         26868\n",
       "Sentiment                 26863\n",
       "Sentiment_Polarity        26863\n",
       "Sentiment_Subjectivity    26863\n",
       "dtype: int64"
      ]
     },
     "execution_count": 15,
     "metadata": {},
     "output_type": "execute_result"
    }
   ],
   "source": [
    "user_reviews.isna().sum()"
   ]
  },
  {
   "cell_type": "code",
   "execution_count": 16,
   "id": "d1e485de",
   "metadata": {
    "execution": {
     "iopub.execute_input": "2024-08-06T18:00:56.347352Z",
     "iopub.status.busy": "2024-08-06T18:00:56.345577Z",
     "iopub.status.idle": "2024-08-06T18:00:56.368240Z",
     "shell.execute_reply": "2024-08-06T18:00:56.367070Z"
    },
    "papermill": {
     "duration": 0.044116,
     "end_time": "2024-08-06T18:00:56.372172",
     "exception": false,
     "start_time": "2024-08-06T18:00:56.328056",
     "status": "completed"
    },
    "tags": []
   },
   "outputs": [],
   "source": [
    "# droppping NA values\n",
    "# since we need Sentinment to perform any Sentimental Analysis\n",
    "# we can drop those with NA values in Sentiment\n",
    "\n",
    "user_reviews.dropna(subset=['Sentiment'],inplace = True)"
   ]
  },
  {
   "cell_type": "code",
   "execution_count": 17,
   "id": "ad35781c",
   "metadata": {
    "execution": {
     "iopub.execute_input": "2024-08-06T18:00:56.418822Z",
     "iopub.status.busy": "2024-08-06T18:00:56.417992Z",
     "iopub.status.idle": "2024-08-06T18:00:56.453662Z",
     "shell.execute_reply": "2024-08-06T18:00:56.452014Z"
    },
    "papermill": {
     "duration": 0.063549,
     "end_time": "2024-08-06T18:00:56.458457",
     "exception": false,
     "start_time": "2024-08-06T18:00:56.394908",
     "status": "completed"
    },
    "tags": []
   },
   "outputs": [
    {
     "data": {
      "text/plain": [
       "App                       0\n",
       "Translated_Review         5\n",
       "Sentiment                 0\n",
       "Sentiment_Polarity        0\n",
       "Sentiment_Subjectivity    0\n",
       "dtype: int64"
      ]
     },
     "execution_count": 17,
     "metadata": {},
     "output_type": "execute_result"
    }
   ],
   "source": [
    "user_reviews.isna().sum()"
   ]
  },
  {
   "cell_type": "code",
   "execution_count": 18,
   "id": "3050a8c7",
   "metadata": {
    "execution": {
     "iopub.execute_input": "2024-08-06T18:00:56.500835Z",
     "iopub.status.busy": "2024-08-06T18:00:56.500384Z",
     "iopub.status.idle": "2024-08-06T18:00:56.543202Z",
     "shell.execute_reply": "2024-08-06T18:00:56.541920Z"
    },
    "papermill": {
     "duration": 0.06563,
     "end_time": "2024-08-06T18:00:56.545774",
     "exception": false,
     "start_time": "2024-08-06T18:00:56.480144",
     "status": "completed"
    },
    "tags": []
   },
   "outputs": [
    {
     "data": {
      "text/plain": [
       "App                       0\n",
       "Translated_Review         0\n",
       "Sentiment                 0\n",
       "Sentiment_Polarity        0\n",
       "Sentiment_Subjectivity    0\n",
       "dtype: int64"
      ]
     },
     "execution_count": 18,
     "metadata": {},
     "output_type": "execute_result"
    }
   ],
   "source": [
    "user_reviews.dropna(inplace= True)\n",
    "user_reviews.isna().sum()"
   ]
  },
  {
   "cell_type": "code",
   "execution_count": 19,
   "id": "00a61365",
   "metadata": {
    "execution": {
     "iopub.execute_input": "2024-08-06T18:00:56.588340Z",
     "iopub.status.busy": "2024-08-06T18:00:56.586978Z",
     "iopub.status.idle": "2024-08-06T18:00:56.598309Z",
     "shell.execute_reply": "2024-08-06T18:00:56.596897Z"
    },
    "papermill": {
     "duration": 0.036038,
     "end_time": "2024-08-06T18:00:56.601020",
     "exception": false,
     "start_time": "2024-08-06T18:00:56.564982",
     "status": "completed"
    },
    "tags": []
   },
   "outputs": [
    {
     "data": {
      "text/plain": [
       "App                        object\n",
       "Translated_Review          object\n",
       "Sentiment                  object\n",
       "Sentiment_Polarity        float64\n",
       "Sentiment_Subjectivity    float64\n",
       "dtype: object"
      ]
     },
     "execution_count": 19,
     "metadata": {},
     "output_type": "execute_result"
    }
   ],
   "source": [
    "user_reviews.dtypes"
   ]
  },
  {
   "cell_type": "code",
   "execution_count": 20,
   "id": "0d2e9fcf",
   "metadata": {
    "execution": {
     "iopub.execute_input": "2024-08-06T18:00:56.636732Z",
     "iopub.status.busy": "2024-08-06T18:00:56.635530Z",
     "iopub.status.idle": "2024-08-06T18:00:56.678784Z",
     "shell.execute_reply": "2024-08-06T18:00:56.677422Z"
    },
    "papermill": {
     "duration": 0.064708,
     "end_time": "2024-08-06T18:00:56.681992",
     "exception": false,
     "start_time": "2024-08-06T18:00:56.617284",
     "status": "completed"
    },
    "tags": []
   },
   "outputs": [
    {
     "data": {
      "text/html": [
       "<div>\n",
       "<style scoped>\n",
       "    .dataframe tbody tr th:only-of-type {\n",
       "        vertical-align: middle;\n",
       "    }\n",
       "\n",
       "    .dataframe tbody tr th {\n",
       "        vertical-align: top;\n",
       "    }\n",
       "\n",
       "    .dataframe thead th {\n",
       "        text-align: right;\n",
       "    }\n",
       "</style>\n",
       "<table border=\"1\" class=\"dataframe\">\n",
       "  <thead>\n",
       "    <tr style=\"text-align: right;\">\n",
       "      <th></th>\n",
       "      <th>App</th>\n",
       "      <th>Category</th>\n",
       "      <th>Rating</th>\n",
       "      <th>Reviews</th>\n",
       "      <th>Size</th>\n",
       "      <th>Installs</th>\n",
       "      <th>Type</th>\n",
       "      <th>Price</th>\n",
       "      <th>Content Rating</th>\n",
       "      <th>Genres</th>\n",
       "      <th>Last Updated</th>\n",
       "      <th>Current Ver</th>\n",
       "      <th>Android Ver</th>\n",
       "    </tr>\n",
       "  </thead>\n",
       "  <tbody>\n",
       "    <tr>\n",
       "      <th>229</th>\n",
       "      <td>Quick PDF Scanner + OCR FREE</td>\n",
       "      <td>BUSINESS</td>\n",
       "      <td>4.2</td>\n",
       "      <td>80805</td>\n",
       "      <td>Varies with device</td>\n",
       "      <td>5000000</td>\n",
       "      <td>Free</td>\n",
       "      <td>0</td>\n",
       "      <td>Everyone</td>\n",
       "      <td>Business</td>\n",
       "      <td>2018-02-26</td>\n",
       "      <td>Varies with device</td>\n",
       "      <td>4.0.3 and up</td>\n",
       "    </tr>\n",
       "    <tr>\n",
       "      <th>236</th>\n",
       "      <td>Box</td>\n",
       "      <td>BUSINESS</td>\n",
       "      <td>4.2</td>\n",
       "      <td>159872</td>\n",
       "      <td>Varies with device</td>\n",
       "      <td>10000000</td>\n",
       "      <td>Free</td>\n",
       "      <td>0</td>\n",
       "      <td>Everyone</td>\n",
       "      <td>Business</td>\n",
       "      <td>2018-07-31</td>\n",
       "      <td>Varies with device</td>\n",
       "      <td>Varies with device</td>\n",
       "    </tr>\n",
       "    <tr>\n",
       "      <th>239</th>\n",
       "      <td>Google My Business</td>\n",
       "      <td>BUSINESS</td>\n",
       "      <td>4.4</td>\n",
       "      <td>70991</td>\n",
       "      <td>Varies with device</td>\n",
       "      <td>5000000</td>\n",
       "      <td>Free</td>\n",
       "      <td>0</td>\n",
       "      <td>Everyone</td>\n",
       "      <td>Business</td>\n",
       "      <td>2018-07-24</td>\n",
       "      <td>2.19.0.204537701</td>\n",
       "      <td>4.4 and up</td>\n",
       "    </tr>\n",
       "    <tr>\n",
       "      <th>256</th>\n",
       "      <td>ZOOM Cloud Meetings</td>\n",
       "      <td>BUSINESS</td>\n",
       "      <td>4.4</td>\n",
       "      <td>31614</td>\n",
       "      <td>37M</td>\n",
       "      <td>10000000</td>\n",
       "      <td>Free</td>\n",
       "      <td>0</td>\n",
       "      <td>Everyone</td>\n",
       "      <td>Business</td>\n",
       "      <td>2018-07-20</td>\n",
       "      <td>4.1.28165.0716</td>\n",
       "      <td>4.0 and up</td>\n",
       "    </tr>\n",
       "    <tr>\n",
       "      <th>261</th>\n",
       "      <td>join.me - Simple Meetings</td>\n",
       "      <td>BUSINESS</td>\n",
       "      <td>4.0</td>\n",
       "      <td>6989</td>\n",
       "      <td>Varies with device</td>\n",
       "      <td>1000000</td>\n",
       "      <td>Free</td>\n",
       "      <td>0</td>\n",
       "      <td>Everyone</td>\n",
       "      <td>Business</td>\n",
       "      <td>2018-07-16</td>\n",
       "      <td>4.3.0.508</td>\n",
       "      <td>4.4 and up</td>\n",
       "    </tr>\n",
       "    <tr>\n",
       "      <th>...</th>\n",
       "      <td>...</td>\n",
       "      <td>...</td>\n",
       "      <td>...</td>\n",
       "      <td>...</td>\n",
       "      <td>...</td>\n",
       "      <td>...</td>\n",
       "      <td>...</td>\n",
       "      <td>...</td>\n",
       "      <td>...</td>\n",
       "      <td>...</td>\n",
       "      <td>...</td>\n",
       "      <td>...</td>\n",
       "      <td>...</td>\n",
       "    </tr>\n",
       "    <tr>\n",
       "      <th>8643</th>\n",
       "      <td>Wunderlist: To-Do List &amp; Tasks</td>\n",
       "      <td>PRODUCTIVITY</td>\n",
       "      <td>4.6</td>\n",
       "      <td>404610</td>\n",
       "      <td>Varies with device</td>\n",
       "      <td>10000000</td>\n",
       "      <td>Free</td>\n",
       "      <td>0</td>\n",
       "      <td>Everyone</td>\n",
       "      <td>Productivity</td>\n",
       "      <td>2018-04-06</td>\n",
       "      <td>Varies with device</td>\n",
       "      <td>Varies with device</td>\n",
       "    </tr>\n",
       "    <tr>\n",
       "      <th>8654</th>\n",
       "      <td>TickTick: To Do List with Reminder, Day Planner</td>\n",
       "      <td>PRODUCTIVITY</td>\n",
       "      <td>4.6</td>\n",
       "      <td>25370</td>\n",
       "      <td>Varies with device</td>\n",
       "      <td>1000000</td>\n",
       "      <td>Free</td>\n",
       "      <td>0</td>\n",
       "      <td>Everyone</td>\n",
       "      <td>Productivity</td>\n",
       "      <td>2018-08-06</td>\n",
       "      <td>Varies with device</td>\n",
       "      <td>Varies with device</td>\n",
       "    </tr>\n",
       "    <tr>\n",
       "      <th>8658</th>\n",
       "      <td>ColorNote Notepad Notes</td>\n",
       "      <td>PRODUCTIVITY</td>\n",
       "      <td>4.6</td>\n",
       "      <td>2401017</td>\n",
       "      <td>Varies with device</td>\n",
       "      <td>100000000</td>\n",
       "      <td>Free</td>\n",
       "      <td>0</td>\n",
       "      <td>Everyone</td>\n",
       "      <td>Productivity</td>\n",
       "      <td>2018-06-27</td>\n",
       "      <td>Varies with device</td>\n",
       "      <td>Varies with device</td>\n",
       "    </tr>\n",
       "    <tr>\n",
       "      <th>10049</th>\n",
       "      <td>Airway Ex - Intubate. Anesthetize. Train.</td>\n",
       "      <td>MEDICAL</td>\n",
       "      <td>4.3</td>\n",
       "      <td>123</td>\n",
       "      <td>86M</td>\n",
       "      <td>10000</td>\n",
       "      <td>Free</td>\n",
       "      <td>0</td>\n",
       "      <td>Everyone</td>\n",
       "      <td>Medical</td>\n",
       "      <td>2018-06-01</td>\n",
       "      <td>0.6.88</td>\n",
       "      <td>5.0 and up</td>\n",
       "    </tr>\n",
       "    <tr>\n",
       "      <th>10768</th>\n",
       "      <td>AAFP</td>\n",
       "      <td>MEDICAL</td>\n",
       "      <td>3.8</td>\n",
       "      <td>63</td>\n",
       "      <td>24M</td>\n",
       "      <td>10000</td>\n",
       "      <td>Free</td>\n",
       "      <td>0</td>\n",
       "      <td>Everyone</td>\n",
       "      <td>Medical</td>\n",
       "      <td>2018-06-22</td>\n",
       "      <td>2.3.1</td>\n",
       "      <td>5.0 and up</td>\n",
       "    </tr>\n",
       "  </tbody>\n",
       "</table>\n",
       "<p>483 rows × 13 columns</p>\n",
       "</div>"
      ],
      "text/plain": [
       "                                                   App      Category  Rating  \\\n",
       "229                       Quick PDF Scanner + OCR FREE      BUSINESS     4.2   \n",
       "236                                                Box      BUSINESS     4.2   \n",
       "239                                 Google My Business      BUSINESS     4.4   \n",
       "256                                ZOOM Cloud Meetings      BUSINESS     4.4   \n",
       "261                          join.me - Simple Meetings      BUSINESS     4.0   \n",
       "...                                                ...           ...     ...   \n",
       "8643                    Wunderlist: To-Do List & Tasks  PRODUCTIVITY     4.6   \n",
       "8654   TickTick: To Do List with Reminder, Day Planner  PRODUCTIVITY     4.6   \n",
       "8658                           ColorNote Notepad Notes  PRODUCTIVITY     4.6   \n",
       "10049        Airway Ex - Intubate. Anesthetize. Train.       MEDICAL     4.3   \n",
       "10768                                             AAFP       MEDICAL     3.8   \n",
       "\n",
       "       Reviews                Size   Installs  Type Price Content Rating  \\\n",
       "229      80805  Varies with device    5000000  Free     0       Everyone   \n",
       "236     159872  Varies with device   10000000  Free     0       Everyone   \n",
       "239      70991  Varies with device    5000000  Free     0       Everyone   \n",
       "256      31614                 37M   10000000  Free     0       Everyone   \n",
       "261       6989  Varies with device    1000000  Free     0       Everyone   \n",
       "...        ...                 ...        ...   ...   ...            ...   \n",
       "8643    404610  Varies with device   10000000  Free     0       Everyone   \n",
       "8654     25370  Varies with device    1000000  Free     0       Everyone   \n",
       "8658   2401017  Varies with device  100000000  Free     0       Everyone   \n",
       "10049      123                 86M      10000  Free     0       Everyone   \n",
       "10768       63                 24M      10000  Free     0       Everyone   \n",
       "\n",
       "             Genres Last Updated         Current Ver         Android Ver  \n",
       "229        Business   2018-02-26  Varies with device        4.0.3 and up  \n",
       "236        Business   2018-07-31  Varies with device  Varies with device  \n",
       "239        Business   2018-07-24    2.19.0.204537701          4.4 and up  \n",
       "256        Business   2018-07-20      4.1.28165.0716          4.0 and up  \n",
       "261        Business   2018-07-16           4.3.0.508          4.4 and up  \n",
       "...             ...          ...                 ...                 ...  \n",
       "8643   Productivity   2018-04-06  Varies with device  Varies with device  \n",
       "8654   Productivity   2018-08-06  Varies with device  Varies with device  \n",
       "8658   Productivity   2018-06-27  Varies with device  Varies with device  \n",
       "10049       Medical   2018-06-01              0.6.88          5.0 and up  \n",
       "10768       Medical   2018-06-22               2.3.1          5.0 and up  \n",
       "\n",
       "[483 rows x 13 columns]"
      ]
     },
     "execution_count": 20,
     "metadata": {},
     "output_type": "execute_result"
    }
   ],
   "source": [
    "playstore[playstore.duplicated]"
   ]
  },
  {
   "cell_type": "code",
   "execution_count": 21,
   "id": "6c4a3139",
   "metadata": {
    "execution": {
     "iopub.execute_input": "2024-08-06T18:00:56.718448Z",
     "iopub.status.busy": "2024-08-06T18:00:56.718000Z",
     "iopub.status.idle": "2024-08-06T18:00:56.733992Z",
     "shell.execute_reply": "2024-08-06T18:00:56.732742Z"
    },
    "papermill": {
     "duration": 0.038051,
     "end_time": "2024-08-06T18:00:56.737194",
     "exception": false,
     "start_time": "2024-08-06T18:00:56.699143",
     "status": "completed"
    },
    "tags": []
   },
   "outputs": [],
   "source": [
    "# Removing Duplicates\n",
    "col = ['App','Size','Type','Genres']\n",
    "playstore.drop_duplicates(subset=col , keep='first',inplace = True)"
   ]
  },
  {
   "cell_type": "code",
   "execution_count": 22,
   "id": "995cfe2e",
   "metadata": {
    "execution": {
     "iopub.execute_input": "2024-08-06T18:00:56.774190Z",
     "iopub.status.busy": "2024-08-06T18:00:56.772892Z",
     "iopub.status.idle": "2024-08-06T18:00:56.778777Z",
     "shell.execute_reply": "2024-08-06T18:00:56.777496Z"
    },
    "papermill": {
     "duration": 0.027394,
     "end_time": "2024-08-06T18:00:56.781430",
     "exception": false,
     "start_time": "2024-08-06T18:00:56.754036",
     "status": "completed"
    },
    "tags": []
   },
   "outputs": [],
   "source": [
    "# playstore[playstore.duplicated(['App','Size','Type','Genres','Last Updated'])]"
   ]
  },
  {
   "cell_type": "markdown",
   "id": "2a4882f0",
   "metadata": {
    "papermill": {
     "duration": 0.016264,
     "end_time": "2024-08-06T18:00:56.814272",
     "exception": false,
     "start_time": "2024-08-06T18:00:56.798008",
     "status": "completed"
    },
    "tags": []
   },
   "source": [
    "# Analysis"
   ]
  },
  {
   "cell_type": "code",
   "execution_count": 23,
   "id": "fa8da479",
   "metadata": {
    "execution": {
     "iopub.execute_input": "2024-08-06T18:00:56.849299Z",
     "iopub.status.busy": "2024-08-06T18:00:56.848280Z",
     "iopub.status.idle": "2024-08-06T18:00:56.871621Z",
     "shell.execute_reply": "2024-08-06T18:00:56.870242Z"
    },
    "papermill": {
     "duration": 0.044332,
     "end_time": "2024-08-06T18:00:56.874724",
     "exception": false,
     "start_time": "2024-08-06T18:00:56.830392",
     "status": "completed"
    },
    "tags": []
   },
   "outputs": [
    {
     "data": {
      "text/html": [
       "<div>\n",
       "<style scoped>\n",
       "    .dataframe tbody tr th:only-of-type {\n",
       "        vertical-align: middle;\n",
       "    }\n",
       "\n",
       "    .dataframe tbody tr th {\n",
       "        vertical-align: top;\n",
       "    }\n",
       "\n",
       "    .dataframe thead th {\n",
       "        text-align: right;\n",
       "    }\n",
       "</style>\n",
       "<table border=\"1\" class=\"dataframe\">\n",
       "  <thead>\n",
       "    <tr style=\"text-align: right;\">\n",
       "      <th></th>\n",
       "      <th>App</th>\n",
       "      <th>Category</th>\n",
       "      <th>Rating</th>\n",
       "      <th>Reviews</th>\n",
       "      <th>Size</th>\n",
       "      <th>Installs</th>\n",
       "      <th>Type</th>\n",
       "      <th>Price</th>\n",
       "      <th>Content Rating</th>\n",
       "      <th>Genres</th>\n",
       "      <th>Last Updated</th>\n",
       "      <th>Current Ver</th>\n",
       "      <th>Android Ver</th>\n",
       "    </tr>\n",
       "  </thead>\n",
       "  <tbody>\n",
       "    <tr>\n",
       "      <th>6779</th>\n",
       "      <td>BT MeetMe with Dolby Voice</td>\n",
       "      <td>COMMUNICATION</td>\n",
       "      <td>3.6</td>\n",
       "      <td>437</td>\n",
       "      <td>12M</td>\n",
       "      <td>100000</td>\n",
       "      <td>Free</td>\n",
       "      <td>0</td>\n",
       "      <td>Everyone</td>\n",
       "      <td>Communication</td>\n",
       "      <td>2018-07-13</td>\n",
       "      <td>2.66.5</td>\n",
       "      <td>5.0 and up</td>\n",
       "    </tr>\n",
       "    <tr>\n",
       "      <th>3841</th>\n",
       "      <td>Czech Public Transport IDOS</td>\n",
       "      <td>MAPS_AND_NAVIGATION</td>\n",
       "      <td>4.3</td>\n",
       "      <td>26014</td>\n",
       "      <td>7.7M</td>\n",
       "      <td>1000000</td>\n",
       "      <td>Free</td>\n",
       "      <td>0</td>\n",
       "      <td>Everyone</td>\n",
       "      <td>Maps &amp; Navigation</td>\n",
       "      <td>2017-11-06</td>\n",
       "      <td>2.4.1</td>\n",
       "      <td>4.0.3 and up</td>\n",
       "    </tr>\n",
       "    <tr>\n",
       "      <th>2301</th>\n",
       "      <td>A Manual of Acupuncture</td>\n",
       "      <td>MEDICAL</td>\n",
       "      <td>3.5</td>\n",
       "      <td>214</td>\n",
       "      <td>68M</td>\n",
       "      <td>1000</td>\n",
       "      <td>Paid</td>\n",
       "      <td>$33.99</td>\n",
       "      <td>Everyone</td>\n",
       "      <td>Medical</td>\n",
       "      <td>2017-10-02</td>\n",
       "      <td>2.1.35</td>\n",
       "      <td>4.0 and up</td>\n",
       "    </tr>\n",
       "    <tr>\n",
       "      <th>2469</th>\n",
       "      <td>ExtendedCare Virtual Care Room</td>\n",
       "      <td>MEDICAL</td>\n",
       "      <td>NaN</td>\n",
       "      <td>0</td>\n",
       "      <td>18M</td>\n",
       "      <td>5</td>\n",
       "      <td>Free</td>\n",
       "      <td>0</td>\n",
       "      <td>Everyone</td>\n",
       "      <td>Medical</td>\n",
       "      <td>2018-07-30</td>\n",
       "      <td>1.0</td>\n",
       "      <td>5.1 and up</td>\n",
       "    </tr>\n",
       "    <tr>\n",
       "      <th>619</th>\n",
       "      <td>Random Chat App with Strangers</td>\n",
       "      <td>DATING</td>\n",
       "      <td>3.0</td>\n",
       "      <td>2</td>\n",
       "      <td>16M</td>\n",
       "      <td>100</td>\n",
       "      <td>Free</td>\n",
       "      <td>0</td>\n",
       "      <td>Mature 17+</td>\n",
       "      <td>Dating</td>\n",
       "      <td>2018-07-17</td>\n",
       "      <td>2.5</td>\n",
       "      <td>4.0.3 and up</td>\n",
       "    </tr>\n",
       "  </tbody>\n",
       "</table>\n",
       "</div>"
      ],
      "text/plain": [
       "                                 App             Category  Rating  Reviews  \\\n",
       "6779      BT MeetMe with Dolby Voice        COMMUNICATION     3.6      437   \n",
       "3841     Czech Public Transport IDOS  MAPS_AND_NAVIGATION     4.3    26014   \n",
       "2301         A Manual of Acupuncture              MEDICAL     3.5      214   \n",
       "2469  ExtendedCare Virtual Care Room              MEDICAL     NaN        0   \n",
       "619   Random Chat App with Strangers               DATING     3.0        2   \n",
       "\n",
       "      Size  Installs  Type   Price Content Rating             Genres  \\\n",
       "6779   12M    100000  Free       0       Everyone      Communication   \n",
       "3841  7.7M   1000000  Free       0       Everyone  Maps & Navigation   \n",
       "2301   68M      1000  Paid  $33.99       Everyone            Medical   \n",
       "2469   18M         5  Free       0       Everyone            Medical   \n",
       "619    16M       100  Free       0     Mature 17+             Dating   \n",
       "\n",
       "     Last Updated Current Ver   Android Ver  \n",
       "6779   2018-07-13      2.66.5    5.0 and up  \n",
       "3841   2017-11-06       2.4.1  4.0.3 and up  \n",
       "2301   2017-10-02      2.1.35    4.0 and up  \n",
       "2469   2018-07-30         1.0    5.1 and up  \n",
       "619    2018-07-17         2.5  4.0.3 and up  "
      ]
     },
     "execution_count": 23,
     "metadata": {},
     "output_type": "execute_result"
    }
   ],
   "source": [
    "playstore.sample(5)"
   ]
  },
  {
   "cell_type": "code",
   "execution_count": 24,
   "id": "b46ac385",
   "metadata": {
    "execution": {
     "iopub.execute_input": "2024-08-06T18:00:56.911537Z",
     "iopub.status.busy": "2024-08-06T18:00:56.911108Z",
     "iopub.status.idle": "2024-08-06T18:00:56.928465Z",
     "shell.execute_reply": "2024-08-06T18:00:56.927047Z"
    },
    "papermill": {
     "duration": 0.03893,
     "end_time": "2024-08-06T18:00:56.931184",
     "exception": false,
     "start_time": "2024-08-06T18:00:56.892254",
     "status": "completed"
    },
    "tags": []
   },
   "outputs": [
    {
     "data": {
      "text/html": [
       "<div>\n",
       "<style scoped>\n",
       "    .dataframe tbody tr th:only-of-type {\n",
       "        vertical-align: middle;\n",
       "    }\n",
       "\n",
       "    .dataframe tbody tr th {\n",
       "        vertical-align: top;\n",
       "    }\n",
       "\n",
       "    .dataframe thead th {\n",
       "        text-align: right;\n",
       "    }\n",
       "</style>\n",
       "<table border=\"1\" class=\"dataframe\">\n",
       "  <thead>\n",
       "    <tr style=\"text-align: right;\">\n",
       "      <th></th>\n",
       "      <th>App</th>\n",
       "      <th>Translated_Review</th>\n",
       "      <th>Sentiment</th>\n",
       "      <th>Sentiment_Polarity</th>\n",
       "      <th>Sentiment_Subjectivity</th>\n",
       "    </tr>\n",
       "  </thead>\n",
       "  <tbody>\n",
       "    <tr>\n",
       "      <th>59708</th>\n",
       "      <td>Hangouts</td>\n",
       "      <td>Doesn't work me... A friend suggested Hangouts...</td>\n",
       "      <td>Positive</td>\n",
       "      <td>0.700000</td>\n",
       "      <td>0.600000</td>\n",
       "    </tr>\n",
       "    <tr>\n",
       "      <th>49068</th>\n",
       "      <td>Free Dating App &amp; Flirt Chat - Cheers</td>\n",
       "      <td>Great chatting, interesting people chat</td>\n",
       "      <td>Positive</td>\n",
       "      <td>0.650000</td>\n",
       "      <td>0.625000</td>\n",
       "    </tr>\n",
       "    <tr>\n",
       "      <th>22020</th>\n",
       "      <td>Calorie Counter - MyFitnessPal</td>\n",
       "      <td>Great app, works! I'm guessing update last day...</td>\n",
       "      <td>Positive</td>\n",
       "      <td>0.194643</td>\n",
       "      <td>0.512798</td>\n",
       "    </tr>\n",
       "    <tr>\n",
       "      <th>62693</th>\n",
       "      <td>Home Scouting® MLS Mobile</td>\n",
       "      <td>You need password get in. Dumb.</td>\n",
       "      <td>Negative</td>\n",
       "      <td>-0.375000</td>\n",
       "      <td>0.500000</td>\n",
       "    </tr>\n",
       "    <tr>\n",
       "      <th>2911</th>\n",
       "      <td>AP Mobile - Breaking News</td>\n",
       "      <td>This best news far opinion. I tried many get u...</td>\n",
       "      <td>Positive</td>\n",
       "      <td>0.431250</td>\n",
       "      <td>0.550000</td>\n",
       "    </tr>\n",
       "  </tbody>\n",
       "</table>\n",
       "</div>"
      ],
      "text/plain": [
       "                                         App  \\\n",
       "59708                               Hangouts   \n",
       "49068  Free Dating App & Flirt Chat - Cheers   \n",
       "22020         Calorie Counter - MyFitnessPal   \n",
       "62693              Home Scouting® MLS Mobile   \n",
       "2911               AP Mobile - Breaking News   \n",
       "\n",
       "                                       Translated_Review Sentiment  \\\n",
       "59708  Doesn't work me... A friend suggested Hangouts...  Positive   \n",
       "49068            Great chatting, interesting people chat  Positive   \n",
       "22020  Great app, works! I'm guessing update last day...  Positive   \n",
       "62693                    You need password get in. Dumb.  Negative   \n",
       "2911   This best news far opinion. I tried many get u...  Positive   \n",
       "\n",
       "       Sentiment_Polarity  Sentiment_Subjectivity  \n",
       "59708            0.700000                0.600000  \n",
       "49068            0.650000                0.625000  \n",
       "22020            0.194643                0.512798  \n",
       "62693           -0.375000                0.500000  \n",
       "2911             0.431250                0.550000  "
      ]
     },
     "execution_count": 24,
     "metadata": {},
     "output_type": "execute_result"
    }
   ],
   "source": [
    "user_reviews.sample(5)"
   ]
  },
  {
   "cell_type": "code",
   "execution_count": 25,
   "id": "4e093d8e",
   "metadata": {
    "execution": {
     "iopub.execute_input": "2024-08-06T18:00:57.060619Z",
     "iopub.status.busy": "2024-08-06T18:00:57.060174Z",
     "iopub.status.idle": "2024-08-06T18:00:57.068761Z",
     "shell.execute_reply": "2024-08-06T18:00:57.067386Z"
    },
    "papermill": {
     "duration": 0.122812,
     "end_time": "2024-08-06T18:00:57.071542",
     "exception": false,
     "start_time": "2024-08-06T18:00:56.948730",
     "status": "completed"
    },
    "tags": []
   },
   "outputs": [
    {
     "data": {
      "text/plain": [
       "Index(['App', 'Translated_Review', 'Sentiment', 'Sentiment_Polarity',\n",
       "       'Sentiment_Subjectivity'],\n",
       "      dtype='object')"
      ]
     },
     "execution_count": 25,
     "metadata": {},
     "output_type": "execute_result"
    }
   ],
   "source": [
    "user_reviews.columns"
   ]
  },
  {
   "cell_type": "markdown",
   "id": "d45adb9c",
   "metadata": {
    "papermill": {
     "duration": 0.017507,
     "end_time": "2024-08-06T18:00:57.107057",
     "exception": false,
     "start_time": "2024-08-06T18:00:57.089550",
     "status": "completed"
    },
    "tags": []
   },
   "source": [
    "## Q) Which app categories have the highest average ratings and user reviews?\n"
   ]
  },
  {
   "cell_type": "code",
   "execution_count": 26,
   "id": "a90644f5",
   "metadata": {
    "execution": {
     "iopub.execute_input": "2024-08-06T18:00:57.145630Z",
     "iopub.status.busy": "2024-08-06T18:00:57.144595Z",
     "iopub.status.idle": "2024-08-06T18:00:57.154337Z",
     "shell.execute_reply": "2024-08-06T18:00:57.153213Z"
    },
    "papermill": {
     "duration": 0.032015,
     "end_time": "2024-08-06T18:00:57.157140",
     "exception": false,
     "start_time": "2024-08-06T18:00:57.125125",
     "status": "completed"
    },
    "tags": []
   },
   "outputs": [
    {
     "data": {
      "text/plain": [
       "array(['ART_AND_DESIGN', 'AUTO_AND_VEHICLES', 'BEAUTY',\n",
       "       'BOOKS_AND_REFERENCE', 'BUSINESS', 'COMICS', 'COMMUNICATION',\n",
       "       'DATING', 'EDUCATION', 'ENTERTAINMENT', 'EVENTS', 'FINANCE',\n",
       "       'FOOD_AND_DRINK', 'HEALTH_AND_FITNESS', 'HOUSE_AND_HOME',\n",
       "       'LIBRARIES_AND_DEMO', 'LIFESTYLE', 'GAME', 'FAMILY', 'MEDICAL',\n",
       "       'SOCIAL', 'SHOPPING', 'PHOTOGRAPHY', 'SPORTS', 'TRAVEL_AND_LOCAL',\n",
       "       'TOOLS', 'PERSONALIZATION', 'PRODUCTIVITY', 'PARENTING', 'WEATHER',\n",
       "       'VIDEO_PLAYERS', 'NEWS_AND_MAGAZINES', 'MAPS_AND_NAVIGATION'],\n",
       "      dtype=object)"
      ]
     },
     "execution_count": 26,
     "metadata": {},
     "output_type": "execute_result"
    }
   ],
   "source": [
    "playstore['Category'].unique()"
   ]
  },
  {
   "cell_type": "code",
   "execution_count": 27,
   "id": "c9ed8545",
   "metadata": {
    "execution": {
     "iopub.execute_input": "2024-08-06T18:00:57.196271Z",
     "iopub.status.busy": "2024-08-06T18:00:57.195224Z",
     "iopub.status.idle": "2024-08-06T18:00:57.683742Z",
     "shell.execute_reply": "2024-08-06T18:00:57.682348Z"
    },
    "papermill": {
     "duration": 0.51111,
     "end_time": "2024-08-06T18:00:57.686515",
     "exception": false,
     "start_time": "2024-08-06T18:00:57.175405",
     "status": "completed"
    },
    "tags": []
   },
   "outputs": [
    {
     "data": {
      "image/png": "[encoded data removed]",
      "text/plain": [
       "<Figure size 1000x600 with 1 Axes>"
      ]
     },
     "metadata": {},
     "output_type": "display_data"
    }
   ],
   "source": [
    "df = playstore.groupby('Category',as_index=False)['Rating'].mean().\\\n",
    "     sort_values(by=['Rating'],ascending = False).head(10)\n",
    "\n",
    "# sns.barplot(data=df, y='Category',x='Rating')\n",
    "# plt.title(\"Top 10 App Categories with Highest Average \")\n",
    "# plt.show()\n",
    "\n",
    "categories = df['Category'][::-1]\n",
    "ratings = df['Rating'][::-1]\n",
    "\n",
    "plt.figure(figsize=(10, 6))\n",
    "plt.barh(categories, ratings, color='skyblue')\n",
    "\n",
    "plt.xlabel('Average Ratings')\n",
    "plt.ylabel('App Categories')\n",
    "plt.title('Top 10 App Categories with Highest Average Ratings')\n",
    "\n",
    "# Show plot\n",
    "plt.show()"
   ]
  },
  {
   "cell_type": "code",
   "execution_count": 28,
   "id": "fc3c2907",
   "metadata": {
    "execution": {
     "iopub.execute_input": "2024-08-06T18:00:57.727908Z",
     "iopub.status.busy": "2024-08-06T18:00:57.727431Z",
     "iopub.status.idle": "2024-08-06T18:00:58.106655Z",
     "shell.execute_reply": "2024-08-06T18:00:58.105242Z"
    },
    "papermill": {
     "duration": 0.404274,
     "end_time": "2024-08-06T18:00:58.109725",
     "exception": false,
     "start_time": "2024-08-06T18:00:57.705451",
     "status": "completed"
    },
    "tags": []
   },
   "outputs": [
    {
     "data": {
      "image/png": "[encoded data removed]",
      "text/plain": [
       "<Figure size 1000x600 with 1 Axes>"
      ]
     },
     "metadata": {},
     "output_type": "display_data"
    }
   ],
   "source": [
    "df = playstore.groupby('Category',as_index=False)['Reviews'].mean().\\\n",
    "     sort_values(by='Reviews',ascending = False).head(10)\n",
    "\n",
    "# sns.barplot(data=df, y='Category',x='Reviews')\n",
    "# plt.title(\"Top 10 App Categories with Highest Average Reviews\")\n",
    "# plt.show()\n",
    "\n",
    "categories = df['Category'][::-1]\n",
    "reviews = df['Reviews'][::-1]\n",
    "\n",
    "plt.figure(figsize=(10, 6))\n",
    "plt.barh(categories, reviews, color='salmon')\n",
    "\n",
    "# Add labels and title\n",
    "plt.xlabel('Average Reviews')\n",
    "plt.ylabel('App Categories')\n",
    "plt.title('Top 10 App Categories with Highest Average Reviews')\n",
    "\n",
    "# Show plot\n",
    "plt.show()"
   ]
  },
  {
   "cell_type": "code",
   "execution_count": 29,
   "id": "fce975f9",
   "metadata": {
    "execution": {
     "iopub.execute_input": "2024-08-06T18:00:58.152034Z",
     "iopub.status.busy": "2024-08-06T18:00:58.151558Z",
     "iopub.status.idle": "2024-08-06T18:00:58.951853Z",
     "shell.execute_reply": "2024-08-06T18:00:58.950333Z"
    },
    "papermill": {
     "duration": 0.826338,
     "end_time": "2024-08-06T18:00:58.956043",
     "exception": false,
     "start_time": "2024-08-06T18:00:58.129705",
     "status": "completed"
    },
    "tags": []
   },
   "outputs": [
    {
     "data": {
      "image/png": "[encoded data removed]",
      "text/plain": [
       "<Figure size 1000x1000 with 1 Axes>"
      ]
     },
     "metadata": {},
     "output_type": "display_data"
    }
   ],
   "source": [
    "df = playstore.groupby('Category',as_index=False)[['Rating','Reviews']].mean().\\\n",
    "sort_values(by=['Reviews','Rating'],ascending = False)\n",
    "\n",
    "categories = df['Category'][::-1]\n",
    "ratings = df['Rating'][::-1]\n",
    "reviews = df['Reviews'][::-1]\n",
    "\n",
    "# Normalize the data\n",
    "ratings_norm = ratings / np.max(ratings)\n",
    "reviews_norm = reviews / np.max(reviews)\n",
    "\n",
    "# Create horizontal bar plot\n",
    "plt.figure(figsize=(10, 10))\n",
    "bar_width = 0.4\n",
    "index = np.arange(len(categories))\n",
    "\n",
    "\n",
    "plt.barh(index, ratings_norm, bar_width, color='skyblue', label='Average Ratings')\n",
    "plt.barh(index, reviews_norm, bar_width, color='salmon', label='Average Reviews', left=ratings_norm)\n",
    "\n",
    "# Add labels and title\n",
    "plt.xlabel('Normalized Average Ratings and Reviews')\n",
    "plt.ylabel('App Categories')\n",
    "plt.title('Top 10 App Categories with Highest Average Ratings and Reviews')\n",
    "plt.yticks(index, categories)\n",
    "plt.legend()\n",
    "\n",
    "# Show plot\n",
    "plt.show()"
   ]
  },
  {
   "cell_type": "markdown",
   "id": "1f0ad818",
   "metadata": {
    "papermill": {
     "duration": 0.02144,
     "end_time": "2024-08-06T18:00:58.999325",
     "exception": false,
     "start_time": "2024-08-06T18:00:58.977885",
     "status": "completed"
    },
    "tags": []
   },
   "source": [
    "While App with categories such as Events , Art & Designs and Education have the highest rating on average. It should also be mention that apps from categories like Social, Communication and Games have the highest Average Reviews accross all the categories.\n",
    "\n",
    "So the top categories are with alot of reviews and still have a relatively highest "
   ]
  },
  {
   "cell_type": "markdown",
   "id": "861b5f16",
   "metadata": {
    "papermill": {
     "duration": 0.021795,
     "end_time": "2024-08-06T18:00:59.044965",
     "exception": false,
     "start_time": "2024-08-06T18:00:59.023170",
     "status": "completed"
    },
    "tags": []
   },
   "source": [
    "### Q) What is the proportion of paid games versus free games in the dataset?"
   ]
  },
  {
   "cell_type": "code",
   "execution_count": 30,
   "id": "5f1ac34c",
   "metadata": {
    "execution": {
     "iopub.execute_input": "2024-08-06T18:00:59.090549Z",
     "iopub.status.busy": "2024-08-06T18:00:59.090126Z",
     "iopub.status.idle": "2024-08-06T18:00:59.293442Z",
     "shell.execute_reply": "2024-08-06T18:00:59.291484Z"
    },
    "papermill": {
     "duration": 0.2345,
     "end_time": "2024-08-06T18:00:59.301273",
     "exception": false,
     "start_time": "2024-08-06T18:00:59.066773",
     "status": "completed"
    },
    "tags": []
   },
   "outputs": [
    {
     "data": {
      "text/plain": [
       "<matplotlib.legend.Legend at 0x7966fd4235b0>"
      ]
     },
     "execution_count": 30,
     "metadata": {},
     "output_type": "execute_result"
    },
    {
     "data": {
      "image/png": "[encoded data removed]",
      "text/plain": [
       "<Figure size 640x480 with 1 Axes>"
      ]
     },
     "metadata": {},
     "output_type": "display_data"
    }
   ],
   "source": [
    "df = playstore['Type'].value_counts()\n",
    "labels = df.index\n",
    "plt.pie(df,labels = labels, autopct='%1.1f%%')\n",
    "plt.legend()"
   ]
  },
  {
   "cell_type": "code",
   "execution_count": 31,
   "id": "dcc4edfc",
   "metadata": {
    "execution": {
     "iopub.execute_input": "2024-08-06T18:00:59.371960Z",
     "iopub.status.busy": "2024-08-06T18:00:59.371572Z",
     "iopub.status.idle": "2024-08-06T18:00:59.390519Z",
     "shell.execute_reply": "2024-08-06T18:00:59.389290Z"
    },
    "papermill": {
     "duration": 0.045885,
     "end_time": "2024-08-06T18:00:59.393154",
     "exception": false,
     "start_time": "2024-08-06T18:00:59.347269",
     "status": "completed"
    },
    "tags": []
   },
   "outputs": [
    {
     "data": {
      "text/html": [
       "<div>\n",
       "<style scoped>\n",
       "    .dataframe tbody tr th:only-of-type {\n",
       "        vertical-align: middle;\n",
       "    }\n",
       "\n",
       "    .dataframe tbody tr th {\n",
       "        vertical-align: top;\n",
       "    }\n",
       "\n",
       "    .dataframe thead th {\n",
       "        text-align: right;\n",
       "    }\n",
       "</style>\n",
       "<table border=\"1\" class=\"dataframe\">\n",
       "  <thead>\n",
       "    <tr style=\"text-align: right;\">\n",
       "      <th></th>\n",
       "      <th>Category</th>\n",
       "      <th>Last Updated</th>\n",
       "      <th>Genres</th>\n",
       "    </tr>\n",
       "  </thead>\n",
       "  <tbody>\n",
       "    <tr>\n",
       "      <th>0</th>\n",
       "      <td>ART_AND_DESIGN</td>\n",
       "      <td>2018-01-07</td>\n",
       "      <td>Art &amp; Design</td>\n",
       "    </tr>\n",
       "    <tr>\n",
       "      <th>1</th>\n",
       "      <td>ART_AND_DESIGN</td>\n",
       "      <td>2018-01-15</td>\n",
       "      <td>Art &amp; Design;Pretend Play</td>\n",
       "    </tr>\n",
       "    <tr>\n",
       "      <th>2</th>\n",
       "      <td>ART_AND_DESIGN</td>\n",
       "      <td>2018-08-01</td>\n",
       "      <td>Art &amp; Design</td>\n",
       "    </tr>\n",
       "    <tr>\n",
       "      <th>3</th>\n",
       "      <td>ART_AND_DESIGN</td>\n",
       "      <td>2018-06-08</td>\n",
       "      <td>Art &amp; Design</td>\n",
       "    </tr>\n",
       "    <tr>\n",
       "      <th>4</th>\n",
       "      <td>ART_AND_DESIGN</td>\n",
       "      <td>2018-06-20</td>\n",
       "      <td>Art &amp; Design;Creativity</td>\n",
       "    </tr>\n",
       "  </tbody>\n",
       "</table>\n",
       "</div>"
      ],
      "text/plain": [
       "         Category Last Updated                     Genres\n",
       "0  ART_AND_DESIGN   2018-01-07               Art & Design\n",
       "1  ART_AND_DESIGN   2018-01-15  Art & Design;Pretend Play\n",
       "2  ART_AND_DESIGN   2018-08-01               Art & Design\n",
       "3  ART_AND_DESIGN   2018-06-08               Art & Design\n",
       "4  ART_AND_DESIGN   2018-06-20    Art & Design;Creativity"
      ]
     },
     "execution_count": 31,
     "metadata": {},
     "output_type": "execute_result"
    }
   ],
   "source": [
    "df = playstore.copy()\n",
    "df= df[['Category','Last Updated','Genres']]\n",
    "df.head()"
   ]
  },
  {
   "cell_type": "code",
   "execution_count": 32,
   "id": "f1de3625",
   "metadata": {
    "execution": {
     "iopub.execute_input": "2024-08-06T18:00:59.439769Z",
     "iopub.status.busy": "2024-08-06T18:00:59.439293Z",
     "iopub.status.idle": "2024-08-06T18:00:59.456305Z",
     "shell.execute_reply": "2024-08-06T18:00:59.454905Z"
    },
    "papermill": {
     "duration": 0.043714,
     "end_time": "2024-08-06T18:00:59.459110",
     "exception": false,
     "start_time": "2024-08-06T18:00:59.415396",
     "status": "completed"
    },
    "tags": []
   },
   "outputs": [
    {
     "data": {
      "text/html": [
       "<div>\n",
       "<style scoped>\n",
       "    .dataframe tbody tr th:only-of-type {\n",
       "        vertical-align: middle;\n",
       "    }\n",
       "\n",
       "    .dataframe tbody tr th {\n",
       "        vertical-align: top;\n",
       "    }\n",
       "\n",
       "    .dataframe thead th {\n",
       "        text-align: right;\n",
       "    }\n",
       "</style>\n",
       "<table border=\"1\" class=\"dataframe\">\n",
       "  <thead>\n",
       "    <tr style=\"text-align: right;\">\n",
       "      <th></th>\n",
       "      <th>Category</th>\n",
       "      <th>Last Updated</th>\n",
       "      <th>Genres</th>\n",
       "      <th>Year</th>\n",
       "    </tr>\n",
       "  </thead>\n",
       "  <tbody>\n",
       "    <tr>\n",
       "      <th>0</th>\n",
       "      <td>ART_AND_DESIGN</td>\n",
       "      <td>2018-01-07</td>\n",
       "      <td>Art &amp; Design</td>\n",
       "      <td>2018</td>\n",
       "    </tr>\n",
       "    <tr>\n",
       "      <th>1</th>\n",
       "      <td>ART_AND_DESIGN</td>\n",
       "      <td>2018-01-15</td>\n",
       "      <td>Art &amp; Design;Pretend Play</td>\n",
       "      <td>2018</td>\n",
       "    </tr>\n",
       "    <tr>\n",
       "      <th>2</th>\n",
       "      <td>ART_AND_DESIGN</td>\n",
       "      <td>2018-08-01</td>\n",
       "      <td>Art &amp; Design</td>\n",
       "      <td>2018</td>\n",
       "    </tr>\n",
       "    <tr>\n",
       "      <th>3</th>\n",
       "      <td>ART_AND_DESIGN</td>\n",
       "      <td>2018-06-08</td>\n",
       "      <td>Art &amp; Design</td>\n",
       "      <td>2018</td>\n",
       "    </tr>\n",
       "    <tr>\n",
       "      <th>4</th>\n",
       "      <td>ART_AND_DESIGN</td>\n",
       "      <td>2018-06-20</td>\n",
       "      <td>Art &amp; Design;Creativity</td>\n",
       "      <td>2018</td>\n",
       "    </tr>\n",
       "  </tbody>\n",
       "</table>\n",
       "</div>"
      ],
      "text/plain": [
       "         Category Last Updated                     Genres  Year\n",
       "0  ART_AND_DESIGN   2018-01-07               Art & Design  2018\n",
       "1  ART_AND_DESIGN   2018-01-15  Art & Design;Pretend Play  2018\n",
       "2  ART_AND_DESIGN   2018-08-01               Art & Design  2018\n",
       "3  ART_AND_DESIGN   2018-06-08               Art & Design  2018\n",
       "4  ART_AND_DESIGN   2018-06-20    Art & Design;Creativity  2018"
      ]
     },
     "execution_count": 32,
     "metadata": {},
     "output_type": "execute_result"
    }
   ],
   "source": [
    "df['Year'] = df['Last Updated'].dt.year\n",
    "df.head()"
   ]
  },
  {
   "cell_type": "code",
   "execution_count": 33,
   "id": "01ad5a19",
   "metadata": {
    "execution": {
     "iopub.execute_input": "2024-08-06T18:00:59.504963Z",
     "iopub.status.busy": "2024-08-06T18:00:59.504421Z",
     "iopub.status.idle": "2024-08-06T18:00:59.527283Z",
     "shell.execute_reply": "2024-08-06T18:00:59.525824Z"
    },
    "papermill": {
     "duration": 0.049221,
     "end_time": "2024-08-06T18:00:59.530098",
     "exception": false,
     "start_time": "2024-08-06T18:00:59.480877",
     "status": "completed"
    },
    "tags": []
   },
   "outputs": [
    {
     "data": {
      "text/html": [
       "<div>\n",
       "<style scoped>\n",
       "    .dataframe tbody tr th:only-of-type {\n",
       "        vertical-align: middle;\n",
       "    }\n",
       "\n",
       "    .dataframe tbody tr th {\n",
       "        vertical-align: top;\n",
       "    }\n",
       "\n",
       "    .dataframe thead th {\n",
       "        text-align: right;\n",
       "    }\n",
       "</style>\n",
       "<table border=\"1\" class=\"dataframe\">\n",
       "  <thead>\n",
       "    <tr style=\"text-align: right;\">\n",
       "      <th></th>\n",
       "      <th></th>\n",
       "      <th>Last Updated</th>\n",
       "      <th>Genres</th>\n",
       "    </tr>\n",
       "    <tr>\n",
       "      <th>Category</th>\n",
       "      <th>Year</th>\n",
       "      <th></th>\n",
       "      <th></th>\n",
       "    </tr>\n",
       "  </thead>\n",
       "  <tbody>\n",
       "    <tr>\n",
       "      <th rowspan=\"7\" valign=\"top\">COMMUNICATION</th>\n",
       "      <th>2012</th>\n",
       "      <td>1</td>\n",
       "      <td>1</td>\n",
       "    </tr>\n",
       "    <tr>\n",
       "      <th>2013</th>\n",
       "      <td>3</td>\n",
       "      <td>3</td>\n",
       "    </tr>\n",
       "    <tr>\n",
       "      <th>2014</th>\n",
       "      <td>10</td>\n",
       "      <td>10</td>\n",
       "    </tr>\n",
       "    <tr>\n",
       "      <th>2015</th>\n",
       "      <td>19</td>\n",
       "      <td>19</td>\n",
       "    </tr>\n",
       "    <tr>\n",
       "      <th>2016</th>\n",
       "      <td>22</td>\n",
       "      <td>22</td>\n",
       "    </tr>\n",
       "    <tr>\n",
       "      <th>2017</th>\n",
       "      <td>56</td>\n",
       "      <td>56</td>\n",
       "    </tr>\n",
       "    <tr>\n",
       "      <th>2018</th>\n",
       "      <td>205</td>\n",
       "      <td>205</td>\n",
       "    </tr>\n",
       "    <tr>\n",
       "      <th rowspan=\"8\" valign=\"top\">GAME</th>\n",
       "      <th>2011</th>\n",
       "      <td>4</td>\n",
       "      <td>4</td>\n",
       "    </tr>\n",
       "    <tr>\n",
       "      <th>2012</th>\n",
       "      <td>2</td>\n",
       "      <td>2</td>\n",
       "    </tr>\n",
       "    <tr>\n",
       "      <th>2013</th>\n",
       "      <td>18</td>\n",
       "      <td>18</td>\n",
       "    </tr>\n",
       "    <tr>\n",
       "      <th>2014</th>\n",
       "      <td>26</td>\n",
       "      <td>26</td>\n",
       "    </tr>\n",
       "    <tr>\n",
       "      <th>2015</th>\n",
       "      <td>62</td>\n",
       "      <td>62</td>\n",
       "    </tr>\n",
       "    <tr>\n",
       "      <th>2016</th>\n",
       "      <td>79</td>\n",
       "      <td>79</td>\n",
       "    </tr>\n",
       "    <tr>\n",
       "      <th>2017</th>\n",
       "      <td>175</td>\n",
       "      <td>175</td>\n",
       "    </tr>\n",
       "    <tr>\n",
       "      <th>2018</th>\n",
       "      <td>597</td>\n",
       "      <td>597</td>\n",
       "    </tr>\n",
       "    <tr>\n",
       "      <th rowspan=\"6\" valign=\"top\">SOCIAL</th>\n",
       "      <th>2013</th>\n",
       "      <td>2</td>\n",
       "      <td>2</td>\n",
       "    </tr>\n",
       "    <tr>\n",
       "      <th>2014</th>\n",
       "      <td>4</td>\n",
       "      <td>4</td>\n",
       "    </tr>\n",
       "    <tr>\n",
       "      <th>2015</th>\n",
       "      <td>9</td>\n",
       "      <td>9</td>\n",
       "    </tr>\n",
       "    <tr>\n",
       "      <th>2016</th>\n",
       "      <td>17</td>\n",
       "      <td>17</td>\n",
       "    </tr>\n",
       "    <tr>\n",
       "      <th>2017</th>\n",
       "      <td>36</td>\n",
       "      <td>36</td>\n",
       "    </tr>\n",
       "    <tr>\n",
       "      <th>2018</th>\n",
       "      <td>171</td>\n",
       "      <td>171</td>\n",
       "    </tr>\n",
       "  </tbody>\n",
       "</table>\n",
       "</div>"
      ],
      "text/plain": [
       "                    Last Updated  Genres\n",
       "Category      Year                      \n",
       "COMMUNICATION 2012             1       1\n",
       "              2013             3       3\n",
       "              2014            10      10\n",
       "              2015            19      19\n",
       "              2016            22      22\n",
       "              2017            56      56\n",
       "              2018           205     205\n",
       "GAME          2011             4       4\n",
       "              2012             2       2\n",
       "              2013            18      18\n",
       "              2014            26      26\n",
       "              2015            62      62\n",
       "              2016            79      79\n",
       "              2017           175     175\n",
       "              2018           597     597\n",
       "SOCIAL        2013             2       2\n",
       "              2014             4       4\n",
       "              2015             9       9\n",
       "              2016            17      17\n",
       "              2017            36      36\n",
       "              2018           171     171"
      ]
     },
     "execution_count": 33,
     "metadata": {},
     "output_type": "execute_result"
    }
   ],
   "source": [
    "df[df['Category'].isin(['GAME','COMMUNICATION','SOCIAL']) ].groupby(['Category','Year']).count()"
   ]
  },
  {
   "cell_type": "markdown",
   "id": "4ffa3ec2",
   "metadata": {
    "papermill": {
     "duration": 0.02196,
     "end_time": "2024-08-06T18:00:59.574146",
     "exception": false,
     "start_time": "2024-08-06T18:00:59.552186",
     "status": "completed"
    },
    "tags": []
   },
   "source": [
    "Q) Which app categories have the highest average ratings and user reviews? <br>\n",
    "Q) What is the current trend? (narrowing app release date after 2020s <br>\n",
    "Q) Free vs Paid <br>\n",
    "Q) If paid - what is the most use category. (under 5$ , 5-10 , 10-15 ...) <br>\n",
    "       -  which cateory has better reviews. (ik it doesnt but sometimes price do affect ones mind) <br>\n",
    "Q) Pick 3 most cateories. according to trend and see what kind of apps do they make. <br>\n",
    "         - what i am saying is one cat gaming has many genres in itself so which one popping the most. <br>\n"
   ]
  },
  {
   "cell_type": "code",
   "execution_count": null,
   "id": "dd9775a9",
   "metadata": {
    "papermill": {
     "duration": 0.0219,
     "end_time": "2024-08-06T18:00:59.618485",
     "exception": false,
     "start_time": "2024-08-06T18:00:59.596585",
     "status": "completed"
    },
    "tags": []
   },
   "outputs": [],
   "source": []
  }
 ],
 "metadata": {
  "kaggle": {
   "accelerator": "none",
   "dataSources": [
    {
     "datasetId": 49864,
     "sourceId": 274957,
     "sourceType": "datasetVersion"
    }
   ],
   "dockerImageVersionId": 30698,
   "isGpuEnabled": false,
   "isInternetEnabled": true,
   "language": "python",
   "sourceType": "notebook"
  },
  "kernelspec": {
   "display_name": "Python 3",
   "language": "python",
   "name": "python3"
  },
  "language_info": {
   "codemirror_mode": {
    "name": "ipython",
    "version": 3
   },
   "file_extension": ".py",
   "mimetype": "text/x-python",
   "name": "python",
   "nbconvert_exporter": "python",
   "pygments_lexer": "ipython3",
   "version": "3.10.13"
  },
  "papermill": {
   "default_parameters": {},
   "duration": 11.404047,
   "end_time": "2024-08-06T18:01:00.364420",
   "environment_variables": {},
   "exception": null,
   "input_path": "__notebook__.ipynb",
   "output_path": "__notebook__.ipynb",
   "parameters": {},
   "start_time": "2024-08-06T18:00:48.960373",
   "version": "2.5.0"
  }
 },
 "nbformat": 4,
 "nbformat_minor": 5
}
